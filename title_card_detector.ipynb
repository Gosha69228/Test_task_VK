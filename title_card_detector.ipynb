{
 "cells": [
  {
   "metadata": {},
   "cell_type": "markdown",
   "source": [
    "# Профильное задание в ВК\n",
    "Требовалось разработать метод поиска коротких заставок в сериалах.\n",
    "\n",
    "Заставка сериала — повторяющийся от серии к серии фрагмент, который связан с представлением данного сериала. Они бывают от нескольких секунд до минут. Здесь нас интересует только короткий вариант заставки, где обычно только показывают название сериала. Нам надо определить время начала и конца такой заставки.\n",
    "\n",
    "Подход, идеи и пайплайн описаны в README. Здесь только краткие комментарии и заголовки каждого блока =)"
   ],
   "id": "8a77807f92f26ee"
  },
  {
   "metadata": {
    "ExecuteTime": {
     "end_time": "2025-06-16T14:54:46.297149Z",
     "start_time": "2025-06-16T14:54:37.735893Z"
    }
   },
   "cell_type": "code",
   "source": [
    "import os\n",
    "import json\n",
    "import numpy as np\n",
    "from moviepy import VideoFileClip\n",
    "import torch\n",
    "import torchvision.transforms as T\n",
    "import torchvision.models as models\n",
    "import cv2\n",
    "from tqdm import tqdm\n"
   ],
   "id": "7df9140457caed5e",
   "outputs": [],
   "execution_count": 2
  },
  {
   "metadata": {
    "ExecuteTime": {
     "end_time": "2025-06-16T14:54:46.312782Z",
     "start_time": "2025-06-16T14:54:46.297149Z"
    }
   },
   "cell_type": "code",
   "source": [
    "# Настройки\n",
    "input_dir = \"movie_dir\"  # Папка с видео\n",
    "json_path = \"merged_labels.json\"  # Аннотации\n",
    "output_dir = \"features_dataset\"  # Куда сохранять\n",
    "max_duration = 14 * 60"
   ],
   "id": "3d8fdda409a98ba9",
   "outputs": [],
   "execution_count": 3
  },
  {
   "metadata": {
    "ExecuteTime": {
     "end_time": "2025-06-16T14:54:48.874123Z",
     "start_time": "2025-06-16T14:54:48.524988Z"
    }
   },
   "cell_type": "code",
   "source": [
    "# Загружаем модель ResNet\n",
    "weights = models.ResNet18_Weights.DEFAULT\n",
    "model = models.resnet18(weights=weights)\n",
    "model.eval()\n",
    "\n",
    "# Трансформации для входного кадра\n",
    "transform = T.Compose([\n",
    "    T.ToPILImage(),\n",
    "    T.Resize((224, 224)),\n",
    "    T.ToTensor(),\n",
    "    weights.transforms()\n",
    "])"
   ],
   "id": "71be1b41ee19ec50",
   "outputs": [],
   "execution_count": 4
  },
  {
   "metadata": {
    "ExecuteTime": {
     "end_time": "2025-06-16T14:54:50.946163Z",
     "start_time": "2025-06-16T14:54:50.928347Z"
    }
   },
   "cell_type": "code",
   "source": [
    "def time_to_seconds(time_str):\n",
    "    # time_str формат \"0:00:05\"\n",
    "    h, m, s = map(int, time_str.split(\":\"))\n",
    "    return h * 3600 + m * 60 + s\n",
    "\n",
    "# функция получения метки (Positive/Negative) для каждой секунды\n",
    "def get_label_for_second(video_id, sec, annotations):\n",
    "    start_sec = time_to_seconds(annotations[video_id][\"start\"])\n",
    "    end_sec = time_to_seconds(annotations[video_id][\"end\"])\n",
    "    if start_sec <= sec < end_sec:\n",
    "        return 1\n",
    "    else:\n",
    "        return 0\n",
    "\n",
    "# функция для сохранения признаков с целевыми метками\n",
    "def save_features_labels(video_id, features, labels):\n",
    "    save_path = os.path.join(output_dir, f\"{video_id}.pt\")\n",
    "    torch.save({'features': features, 'labels': labels}, save_path)\n",
    "    print(f\"Сохранил признаки и метки для {video_id} в {save_path}\")\n"
   ],
   "id": "cd8ee2c4bef83d8a",
   "outputs": [],
   "execution_count": 5
  },
  {
   "metadata": {
    "ExecuteTime": {
     "end_time": "2025-06-16T14:54:53.155073Z",
     "start_time": "2025-06-16T14:54:53.134088Z"
    }
   },
   "cell_type": "code",
   "source": [
    "with open(json_path, \"r\", encoding=\"utf-8\") as f:\n",
    "    annotations = json.load(f)"
   ],
   "id": "fdac37e2550924b",
   "outputs": [],
   "execution_count": 6
  },
  {
   "metadata": {
    "ExecuteTime": {
     "end_time": "2025-06-13T19:14:12.390769Z",
     "start_time": "2025-06-13T16:12:30.001406Z"
    }
   },
   "cell_type": "code",
   "source": [
    "# цикл обработки каждого видео в признаковое пространство (1 видео поврежденное 😢 (серия сериала Звездный путь), однако даже так, модель на нем предскажет удовлетворяющий результат)\n",
    "for video_id in tqdm(annotations.keys()):\n",
    "    video_path = os.path.join(input_dir, video_id, f\"{video_id}.mp4\")\n",
    "    with VideoFileClip(video_path) as clip:\n",
    "        duration = min(clip.duration, max_duration)\n",
    "        video_features = []\n",
    "        video_labels = []\n",
    "\n",
    "        for sec in range(int(duration)):\n",
    "            frame = clip.get_frame(sec)\n",
    "            frame_tensor = transform(frame).unsqueeze(0)\n",
    "\n",
    "            with torch.no_grad():\n",
    "                feats = model(frame_tensor) \n",
    "\n",
    "            video_features.append(feats.squeeze(0)) \n",
    "            label = get_label_for_second(video_id, sec, annotations)\n",
    "            video_labels.append(label)\n",
    "\n",
    "        features_tensor = torch.stack(video_features) \n",
    "        labels_tensor = torch.tensor(video_labels)  \n",
    "\n",
    "        # Сохраняем признаки и метки\n",
    "        save_features_labels(video_id, features_tensor, labels_tensor)\n",
    "\n",
    "print(\"Обработка завершена.\")"
   ],
   "id": "6a85b08224775018",
   "outputs": [
    {
     "name": "stderr",
     "output_type": "stream",
     "text": [
      "  1%|          | 1/110 [01:57<3:34:17, 117.96s/it]"
     ]
    },
    {
     "name": "stdout",
     "output_type": "stream",
     "text": [
      "Сохранил признаки и метки для -220020068_456249220 в features_dataset\\-220020068_456249220.pt\n"
     ]
    },
    {
     "name": "stderr",
     "output_type": "stream",
     "text": [
      "  2%|▏         | 2/110 [04:05<3:42:26, 123.58s/it]"
     ]
    },
    {
     "name": "stdout",
     "output_type": "stream",
     "text": [
      "Сохранил признаки и метки для -220020068_456249373 в features_dataset\\-220020068_456249373.pt\n"
     ]
    },
    {
     "name": "stderr",
     "output_type": "stream",
     "text": [
      "  3%|▎         | 3/110 [05:21<3:01:51, 101.98s/it]"
     ]
    },
    {
     "name": "stdout",
     "output_type": "stream",
     "text": [
      "Сохранил признаки и метки для -220020068_456249231 в features_dataset\\-220020068_456249231.pt\n"
     ]
    },
    {
     "name": "stderr",
     "output_type": "stream",
     "text": [
      "  4%|▎         | 4/110 [06:38<2:42:21, 91.90s/it] "
     ]
    },
    {
     "name": "stdout",
     "output_type": "stream",
     "text": [
      "Сохранил признаки и метки для -220020068_456255339 в features_dataset\\-220020068_456255339.pt\n"
     ]
    },
    {
     "name": "stderr",
     "output_type": "stream",
     "text": [
      "  5%|▍         | 5/110 [08:46<3:04:05, 105.20s/it]"
     ]
    },
    {
     "name": "stdout",
     "output_type": "stream",
     "text": [
      "Сохранил признаки и метки для -220020068_456249284 в features_dataset\\-220020068_456249284.pt\n"
     ]
    },
    {
     "name": "stderr",
     "output_type": "stream",
     "text": [
      "  5%|▌         | 6/110 [10:05<2:46:30, 96.06s/it] "
     ]
    },
    {
     "name": "stdout",
     "output_type": "stream",
     "text": [
      "Сохранил признаки и метки для -220020068_456241671 в features_dataset\\-220020068_456241671.pt\n"
     ]
    },
    {
     "name": "stderr",
     "output_type": "stream",
     "text": [
      "  6%|▋         | 7/110 [11:24<2:35:30, 90.59s/it]"
     ]
    },
    {
     "name": "stdout",
     "output_type": "stream",
     "text": [
      "Сохранил признаки и метки для -220020068_456249192 в features_dataset\\-220020068_456249192.pt\n"
     ]
    },
    {
     "name": "stderr",
     "output_type": "stream",
     "text": [
      "  7%|▋         | 8/110 [13:32<2:54:24, 102.59s/it]"
     ]
    },
    {
     "name": "stdout",
     "output_type": "stream",
     "text": [
      "Сохранил признаки и метки для -220020068_456249257 в features_dataset\\-220020068_456249257.pt\n"
     ]
    },
    {
     "name": "stderr",
     "output_type": "stream",
     "text": [
      "  8%|▊         | 9/110 [15:43<3:07:36, 111.45s/it]"
     ]
    },
    {
     "name": "stdout",
     "output_type": "stream",
     "text": [
      "Сохранил признаки и метки для -220020068_456249375 в features_dataset\\-220020068_456249375.pt\n"
     ]
    },
    {
     "name": "stderr",
     "output_type": "stream",
     "text": [
      "  9%|▉         | 10/110 [17:00<2:48:02, 100.82s/it]"
     ]
    },
    {
     "name": "stdout",
     "output_type": "stream",
     "text": [
      "Сохранил признаки и метки для -220020068_456256475 в features_dataset\\-220020068_456256475.pt\n"
     ]
    },
    {
     "name": "stderr",
     "output_type": "stream",
     "text": [
      " 10%|█         | 11/110 [18:18<2:34:36, 93.70s/it] "
     ]
    },
    {
     "name": "stdout",
     "output_type": "stream",
     "text": [
      "Сохранил признаки и метки для -220020068_456249206 в features_dataset\\-220020068_456249206.pt\n"
     ]
    },
    {
     "name": "stderr",
     "output_type": "stream",
     "text": [
      " 11%|█         | 12/110 [20:28<2:51:03, 104.73s/it]"
     ]
    },
    {
     "name": "stdout",
     "output_type": "stream",
     "text": [
      "Сохранил признаки и метки для -220020068_456249376 в features_dataset\\-220020068_456249376.pt\n"
     ]
    },
    {
     "name": "stderr",
     "output_type": "stream",
     "text": [
      " 12%|█▏        | 13/110 [21:45<2:35:48, 96.38s/it] "
     ]
    },
    {
     "name": "stdout",
     "output_type": "stream",
     "text": [
      "Сохранил признаки и метки для -220020068_456241758 в features_dataset\\-220020068_456241758.pt\n"
     ]
    },
    {
     "name": "stderr",
     "output_type": "stream",
     "text": [
      " 13%|█▎        | 14/110 [23:58<2:51:42, 107.31s/it]"
     ]
    },
    {
     "name": "stdout",
     "output_type": "stream",
     "text": [
      "Сохранил признаки и метки для -220020068_456249243 в features_dataset\\-220020068_456249243.pt\n"
     ]
    },
    {
     "name": "stderr",
     "output_type": "stream",
     "text": [
      " 14%|█▎        | 15/110 [26:08<3:01:06, 114.38s/it]"
     ]
    },
    {
     "name": "stdout",
     "output_type": "stream",
     "text": [
      "Сохранил признаки и метки для -220020068_456249344 в features_dataset\\-220020068_456249344.pt\n"
     ]
    },
    {
     "name": "stderr",
     "output_type": "stream",
     "text": [
      " 15%|█▍        | 16/110 [27:29<2:43:14, 104.20s/it]"
     ]
    },
    {
     "name": "stdout",
     "output_type": "stream",
     "text": [
      "Сохранил признаки и метки для -220020068_456249716 в features_dataset\\-220020068_456249716.pt\n"
     ]
    },
    {
     "name": "stderr",
     "output_type": "stream",
     "text": [
      " 15%|█▌        | 17/110 [28:44<2:27:44, 95.32s/it] "
     ]
    },
    {
     "name": "stdout",
     "output_type": "stream",
     "text": [
      "Сохранил признаки и метки для -220020068_456249259 в features_dataset\\-220020068_456249259.pt\n"
     ]
    },
    {
     "name": "stderr",
     "output_type": "stream",
     "text": [
      " 16%|█▋        | 18/110 [29:59<2:16:47, 89.21s/it]"
     ]
    },
    {
     "name": "stdout",
     "output_type": "stream",
     "text": [
      "Сохранил признаки и метки для -220020068_456255389 в features_dataset\\-220020068_456255389.pt\n"
     ]
    },
    {
     "name": "stderr",
     "output_type": "stream",
     "text": [
      " 17%|█▋        | 19/110 [31:13<2:08:20, 84.62s/it]"
     ]
    },
    {
     "name": "stdout",
     "output_type": "stream",
     "text": [
      "Сохранил признаки и метки для -220020068_456249720 в features_dataset\\-220020068_456249720.pt\n"
     ]
    },
    {
     "name": "stderr",
     "output_type": "stream",
     "text": [
      " 18%|█▊        | 20/110 [33:15<2:23:54, 95.94s/it]"
     ]
    },
    {
     "name": "stdout",
     "output_type": "stream",
     "text": [
      "Сохранил признаки и метки для -220020068_456249272 в features_dataset\\-220020068_456249272.pt\n"
     ]
    },
    {
     "name": "stderr",
     "output_type": "stream",
     "text": [
      " 19%|█▉        | 21/110 [35:28<2:38:49, 107.07s/it]"
     ]
    },
    {
     "name": "stdout",
     "output_type": "stream",
     "text": [
      "Сохранил признаки и метки для -220020068_456249318 в features_dataset\\-220020068_456249318.pt\n"
     ]
    },
    {
     "name": "stderr",
     "output_type": "stream",
     "text": [
      " 20%|██        | 22/110 [37:44<2:49:54, 115.85s/it]"
     ]
    },
    {
     "name": "stdout",
     "output_type": "stream",
     "text": [
      "Сохранил признаки и метки для -220020068_456249222 в features_dataset\\-220020068_456249222.pt\n"
     ]
    },
    {
     "name": "stderr",
     "output_type": "stream",
     "text": [
      " 21%|██        | 23/110 [40:36<3:12:32, 132.78s/it]"
     ]
    },
    {
     "name": "stdout",
     "output_type": "stream",
     "text": [
      "Сохранил признаки и метки для -220020068_456249358 в features_dataset\\-220020068_456249358.pt\n"
     ]
    },
    {
     "name": "stderr",
     "output_type": "stream",
     "text": [
      " 22%|██▏       | 24/110 [43:32<3:28:54, 145.76s/it]"
     ]
    },
    {
     "name": "stdout",
     "output_type": "stream",
     "text": [
      "Сохранил признаки и метки для -220020068_456249204 в features_dataset\\-220020068_456249204.pt\n"
     ]
    },
    {
     "name": "stderr",
     "output_type": "stream",
     "text": [
      " 23%|██▎       | 25/110 [46:23<3:36:48, 153.04s/it]"
     ]
    },
    {
     "name": "stdout",
     "output_type": "stream",
     "text": [
      "Сохранил признаки и метки для -220020068_456249309 в features_dataset\\-220020068_456249309.pt\n"
     ]
    },
    {
     "name": "stderr",
     "output_type": "stream",
     "text": [
      " 24%|██▎       | 26/110 [48:02<3:11:57, 137.11s/it]"
     ]
    },
    {
     "name": "stdout",
     "output_type": "stream",
     "text": [
      "Сохранил признаки и метки для -220020068_456255346 в features_dataset\\-220020068_456255346.pt\n"
     ]
    },
    {
     "name": "stderr",
     "output_type": "stream",
     "text": [
      " 25%|██▍       | 27/110 [50:49<3:21:56, 145.98s/it]"
     ]
    },
    {
     "name": "stdout",
     "output_type": "stream",
     "text": [
      "Сохранил признаки и метки для -220020068_456249214 в features_dataset\\-220020068_456249214.pt\n"
     ]
    },
    {
     "name": "stderr",
     "output_type": "stream",
     "text": [
      " 25%|██▌       | 28/110 [53:40<3:29:43, 153.46s/it]"
     ]
    },
    {
     "name": "stdout",
     "output_type": "stream",
     "text": [
      "Сохранил признаки и метки для -220020068_456249275 в features_dataset\\-220020068_456249275.pt\n"
     ]
    },
    {
     "name": "stderr",
     "output_type": "stream",
     "text": [
      " 26%|██▋       | 29/110 [55:22<3:06:19, 138.02s/it]"
     ]
    },
    {
     "name": "stdout",
     "output_type": "stream",
     "text": [
      "Сохранил признаки и метки для -220020068_456255393 в features_dataset\\-220020068_456255393.pt\n"
     ]
    },
    {
     "name": "stderr",
     "output_type": "stream",
     "text": [
      " 27%|██▋       | 30/110 [58:12<3:16:36, 147.45s/it]"
     ]
    },
    {
     "name": "stdout",
     "output_type": "stream",
     "text": [
      "Сохранил признаки и метки для -220020068_456249208 в features_dataset\\-220020068_456249208.pt\n"
     ]
    },
    {
     "name": "stderr",
     "output_type": "stream",
     "text": [
      " 28%|██▊       | 31/110 [1:00:59<3:22:04, 153.48s/it]"
     ]
    },
    {
     "name": "stdout",
     "output_type": "stream",
     "text": [
      "Сохранил признаки и метки для -220020068_456249368 в features_dataset\\-220020068_456249368.pt\n"
     ]
    },
    {
     "name": "stderr",
     "output_type": "stream",
     "text": [
      " 29%|██▉       | 32/110 [1:02:38<2:58:19, 137.18s/it]"
     ]
    },
    {
     "name": "stdout",
     "output_type": "stream",
     "text": [
      "Сохранил признаки и метки для -220020068_456257137 в features_dataset\\-220020068_456257137.pt\n"
     ]
    },
    {
     "name": "stderr",
     "output_type": "stream",
     "text": [
      " 30%|███       | 33/110 [1:05:28<3:08:28, 146.86s/it]"
     ]
    },
    {
     "name": "stdout",
     "output_type": "stream",
     "text": [
      "Сохранил признаки и метки для -220020068_456249216 в features_dataset\\-220020068_456249216.pt\n"
     ]
    },
    {
     "name": "stderr",
     "output_type": "stream",
     "text": [
      " 31%|███       | 34/110 [1:07:06<2:47:33, 132.28s/it]"
     ]
    },
    {
     "name": "stdout",
     "output_type": "stream",
     "text": [
      "Сохранил признаки и метки для -220020068_456249350 в features_dataset\\-220020068_456249350.pt\n"
     ]
    },
    {
     "name": "stderr",
     "output_type": "stream",
     "text": [
      " 32%|███▏      | 35/110 [1:08:45<2:32:57, 122.36s/it]"
     ]
    },
    {
     "name": "stdout",
     "output_type": "stream",
     "text": [
      "Сохранил признаки и метки для -220020068_456255410 в features_dataset\\-220020068_456255410.pt\n"
     ]
    },
    {
     "name": "stderr",
     "output_type": "stream",
     "text": [
      " 33%|███▎      | 36/110 [1:11:32<2:47:19, 135.67s/it]"
     ]
    },
    {
     "name": "stdout",
     "output_type": "stream",
     "text": [
      "Сохранил признаки и метки для -220020068_456249313 в features_dataset\\-220020068_456249313.pt\n"
     ]
    },
    {
     "name": "stderr",
     "output_type": "stream",
     "text": [
      " 34%|███▎      | 37/110 [1:13:12<2:32:14, 125.13s/it]"
     ]
    },
    {
     "name": "stdout",
     "output_type": "stream",
     "text": [
      "Сохранил признаки и метки для -220020068_456255411 в features_dataset\\-220020068_456255411.pt\n"
     ]
    },
    {
     "name": "stderr",
     "output_type": "stream",
     "text": [
      " 35%|███▍      | 38/110 [1:15:59<2:45:00, 137.51s/it]"
     ]
    },
    {
     "name": "stdout",
     "output_type": "stream",
     "text": [
      "Сохранил признаки и метки для -220020068_456249211 в features_dataset\\-220020068_456249211.pt\n"
     ]
    },
    {
     "name": "stderr",
     "output_type": "stream",
     "text": [
      " 35%|███▌      | 39/110 [1:18:48<2:54:06, 147.13s/it]"
     ]
    },
    {
     "name": "stdout",
     "output_type": "stream",
     "text": [
      "Сохранил признаки и метки для -220020068_456249352 в features_dataset\\-220020068_456249352.pt\n"
     ]
    },
    {
     "name": "stderr",
     "output_type": "stream",
     "text": [
      " 36%|███▋      | 40/110 [1:21:38<2:59:29, 153.86s/it]"
     ]
    },
    {
     "name": "stdout",
     "output_type": "stream",
     "text": [
      "Сохранил признаки и метки для -220020068_456249219 в features_dataset\\-220020068_456249219.pt\n"
     ]
    },
    {
     "name": "stderr",
     "output_type": "stream",
     "text": [
      " 37%|███▋      | 41/110 [1:24:24<3:01:08, 157.51s/it]"
     ]
    },
    {
     "name": "stdout",
     "output_type": "stream",
     "text": [
      "Сохранил признаки и метки для -220020068_456249315 в features_dataset\\-220020068_456249315.pt\n"
     ]
    },
    {
     "name": "stderr",
     "output_type": "stream",
     "text": [
      " 38%|███▊      | 42/110 [1:26:02<2:38:16, 139.65s/it]"
     ]
    },
    {
     "name": "stdout",
     "output_type": "stream",
     "text": [
      "Сохранил признаки и метки для -220020068_456249692 в features_dataset\\-220020068_456249692.pt\n"
     ]
    },
    {
     "name": "stderr",
     "output_type": "stream",
     "text": [
      " 39%|███▉      | 43/110 [1:27:44<2:23:16, 128.30s/it]"
     ]
    },
    {
     "name": "stdout",
     "output_type": "stream",
     "text": [
      "Сохранил признаки и метки для -220020068_456255338 в features_dataset\\-220020068_456255338.pt\n"
     ]
    },
    {
     "name": "stderr",
     "output_type": "stream",
     "text": [
      " 40%|████      | 44/110 [1:29:23<2:11:24, 119.46s/it]"
     ]
    },
    {
     "name": "stdout",
     "output_type": "stream",
     "text": [
      "Сохранил признаки и метки для -220020068_456255399 в features_dataset\\-220020068_456255399.pt\n"
     ]
    },
    {
     "name": "stderr",
     "output_type": "stream",
     "text": [
      " 41%|████      | 45/110 [1:32:09<2:24:41, 133.56s/it]"
     ]
    },
    {
     "name": "stdout",
     "output_type": "stream",
     "text": [
      "Сохранил признаки и метки для -220020068_456249233 в features_dataset\\-220020068_456249233.pt\n"
     ]
    },
    {
     "name": "stderr",
     "output_type": "stream",
     "text": [
      " 42%|████▏     | 46/110 [1:33:44<2:10:03, 121.93s/it]"
     ]
    },
    {
     "name": "stdout",
     "output_type": "stream",
     "text": [
      "Сохранил признаки и метки для -220020068_456255414 в features_dataset\\-220020068_456255414.pt\n"
     ]
    },
    {
     "name": "stderr",
     "output_type": "stream",
     "text": [
      " 43%|████▎     | 47/110 [1:35:21<2:00:20, 114.61s/it]"
     ]
    },
    {
     "name": "stdout",
     "output_type": "stream",
     "text": [
      "Сохранил признаки и метки для -220020068_456249693 в features_dataset\\-220020068_456249693.pt\n"
     ]
    },
    {
     "name": "stderr",
     "output_type": "stream",
     "text": [
      " 44%|████▎     | 48/110 [1:36:57<1:52:24, 108.79s/it]"
     ]
    },
    {
     "name": "stdout",
     "output_type": "stream",
     "text": [
      "Сохранил признаки и метки для -220020068_456241755 в features_dataset\\-220020068_456241755.pt\n"
     ]
    },
    {
     "name": "stderr",
     "output_type": "stream",
     "text": [
      " 45%|████▍     | 49/110 [1:38:36<1:47:45, 105.99s/it]"
     ]
    },
    {
     "name": "stdout",
     "output_type": "stream",
     "text": [
      "Сохранил признаки и метки для -220020068_456255340 в features_dataset\\-220020068_456255340.pt\n"
     ]
    },
    {
     "name": "stderr",
     "output_type": "stream",
     "text": [
      " 45%|████▌     | 50/110 [1:40:15<1:43:47, 103.79s/it]"
     ]
    },
    {
     "name": "stdout",
     "output_type": "stream",
     "text": [
      "Сохранил признаки и метки для -220020068_456241756 в features_dataset\\-220020068_456241756.pt\n"
     ]
    },
    {
     "name": "stderr",
     "output_type": "stream",
     "text": [
      " 46%|████▋     | 51/110 [1:41:53<1:40:20, 102.04s/it]"
     ]
    },
    {
     "name": "stdout",
     "output_type": "stream",
     "text": [
      "Сохранил признаки и метки для -220020068_456256016 в features_dataset\\-220020068_456256016.pt\n"
     ]
    },
    {
     "name": "stderr",
     "output_type": "stream",
     "text": [
      " 47%|████▋     | 52/110 [1:43:31<1:37:28, 100.84s/it]"
     ]
    },
    {
     "name": "stdout",
     "output_type": "stream",
     "text": [
      "Сохранил признаки и метки для -220020068_456249732 в features_dataset\\-220020068_456249732.pt\n"
     ]
    },
    {
     "name": "stderr",
     "output_type": "stream",
     "text": [
      " 48%|████▊     | 53/110 [1:45:08<1:34:53, 99.88s/it] "
     ]
    },
    {
     "name": "stdout",
     "output_type": "stream",
     "text": [
      "Сохранил признаки и метки для -220020068_456255332 в features_dataset\\-220020068_456255332.pt\n"
     ]
    },
    {
     "name": "stderr",
     "output_type": "stream",
     "text": [
      " 49%|████▉     | 54/110 [1:46:44<1:31:54, 98.48s/it]"
     ]
    },
    {
     "name": "stdout",
     "output_type": "stream",
     "text": [
      "Сохранил признаки и метки для -220020068_456241672 в features_dataset\\-220020068_456241672.pt\n"
     ]
    },
    {
     "name": "stderr",
     "output_type": "stream",
     "text": [
      " 50%|█████     | 55/110 [1:48:22<1:30:08, 98.34s/it]"
     ]
    },
    {
     "name": "stdout",
     "output_type": "stream",
     "text": [
      "Сохранил признаки и метки для -220020068_456255341 в features_dataset\\-220020068_456255341.pt\n"
     ]
    },
    {
     "name": "stderr",
     "output_type": "stream",
     "text": [
      " 51%|█████     | 56/110 [1:49:57<1:27:49, 97.59s/it]"
     ]
    },
    {
     "name": "stdout",
     "output_type": "stream",
     "text": [
      "Сохранил признаки и метки для -220020068_456256013 в features_dataset\\-220020068_456256013.pt\n"
     ]
    },
    {
     "name": "stderr",
     "output_type": "stream",
     "text": [
      " 52%|█████▏    | 57/110 [1:50:59<1:16:37, 86.74s/it]"
     ]
    },
    {
     "name": "stdout",
     "output_type": "stream",
     "text": [
      "Сохранил признаки и метки для -220020068_456248657 в features_dataset\\-220020068_456248657.pt\n"
     ]
    },
    {
     "name": "stderr",
     "output_type": "stream",
     "text": [
      " 53%|█████▎    | 58/110 [1:52:35<1:17:33, 89.49s/it]"
     ]
    },
    {
     "name": "stdout",
     "output_type": "stream",
     "text": [
      "Сохранил признаки и метки для -220020068_456241673 в features_dataset\\-220020068_456241673.pt\n"
     ]
    },
    {
     "name": "stderr",
     "output_type": "stream",
     "text": [
      " 54%|█████▎    | 59/110 [1:54:10<1:17:39, 91.37s/it]"
     ]
    },
    {
     "name": "stdout",
     "output_type": "stream",
     "text": [
      "Сохранил признаки и метки для -220020068_456255402 в features_dataset\\-220020068_456255402.pt\n"
     ]
    },
    {
     "name": "stderr",
     "output_type": "stream",
     "text": [
      " 55%|█████▍    | 60/110 [1:55:48<1:17:43, 93.28s/it]"
     ]
    },
    {
     "name": "stdout",
     "output_type": "stream",
     "text": [
      "Сохранил признаки и метки для -220020068_456257139 в features_dataset\\-220020068_456257139.pt\n"
     ]
    },
    {
     "name": "stderr",
     "output_type": "stream",
     "text": [
      " 55%|█████▌    | 61/110 [1:57:26<1:17:12, 94.55s/it]"
     ]
    },
    {
     "name": "stdout",
     "output_type": "stream",
     "text": [
      "Сохранил признаки и метки для -220020068_456254621 в features_dataset\\-220020068_456254621.pt\n"
     ]
    },
    {
     "name": "stderr",
     "output_type": "stream",
     "text": [
      " 56%|█████▋    | 62/110 [1:58:43<1:11:25, 89.28s/it]"
     ]
    },
    {
     "name": "stdout",
     "output_type": "stream",
     "text": [
      "Сохранил признаки и метки для -220020068_456252055 в features_dataset\\-220020068_456252055.pt\n"
     ]
    },
    {
     "name": "stderr",
     "output_type": "stream",
     "text": [
      " 57%|█████▋    | 63/110 [2:00:22<1:12:11, 92.17s/it]"
     ]
    },
    {
     "name": "stdout",
     "output_type": "stream",
     "text": [
      "Сохранил признаки и метки для -220020068_456249739 в features_dataset\\-220020068_456249739.pt\n"
     ]
    },
    {
     "name": "stderr",
     "output_type": "stream",
     "text": [
      " 58%|█████▊    | 64/110 [2:01:39<1:07:18, 87.80s/it]"
     ]
    },
    {
     "name": "stdout",
     "output_type": "stream",
     "text": [
      "Сохранил признаки и метки для -220020068_456255403 в features_dataset\\-220020068_456255403.pt\n"
     ]
    },
    {
     "name": "stderr",
     "output_type": "stream",
     "text": [
      " 59%|█████▉    | 65/110 [2:02:54<1:03:00, 84.01s/it]"
     ]
    },
    {
     "name": "stdout",
     "output_type": "stream",
     "text": [
      "Сохранил признаки и метки для -220020068_456256012 в features_dataset\\-220020068_456256012.pt\n"
     ]
    },
    {
     "name": "stderr",
     "output_type": "stream",
     "text": [
      " 60%|██████    | 66/110 [2:04:10<59:50, 81.59s/it]  "
     ]
    },
    {
     "name": "stdout",
     "output_type": "stream",
     "text": [
      "Сохранил признаки и метки для -220020068_456257141 в features_dataset\\-220020068_456257141.pt\n"
     ]
    },
    {
     "name": "stderr",
     "output_type": "stream",
     "text": [
      " 61%|██████    | 67/110 [2:05:27<57:27, 80.17s/it]"
     ]
    },
    {
     "name": "stdout",
     "output_type": "stream",
     "text": [
      "Сохранил признаки и метки для -220020068_456241851 в features_dataset\\-220020068_456241851.pt\n"
     ]
    },
    {
     "name": "stderr",
     "output_type": "stream",
     "text": [
      " 62%|██████▏   | 68/110 [2:06:42<55:04, 78.67s/it]"
     ]
    },
    {
     "name": "stdout",
     "output_type": "stream",
     "text": [
      "Сохранил признаки и метки для -220020068_456256571 в features_dataset\\-220020068_456256571.pt\n"
     ]
    },
    {
     "name": "stderr",
     "output_type": "stream",
     "text": [
      " 63%|██████▎   | 69/110 [2:07:57<52:58, 77.53s/it]"
     ]
    },
    {
     "name": "stdout",
     "output_type": "stream",
     "text": [
      "Сохранил признаки и метки для -220020068_456256019 в features_dataset\\-220020068_456256019.pt\n"
     ]
    },
    {
     "name": "stderr",
     "output_type": "stream",
     "text": [
      " 64%|██████▎   | 70/110 [2:09:12<51:13, 76.85s/it]"
     ]
    },
    {
     "name": "stdout",
     "output_type": "stream",
     "text": [
      "Сохранил признаки и метки для -220020068_456255344 в features_dataset\\-220020068_456255344.pt\n"
     ]
    },
    {
     "name": "stderr",
     "output_type": "stream",
     "text": [
      " 65%|██████▍   | 71/110 [2:10:28<49:47, 76.59s/it]"
     ]
    },
    {
     "name": "stdout",
     "output_type": "stream",
     "text": [
      "Сохранил признаки и метки для -220020068_456255405 в features_dataset\\-220020068_456255405.pt\n"
     ]
    },
    {
     "name": "stderr",
     "output_type": "stream",
     "text": [
      " 65%|██████▌   | 72/110 [2:11:46<48:38, 76.81s/it]"
     ]
    },
    {
     "name": "stdout",
     "output_type": "stream",
     "text": [
      "Сохранил признаки и метки для -220020068_456255391 в features_dataset\\-220020068_456255391.pt\n"
     ]
    },
    {
     "name": "stderr",
     "output_type": "stream",
     "text": [
      " 66%|██████▋   | 73/110 [2:13:04<47:40, 77.30s/it]"
     ]
    },
    {
     "name": "stdout",
     "output_type": "stream",
     "text": [
      "Сохранил признаки и метки для -220020068_456241844 в features_dataset\\-220020068_456241844.pt\n"
     ]
    },
    {
     "name": "stderr",
     "output_type": "stream",
     "text": [
      " 67%|██████▋   | 74/110 [2:14:23<46:34, 77.62s/it]"
     ]
    },
    {
     "name": "stdout",
     "output_type": "stream",
     "text": [
      "Сохранил признаки и метки для -220020068_456254282 в features_dataset\\-220020068_456254282.pt\n"
     ]
    },
    {
     "name": "stderr",
     "output_type": "stream",
     "text": [
      "C:\\Users\\user\\DataspellProjects\\yandex\\venv\\lib\\site-packages\\moviepy\\video\\io\\ffmpeg_reader.py:190: UserWarning: In file movie_dir\\-220020068_456239859\\-220020068_456239859.mp4, 6220800 bytes wanted but 0 bytes read at frame index 11208 (out of a total 90888 frames), at time 467.00/3787.04 sec. Using the last valid frame instead.\n",
      "  warnings.warn(\n",
      "C:\\Users\\user\\DataspellProjects\\yandex\\venv\\lib\\site-packages\\moviepy\\video\\io\\ffmpeg_reader.py:190: UserWarning: In file movie_dir\\-220020068_456239859\\-220020068_456239859.mp4, 6220800 bytes wanted but 0 bytes read at frame index 11232 (out of a total 90888 frames), at time 468.00/3787.04 sec. Using the last valid frame instead.\n",
      "  warnings.warn(\n",
      "C:\\Users\\user\\DataspellProjects\\yandex\\venv\\lib\\site-packages\\moviepy\\video\\io\\ffmpeg_reader.py:190: UserWarning: In file movie_dir\\-220020068_456239859\\-220020068_456239859.mp4, 6220800 bytes wanted but 0 bytes read at frame index 11256 (out of a total 90888 frames), at time 469.00/3787.04 sec. Using the last valid frame instead.\n",
      "  warnings.warn(\n",
      "C:\\Users\\user\\DataspellProjects\\yandex\\venv\\lib\\site-packages\\moviepy\\video\\io\\ffmpeg_reader.py:190: UserWarning: In file movie_dir\\-220020068_456239859\\-220020068_456239859.mp4, 6220800 bytes wanted but 0 bytes read at frame index 11280 (out of a total 90888 frames), at time 470.00/3787.04 sec. Using the last valid frame instead.\n",
      "  warnings.warn(\n",
      "C:\\Users\\user\\DataspellProjects\\yandex\\venv\\lib\\site-packages\\moviepy\\video\\io\\ffmpeg_reader.py:190: UserWarning: In file movie_dir\\-220020068_456239859\\-220020068_456239859.mp4, 6220800 bytes wanted but 0 bytes read at frame index 11304 (out of a total 90888 frames), at time 471.00/3787.04 sec. Using the last valid frame instead.\n",
      "  warnings.warn(\n",
      "C:\\Users\\user\\DataspellProjects\\yandex\\venv\\lib\\site-packages\\moviepy\\video\\io\\ffmpeg_reader.py:190: UserWarning: In file movie_dir\\-220020068_456239859\\-220020068_456239859.mp4, 6220800 bytes wanted but 0 bytes read at frame index 11328 (out of a total 90888 frames), at time 472.00/3787.04 sec. Using the last valid frame instead.\n",
      "  warnings.warn(\n",
      "C:\\Users\\user\\DataspellProjects\\yandex\\venv\\lib\\site-packages\\moviepy\\video\\io\\ffmpeg_reader.py:190: UserWarning: In file movie_dir\\-220020068_456239859\\-220020068_456239859.mp4, 6220800 bytes wanted but 0 bytes read at frame index 11352 (out of a total 90888 frames), at time 473.00/3787.04 sec. Using the last valid frame instead.\n",
      "  warnings.warn(\n",
      "C:\\Users\\user\\DataspellProjects\\yandex\\venv\\lib\\site-packages\\moviepy\\video\\io\\ffmpeg_reader.py:190: UserWarning: In file movie_dir\\-220020068_456239859\\-220020068_456239859.mp4, 6220800 bytes wanted but 0 bytes read at frame index 11376 (out of a total 90888 frames), at time 474.00/3787.04 sec. Using the last valid frame instead.\n",
      "  warnings.warn(\n",
      "C:\\Users\\user\\DataspellProjects\\yandex\\venv\\lib\\site-packages\\moviepy\\video\\io\\ffmpeg_reader.py:190: UserWarning: In file movie_dir\\-220020068_456239859\\-220020068_456239859.mp4, 6220800 bytes wanted but 0 bytes read at frame index 11400 (out of a total 90888 frames), at time 475.00/3787.04 sec. Using the last valid frame instead.\n",
      "  warnings.warn(\n",
      "C:\\Users\\user\\DataspellProjects\\yandex\\venv\\lib\\site-packages\\moviepy\\video\\io\\ffmpeg_reader.py:190: UserWarning: In file movie_dir\\-220020068_456239859\\-220020068_456239859.mp4, 6220800 bytes wanted but 0 bytes read at frame index 11424 (out of a total 90888 frames), at time 476.00/3787.04 sec. Using the last valid frame instead.\n",
      "  warnings.warn(\n",
      "C:\\Users\\user\\DataspellProjects\\yandex\\venv\\lib\\site-packages\\moviepy\\video\\io\\ffmpeg_reader.py:190: UserWarning: In file movie_dir\\-220020068_456239859\\-220020068_456239859.mp4, 6220800 bytes wanted but 0 bytes read at frame index 11448 (out of a total 90888 frames), at time 477.00/3787.04 sec. Using the last valid frame instead.\n",
      "  warnings.warn(\n",
      "C:\\Users\\user\\DataspellProjects\\yandex\\venv\\lib\\site-packages\\moviepy\\video\\io\\ffmpeg_reader.py:190: UserWarning: In file movie_dir\\-220020068_456239859\\-220020068_456239859.mp4, 6220800 bytes wanted but 0 bytes read at frame index 11472 (out of a total 90888 frames), at time 478.00/3787.04 sec. Using the last valid frame instead.\n",
      "  warnings.warn(\n",
      "C:\\Users\\user\\DataspellProjects\\yandex\\venv\\lib\\site-packages\\moviepy\\video\\io\\ffmpeg_reader.py:190: UserWarning: In file movie_dir\\-220020068_456239859\\-220020068_456239859.mp4, 6220800 bytes wanted but 0 bytes read at frame index 11496 (out of a total 90888 frames), at time 479.00/3787.04 sec. Using the last valid frame instead.\n",
      "  warnings.warn(\n",
      "C:\\Users\\user\\DataspellProjects\\yandex\\venv\\lib\\site-packages\\moviepy\\video\\io\\ffmpeg_reader.py:190: UserWarning: In file movie_dir\\-220020068_456239859\\-220020068_456239859.mp4, 6220800 bytes wanted but 0 bytes read at frame index 11520 (out of a total 90888 frames), at time 480.00/3787.04 sec. Using the last valid frame instead.\n",
      "  warnings.warn(\n",
      "C:\\Users\\user\\DataspellProjects\\yandex\\venv\\lib\\site-packages\\moviepy\\video\\io\\ffmpeg_reader.py:190: UserWarning: In file movie_dir\\-220020068_456239859\\-220020068_456239859.mp4, 6220800 bytes wanted but 0 bytes read at frame index 11544 (out of a total 90888 frames), at time 481.00/3787.04 sec. Using the last valid frame instead.\n",
      "  warnings.warn(\n",
      "C:\\Users\\user\\DataspellProjects\\yandex\\venv\\lib\\site-packages\\moviepy\\video\\io\\ffmpeg_reader.py:190: UserWarning: In file movie_dir\\-220020068_456239859\\-220020068_456239859.mp4, 6220800 bytes wanted but 0 bytes read at frame index 11568 (out of a total 90888 frames), at time 482.00/3787.04 sec. Using the last valid frame instead.\n",
      "  warnings.warn(\n",
      "C:\\Users\\user\\DataspellProjects\\yandex\\venv\\lib\\site-packages\\moviepy\\video\\io\\ffmpeg_reader.py:190: UserWarning: In file movie_dir\\-220020068_456239859\\-220020068_456239859.mp4, 6220800 bytes wanted but 0 bytes read at frame index 11592 (out of a total 90888 frames), at time 483.00/3787.04 sec. Using the last valid frame instead.\n",
      "  warnings.warn(\n",
      "C:\\Users\\user\\DataspellProjects\\yandex\\venv\\lib\\site-packages\\moviepy\\video\\io\\ffmpeg_reader.py:190: UserWarning: In file movie_dir\\-220020068_456239859\\-220020068_456239859.mp4, 6220800 bytes wanted but 0 bytes read at frame index 11616 (out of a total 90888 frames), at time 484.00/3787.04 sec. Using the last valid frame instead.\n",
      "  warnings.warn(\n",
      "C:\\Users\\user\\DataspellProjects\\yandex\\venv\\lib\\site-packages\\moviepy\\video\\io\\ffmpeg_reader.py:190: UserWarning: In file movie_dir\\-220020068_456239859\\-220020068_456239859.mp4, 6220800 bytes wanted but 0 bytes read at frame index 11640 (out of a total 90888 frames), at time 485.00/3787.04 sec. Using the last valid frame instead.\n",
      "  warnings.warn(\n",
      "C:\\Users\\user\\DataspellProjects\\yandex\\venv\\lib\\site-packages\\moviepy\\video\\io\\ffmpeg_reader.py:190: UserWarning: In file movie_dir\\-220020068_456239859\\-220020068_456239859.mp4, 6220800 bytes wanted but 0 bytes read at frame index 11664 (out of a total 90888 frames), at time 486.00/3787.04 sec. Using the last valid frame instead.\n",
      "  warnings.warn(\n",
      "C:\\Users\\user\\DataspellProjects\\yandex\\venv\\lib\\site-packages\\moviepy\\video\\io\\ffmpeg_reader.py:190: UserWarning: In file movie_dir\\-220020068_456239859\\-220020068_456239859.mp4, 6220800 bytes wanted but 0 bytes read at frame index 11688 (out of a total 90888 frames), at time 487.00/3787.04 sec. Using the last valid frame instead.\n",
      "  warnings.warn(\n",
      "C:\\Users\\user\\DataspellProjects\\yandex\\venv\\lib\\site-packages\\moviepy\\video\\io\\ffmpeg_reader.py:190: UserWarning: In file movie_dir\\-220020068_456239859\\-220020068_456239859.mp4, 6220800 bytes wanted but 0 bytes read at frame index 11712 (out of a total 90888 frames), at time 488.00/3787.04 sec. Using the last valid frame instead.\n",
      "  warnings.warn(\n",
      "C:\\Users\\user\\DataspellProjects\\yandex\\venv\\lib\\site-packages\\moviepy\\video\\io\\ffmpeg_reader.py:190: UserWarning: In file movie_dir\\-220020068_456239859\\-220020068_456239859.mp4, 6220800 bytes wanted but 0 bytes read at frame index 11736 (out of a total 90888 frames), at time 489.00/3787.04 sec. Using the last valid frame instead.\n",
      "  warnings.warn(\n",
      "C:\\Users\\user\\DataspellProjects\\yandex\\venv\\lib\\site-packages\\moviepy\\video\\io\\ffmpeg_reader.py:190: UserWarning: In file movie_dir\\-220020068_456239859\\-220020068_456239859.mp4, 6220800 bytes wanted but 0 bytes read at frame index 11760 (out of a total 90888 frames), at time 490.00/3787.04 sec. Using the last valid frame instead.\n",
      "  warnings.warn(\n",
      "C:\\Users\\user\\DataspellProjects\\yandex\\venv\\lib\\site-packages\\moviepy\\video\\io\\ffmpeg_reader.py:190: UserWarning: In file movie_dir\\-220020068_456239859\\-220020068_456239859.mp4, 6220800 bytes wanted but 0 bytes read at frame index 11784 (out of a total 90888 frames), at time 491.00/3787.04 sec. Using the last valid frame instead.\n",
      "  warnings.warn(\n",
      "C:\\Users\\user\\DataspellProjects\\yandex\\venv\\lib\\site-packages\\moviepy\\video\\io\\ffmpeg_reader.py:190: UserWarning: In file movie_dir\\-220020068_456239859\\-220020068_456239859.mp4, 6220800 bytes wanted but 0 bytes read at frame index 11808 (out of a total 90888 frames), at time 492.00/3787.04 sec. Using the last valid frame instead.\n",
      "  warnings.warn(\n",
      "C:\\Users\\user\\DataspellProjects\\yandex\\venv\\lib\\site-packages\\moviepy\\video\\io\\ffmpeg_reader.py:190: UserWarning: In file movie_dir\\-220020068_456239859\\-220020068_456239859.mp4, 6220800 bytes wanted but 0 bytes read at frame index 11832 (out of a total 90888 frames), at time 493.00/3787.04 sec. Using the last valid frame instead.\n",
      "  warnings.warn(\n",
      "C:\\Users\\user\\DataspellProjects\\yandex\\venv\\lib\\site-packages\\moviepy\\video\\io\\ffmpeg_reader.py:190: UserWarning: In file movie_dir\\-220020068_456239859\\-220020068_456239859.mp4, 6220800 bytes wanted but 0 bytes read at frame index 11856 (out of a total 90888 frames), at time 494.00/3787.04 sec. Using the last valid frame instead.\n",
      "  warnings.warn(\n",
      "C:\\Users\\user\\DataspellProjects\\yandex\\venv\\lib\\site-packages\\moviepy\\video\\io\\ffmpeg_reader.py:190: UserWarning: In file movie_dir\\-220020068_456239859\\-220020068_456239859.mp4, 6220800 bytes wanted but 0 bytes read at frame index 11880 (out of a total 90888 frames), at time 495.00/3787.04 sec. Using the last valid frame instead.\n",
      "  warnings.warn(\n",
      "C:\\Users\\user\\DataspellProjects\\yandex\\venv\\lib\\site-packages\\moviepy\\video\\io\\ffmpeg_reader.py:190: UserWarning: In file movie_dir\\-220020068_456239859\\-220020068_456239859.mp4, 6220800 bytes wanted but 0 bytes read at frame index 11904 (out of a total 90888 frames), at time 496.00/3787.04 sec. Using the last valid frame instead.\n",
      "  warnings.warn(\n",
      "C:\\Users\\user\\DataspellProjects\\yandex\\venv\\lib\\site-packages\\moviepy\\video\\io\\ffmpeg_reader.py:190: UserWarning: In file movie_dir\\-220020068_456239859\\-220020068_456239859.mp4, 6220800 bytes wanted but 0 bytes read at frame index 11928 (out of a total 90888 frames), at time 497.00/3787.04 sec. Using the last valid frame instead.\n",
      "  warnings.warn(\n",
      "C:\\Users\\user\\DataspellProjects\\yandex\\venv\\lib\\site-packages\\moviepy\\video\\io\\ffmpeg_reader.py:190: UserWarning: In file movie_dir\\-220020068_456239859\\-220020068_456239859.mp4, 6220800 bytes wanted but 0 bytes read at frame index 11952 (out of a total 90888 frames), at time 498.00/3787.04 sec. Using the last valid frame instead.\n",
      "  warnings.warn(\n",
      "C:\\Users\\user\\DataspellProjects\\yandex\\venv\\lib\\site-packages\\moviepy\\video\\io\\ffmpeg_reader.py:190: UserWarning: In file movie_dir\\-220020068_456239859\\-220020068_456239859.mp4, 6220800 bytes wanted but 0 bytes read at frame index 11976 (out of a total 90888 frames), at time 499.00/3787.04 sec. Using the last valid frame instead.\n",
      "  warnings.warn(\n",
      "C:\\Users\\user\\DataspellProjects\\yandex\\venv\\lib\\site-packages\\moviepy\\video\\io\\ffmpeg_reader.py:190: UserWarning: In file movie_dir\\-220020068_456239859\\-220020068_456239859.mp4, 6220800 bytes wanted but 0 bytes read at frame index 12000 (out of a total 90888 frames), at time 500.00/3787.04 sec. Using the last valid frame instead.\n",
      "  warnings.warn(\n",
      "C:\\Users\\user\\DataspellProjects\\yandex\\venv\\lib\\site-packages\\moviepy\\video\\io\\ffmpeg_reader.py:190: UserWarning: In file movie_dir\\-220020068_456239859\\-220020068_456239859.mp4, 6220800 bytes wanted but 0 bytes read at frame index 12024 (out of a total 90888 frames), at time 501.00/3787.04 sec. Using the last valid frame instead.\n",
      "  warnings.warn(\n",
      "C:\\Users\\user\\DataspellProjects\\yandex\\venv\\lib\\site-packages\\moviepy\\video\\io\\ffmpeg_reader.py:190: UserWarning: In file movie_dir\\-220020068_456239859\\-220020068_456239859.mp4, 6220800 bytes wanted but 0 bytes read at frame index 12048 (out of a total 90888 frames), at time 502.00/3787.04 sec. Using the last valid frame instead.\n",
      "  warnings.warn(\n",
      "C:\\Users\\user\\DataspellProjects\\yandex\\venv\\lib\\site-packages\\moviepy\\video\\io\\ffmpeg_reader.py:190: UserWarning: In file movie_dir\\-220020068_456239859\\-220020068_456239859.mp4, 6220800 bytes wanted but 0 bytes read at frame index 12072 (out of a total 90888 frames), at time 503.00/3787.04 sec. Using the last valid frame instead.\n",
      "  warnings.warn(\n",
      "C:\\Users\\user\\DataspellProjects\\yandex\\venv\\lib\\site-packages\\moviepy\\video\\io\\ffmpeg_reader.py:190: UserWarning: In file movie_dir\\-220020068_456239859\\-220020068_456239859.mp4, 6220800 bytes wanted but 0 bytes read at frame index 12096 (out of a total 90888 frames), at time 504.00/3787.04 sec. Using the last valid frame instead.\n",
      "  warnings.warn(\n",
      "C:\\Users\\user\\DataspellProjects\\yandex\\venv\\lib\\site-packages\\moviepy\\video\\io\\ffmpeg_reader.py:190: UserWarning: In file movie_dir\\-220020068_456239859\\-220020068_456239859.mp4, 6220800 bytes wanted but 0 bytes read at frame index 12120 (out of a total 90888 frames), at time 505.00/3787.04 sec. Using the last valid frame instead.\n",
      "  warnings.warn(\n",
      "C:\\Users\\user\\DataspellProjects\\yandex\\venv\\lib\\site-packages\\moviepy\\video\\io\\ffmpeg_reader.py:190: UserWarning: In file movie_dir\\-220020068_456239859\\-220020068_456239859.mp4, 6220800 bytes wanted but 0 bytes read at frame index 12144 (out of a total 90888 frames), at time 506.00/3787.04 sec. Using the last valid frame instead.\n",
      "  warnings.warn(\n",
      "C:\\Users\\user\\DataspellProjects\\yandex\\venv\\lib\\site-packages\\moviepy\\video\\io\\ffmpeg_reader.py:190: UserWarning: In file movie_dir\\-220020068_456239859\\-220020068_456239859.mp4, 6220800 bytes wanted but 0 bytes read at frame index 12168 (out of a total 90888 frames), at time 507.00/3787.04 sec. Using the last valid frame instead.\n",
      "  warnings.warn(\n",
      "C:\\Users\\user\\DataspellProjects\\yandex\\venv\\lib\\site-packages\\moviepy\\video\\io\\ffmpeg_reader.py:190: UserWarning: In file movie_dir\\-220020068_456239859\\-220020068_456239859.mp4, 6220800 bytes wanted but 0 bytes read at frame index 12192 (out of a total 90888 frames), at time 508.00/3787.04 sec. Using the last valid frame instead.\n",
      "  warnings.warn(\n",
      "C:\\Users\\user\\DataspellProjects\\yandex\\venv\\lib\\site-packages\\moviepy\\video\\io\\ffmpeg_reader.py:190: UserWarning: In file movie_dir\\-220020068_456239859\\-220020068_456239859.mp4, 6220800 bytes wanted but 0 bytes read at frame index 12216 (out of a total 90888 frames), at time 509.00/3787.04 sec. Using the last valid frame instead.\n",
      "  warnings.warn(\n",
      "C:\\Users\\user\\DataspellProjects\\yandex\\venv\\lib\\site-packages\\moviepy\\video\\io\\ffmpeg_reader.py:190: UserWarning: In file movie_dir\\-220020068_456239859\\-220020068_456239859.mp4, 6220800 bytes wanted but 0 bytes read at frame index 12240 (out of a total 90888 frames), at time 510.00/3787.04 sec. Using the last valid frame instead.\n",
      "  warnings.warn(\n",
      "C:\\Users\\user\\DataspellProjects\\yandex\\venv\\lib\\site-packages\\moviepy\\video\\io\\ffmpeg_reader.py:190: UserWarning: In file movie_dir\\-220020068_456239859\\-220020068_456239859.mp4, 6220800 bytes wanted but 0 bytes read at frame index 12264 (out of a total 90888 frames), at time 511.00/3787.04 sec. Using the last valid frame instead.\n",
      "  warnings.warn(\n",
      "C:\\Users\\user\\DataspellProjects\\yandex\\venv\\lib\\site-packages\\moviepy\\video\\io\\ffmpeg_reader.py:190: UserWarning: In file movie_dir\\-220020068_456239859\\-220020068_456239859.mp4, 6220800 bytes wanted but 0 bytes read at frame index 12288 (out of a total 90888 frames), at time 512.00/3787.04 sec. Using the last valid frame instead.\n",
      "  warnings.warn(\n",
      "C:\\Users\\user\\DataspellProjects\\yandex\\venv\\lib\\site-packages\\moviepy\\video\\io\\ffmpeg_reader.py:190: UserWarning: In file movie_dir\\-220020068_456239859\\-220020068_456239859.mp4, 6220800 bytes wanted but 0 bytes read at frame index 12312 (out of a total 90888 frames), at time 513.00/3787.04 sec. Using the last valid frame instead.\n",
      "  warnings.warn(\n",
      "C:\\Users\\user\\DataspellProjects\\yandex\\venv\\lib\\site-packages\\moviepy\\video\\io\\ffmpeg_reader.py:190: UserWarning: In file movie_dir\\-220020068_456239859\\-220020068_456239859.mp4, 6220800 bytes wanted but 0 bytes read at frame index 12336 (out of a total 90888 frames), at time 514.00/3787.04 sec. Using the last valid frame instead.\n",
      "  warnings.warn(\n",
      "C:\\Users\\user\\DataspellProjects\\yandex\\venv\\lib\\site-packages\\moviepy\\video\\io\\ffmpeg_reader.py:190: UserWarning: In file movie_dir\\-220020068_456239859\\-220020068_456239859.mp4, 6220800 bytes wanted but 0 bytes read at frame index 12360 (out of a total 90888 frames), at time 515.00/3787.04 sec. Using the last valid frame instead.\n",
      "  warnings.warn(\n",
      "C:\\Users\\user\\DataspellProjects\\yandex\\venv\\lib\\site-packages\\moviepy\\video\\io\\ffmpeg_reader.py:190: UserWarning: In file movie_dir\\-220020068_456239859\\-220020068_456239859.mp4, 6220800 bytes wanted but 0 bytes read at frame index 12384 (out of a total 90888 frames), at time 516.00/3787.04 sec. Using the last valid frame instead.\n",
      "  warnings.warn(\n",
      "C:\\Users\\user\\DataspellProjects\\yandex\\venv\\lib\\site-packages\\moviepy\\video\\io\\ffmpeg_reader.py:190: UserWarning: In file movie_dir\\-220020068_456239859\\-220020068_456239859.mp4, 6220800 bytes wanted but 0 bytes read at frame index 12408 (out of a total 90888 frames), at time 517.00/3787.04 sec. Using the last valid frame instead.\n",
      "  warnings.warn(\n",
      "C:\\Users\\user\\DataspellProjects\\yandex\\venv\\lib\\site-packages\\moviepy\\video\\io\\ffmpeg_reader.py:190: UserWarning: In file movie_dir\\-220020068_456239859\\-220020068_456239859.mp4, 6220800 bytes wanted but 0 bytes read at frame index 12432 (out of a total 90888 frames), at time 518.00/3787.04 sec. Using the last valid frame instead.\n",
      "  warnings.warn(\n",
      "C:\\Users\\user\\DataspellProjects\\yandex\\venv\\lib\\site-packages\\moviepy\\video\\io\\ffmpeg_reader.py:190: UserWarning: In file movie_dir\\-220020068_456239859\\-220020068_456239859.mp4, 6220800 bytes wanted but 0 bytes read at frame index 12456 (out of a total 90888 frames), at time 519.00/3787.04 sec. Using the last valid frame instead.\n",
      "  warnings.warn(\n",
      "C:\\Users\\user\\DataspellProjects\\yandex\\venv\\lib\\site-packages\\moviepy\\video\\io\\ffmpeg_reader.py:190: UserWarning: In file movie_dir\\-220020068_456239859\\-220020068_456239859.mp4, 6220800 bytes wanted but 0 bytes read at frame index 12480 (out of a total 90888 frames), at time 520.00/3787.04 sec. Using the last valid frame instead.\n",
      "  warnings.warn(\n",
      "C:\\Users\\user\\DataspellProjects\\yandex\\venv\\lib\\site-packages\\moviepy\\video\\io\\ffmpeg_reader.py:190: UserWarning: In file movie_dir\\-220020068_456239859\\-220020068_456239859.mp4, 6220800 bytes wanted but 0 bytes read at frame index 12504 (out of a total 90888 frames), at time 521.00/3787.04 sec. Using the last valid frame instead.\n",
      "  warnings.warn(\n",
      "C:\\Users\\user\\DataspellProjects\\yandex\\venv\\lib\\site-packages\\moviepy\\video\\io\\ffmpeg_reader.py:190: UserWarning: In file movie_dir\\-220020068_456239859\\-220020068_456239859.mp4, 6220800 bytes wanted but 0 bytes read at frame index 12528 (out of a total 90888 frames), at time 522.00/3787.04 sec. Using the last valid frame instead.\n",
      "  warnings.warn(\n",
      "C:\\Users\\user\\DataspellProjects\\yandex\\venv\\lib\\site-packages\\moviepy\\video\\io\\ffmpeg_reader.py:190: UserWarning: In file movie_dir\\-220020068_456239859\\-220020068_456239859.mp4, 6220800 bytes wanted but 0 bytes read at frame index 12552 (out of a total 90888 frames), at time 523.00/3787.04 sec. Using the last valid frame instead.\n",
      "  warnings.warn(\n",
      "C:\\Users\\user\\DataspellProjects\\yandex\\venv\\lib\\site-packages\\moviepy\\video\\io\\ffmpeg_reader.py:190: UserWarning: In file movie_dir\\-220020068_456239859\\-220020068_456239859.mp4, 6220800 bytes wanted but 0 bytes read at frame index 12576 (out of a total 90888 frames), at time 524.00/3787.04 sec. Using the last valid frame instead.\n",
      "  warnings.warn(\n",
      "C:\\Users\\user\\DataspellProjects\\yandex\\venv\\lib\\site-packages\\moviepy\\video\\io\\ffmpeg_reader.py:190: UserWarning: In file movie_dir\\-220020068_456239859\\-220020068_456239859.mp4, 6220800 bytes wanted but 0 bytes read at frame index 12600 (out of a total 90888 frames), at time 525.00/3787.04 sec. Using the last valid frame instead.\n",
      "  warnings.warn(\n",
      "C:\\Users\\user\\DataspellProjects\\yandex\\venv\\lib\\site-packages\\moviepy\\video\\io\\ffmpeg_reader.py:190: UserWarning: In file movie_dir\\-220020068_456239859\\-220020068_456239859.mp4, 6220800 bytes wanted but 0 bytes read at frame index 12624 (out of a total 90888 frames), at time 526.00/3787.04 sec. Using the last valid frame instead.\n",
      "  warnings.warn(\n",
      "C:\\Users\\user\\DataspellProjects\\yandex\\venv\\lib\\site-packages\\moviepy\\video\\io\\ffmpeg_reader.py:190: UserWarning: In file movie_dir\\-220020068_456239859\\-220020068_456239859.mp4, 6220800 bytes wanted but 0 bytes read at frame index 12648 (out of a total 90888 frames), at time 527.00/3787.04 sec. Using the last valid frame instead.\n",
      "  warnings.warn(\n",
      "C:\\Users\\user\\DataspellProjects\\yandex\\venv\\lib\\site-packages\\moviepy\\video\\io\\ffmpeg_reader.py:190: UserWarning: In file movie_dir\\-220020068_456239859\\-220020068_456239859.mp4, 6220800 bytes wanted but 0 bytes read at frame index 12672 (out of a total 90888 frames), at time 528.00/3787.04 sec. Using the last valid frame instead.\n",
      "  warnings.warn(\n",
      "C:\\Users\\user\\DataspellProjects\\yandex\\venv\\lib\\site-packages\\moviepy\\video\\io\\ffmpeg_reader.py:190: UserWarning: In file movie_dir\\-220020068_456239859\\-220020068_456239859.mp4, 6220800 bytes wanted but 0 bytes read at frame index 12696 (out of a total 90888 frames), at time 529.00/3787.04 sec. Using the last valid frame instead.\n",
      "  warnings.warn(\n",
      "C:\\Users\\user\\DataspellProjects\\yandex\\venv\\lib\\site-packages\\moviepy\\video\\io\\ffmpeg_reader.py:190: UserWarning: In file movie_dir\\-220020068_456239859\\-220020068_456239859.mp4, 6220800 bytes wanted but 0 bytes read at frame index 12720 (out of a total 90888 frames), at time 530.00/3787.04 sec. Using the last valid frame instead.\n",
      "  warnings.warn(\n",
      "C:\\Users\\user\\DataspellProjects\\yandex\\venv\\lib\\site-packages\\moviepy\\video\\io\\ffmpeg_reader.py:190: UserWarning: In file movie_dir\\-220020068_456239859\\-220020068_456239859.mp4, 6220800 bytes wanted but 0 bytes read at frame index 12744 (out of a total 90888 frames), at time 531.00/3787.04 sec. Using the last valid frame instead.\n",
      "  warnings.warn(\n",
      "C:\\Users\\user\\DataspellProjects\\yandex\\venv\\lib\\site-packages\\moviepy\\video\\io\\ffmpeg_reader.py:190: UserWarning: In file movie_dir\\-220020068_456239859\\-220020068_456239859.mp4, 6220800 bytes wanted but 0 bytes read at frame index 12768 (out of a total 90888 frames), at time 532.00/3787.04 sec. Using the last valid frame instead.\n",
      "  warnings.warn(\n",
      "C:\\Users\\user\\DataspellProjects\\yandex\\venv\\lib\\site-packages\\moviepy\\video\\io\\ffmpeg_reader.py:190: UserWarning: In file movie_dir\\-220020068_456239859\\-220020068_456239859.mp4, 6220800 bytes wanted but 0 bytes read at frame index 12792 (out of a total 90888 frames), at time 533.00/3787.04 sec. Using the last valid frame instead.\n",
      "  warnings.warn(\n",
      "C:\\Users\\user\\DataspellProjects\\yandex\\venv\\lib\\site-packages\\moviepy\\video\\io\\ffmpeg_reader.py:190: UserWarning: In file movie_dir\\-220020068_456239859\\-220020068_456239859.mp4, 6220800 bytes wanted but 0 bytes read at frame index 12816 (out of a total 90888 frames), at time 534.00/3787.04 sec. Using the last valid frame instead.\n",
      "  warnings.warn(\n",
      "C:\\Users\\user\\DataspellProjects\\yandex\\venv\\lib\\site-packages\\moviepy\\video\\io\\ffmpeg_reader.py:190: UserWarning: In file movie_dir\\-220020068_456239859\\-220020068_456239859.mp4, 6220800 bytes wanted but 0 bytes read at frame index 12840 (out of a total 90888 frames), at time 535.00/3787.04 sec. Using the last valid frame instead.\n",
      "  warnings.warn(\n",
      "C:\\Users\\user\\DataspellProjects\\yandex\\venv\\lib\\site-packages\\moviepy\\video\\io\\ffmpeg_reader.py:190: UserWarning: In file movie_dir\\-220020068_456239859\\-220020068_456239859.mp4, 6220800 bytes wanted but 0 bytes read at frame index 12864 (out of a total 90888 frames), at time 536.00/3787.04 sec. Using the last valid frame instead.\n",
      "  warnings.warn(\n",
      "C:\\Users\\user\\DataspellProjects\\yandex\\venv\\lib\\site-packages\\moviepy\\video\\io\\ffmpeg_reader.py:190: UserWarning: In file movie_dir\\-220020068_456239859\\-220020068_456239859.mp4, 6220800 bytes wanted but 0 bytes read at frame index 12888 (out of a total 90888 frames), at time 537.00/3787.04 sec. Using the last valid frame instead.\n",
      "  warnings.warn(\n",
      "C:\\Users\\user\\DataspellProjects\\yandex\\venv\\lib\\site-packages\\moviepy\\video\\io\\ffmpeg_reader.py:190: UserWarning: In file movie_dir\\-220020068_456239859\\-220020068_456239859.mp4, 6220800 bytes wanted but 0 bytes read at frame index 12912 (out of a total 90888 frames), at time 538.00/3787.04 sec. Using the last valid frame instead.\n",
      "  warnings.warn(\n",
      "C:\\Users\\user\\DataspellProjects\\yandex\\venv\\lib\\site-packages\\moviepy\\video\\io\\ffmpeg_reader.py:190: UserWarning: In file movie_dir\\-220020068_456239859\\-220020068_456239859.mp4, 6220800 bytes wanted but 0 bytes read at frame index 12936 (out of a total 90888 frames), at time 539.00/3787.04 sec. Using the last valid frame instead.\n",
      "  warnings.warn(\n",
      "C:\\Users\\user\\DataspellProjects\\yandex\\venv\\lib\\site-packages\\moviepy\\video\\io\\ffmpeg_reader.py:190: UserWarning: In file movie_dir\\-220020068_456239859\\-220020068_456239859.mp4, 6220800 bytes wanted but 0 bytes read at frame index 12960 (out of a total 90888 frames), at time 540.00/3787.04 sec. Using the last valid frame instead.\n",
      "  warnings.warn(\n",
      "C:\\Users\\user\\DataspellProjects\\yandex\\venv\\lib\\site-packages\\moviepy\\video\\io\\ffmpeg_reader.py:190: UserWarning: In file movie_dir\\-220020068_456239859\\-220020068_456239859.mp4, 6220800 bytes wanted but 0 bytes read at frame index 12984 (out of a total 90888 frames), at time 541.00/3787.04 sec. Using the last valid frame instead.\n",
      "  warnings.warn(\n",
      "C:\\Users\\user\\DataspellProjects\\yandex\\venv\\lib\\site-packages\\moviepy\\video\\io\\ffmpeg_reader.py:190: UserWarning: In file movie_dir\\-220020068_456239859\\-220020068_456239859.mp4, 6220800 bytes wanted but 0 bytes read at frame index 13008 (out of a total 90888 frames), at time 542.00/3787.04 sec. Using the last valid frame instead.\n",
      "  warnings.warn(\n",
      "C:\\Users\\user\\DataspellProjects\\yandex\\venv\\lib\\site-packages\\moviepy\\video\\io\\ffmpeg_reader.py:190: UserWarning: In file movie_dir\\-220020068_456239859\\-220020068_456239859.mp4, 6220800 bytes wanted but 0 bytes read at frame index 13032 (out of a total 90888 frames), at time 543.00/3787.04 sec. Using the last valid frame instead.\n",
      "  warnings.warn(\n",
      "C:\\Users\\user\\DataspellProjects\\yandex\\venv\\lib\\site-packages\\moviepy\\video\\io\\ffmpeg_reader.py:190: UserWarning: In file movie_dir\\-220020068_456239859\\-220020068_456239859.mp4, 6220800 bytes wanted but 0 bytes read at frame index 13056 (out of a total 90888 frames), at time 544.00/3787.04 sec. Using the last valid frame instead.\n",
      "  warnings.warn(\n",
      "C:\\Users\\user\\DataspellProjects\\yandex\\venv\\lib\\site-packages\\moviepy\\video\\io\\ffmpeg_reader.py:190: UserWarning: In file movie_dir\\-220020068_456239859\\-220020068_456239859.mp4, 6220800 bytes wanted but 0 bytes read at frame index 13080 (out of a total 90888 frames), at time 545.00/3787.04 sec. Using the last valid frame instead.\n",
      "  warnings.warn(\n",
      "C:\\Users\\user\\DataspellProjects\\yandex\\venv\\lib\\site-packages\\moviepy\\video\\io\\ffmpeg_reader.py:190: UserWarning: In file movie_dir\\-220020068_456239859\\-220020068_456239859.mp4, 6220800 bytes wanted but 0 bytes read at frame index 13104 (out of a total 90888 frames), at time 546.00/3787.04 sec. Using the last valid frame instead.\n",
      "  warnings.warn(\n",
      "C:\\Users\\user\\DataspellProjects\\yandex\\venv\\lib\\site-packages\\moviepy\\video\\io\\ffmpeg_reader.py:190: UserWarning: In file movie_dir\\-220020068_456239859\\-220020068_456239859.mp4, 6220800 bytes wanted but 0 bytes read at frame index 13128 (out of a total 90888 frames), at time 547.00/3787.04 sec. Using the last valid frame instead.\n",
      "  warnings.warn(\n",
      "C:\\Users\\user\\DataspellProjects\\yandex\\venv\\lib\\site-packages\\moviepy\\video\\io\\ffmpeg_reader.py:190: UserWarning: In file movie_dir\\-220020068_456239859\\-220020068_456239859.mp4, 6220800 bytes wanted but 0 bytes read at frame index 13152 (out of a total 90888 frames), at time 548.00/3787.04 sec. Using the last valid frame instead.\n",
      "  warnings.warn(\n",
      "C:\\Users\\user\\DataspellProjects\\yandex\\venv\\lib\\site-packages\\moviepy\\video\\io\\ffmpeg_reader.py:190: UserWarning: In file movie_dir\\-220020068_456239859\\-220020068_456239859.mp4, 6220800 bytes wanted but 0 bytes read at frame index 13176 (out of a total 90888 frames), at time 549.00/3787.04 sec. Using the last valid frame instead.\n",
      "  warnings.warn(\n",
      "C:\\Users\\user\\DataspellProjects\\yandex\\venv\\lib\\site-packages\\moviepy\\video\\io\\ffmpeg_reader.py:190: UserWarning: In file movie_dir\\-220020068_456239859\\-220020068_456239859.mp4, 6220800 bytes wanted but 0 bytes read at frame index 13200 (out of a total 90888 frames), at time 550.00/3787.04 sec. Using the last valid frame instead.\n",
      "  warnings.warn(\n",
      "C:\\Users\\user\\DataspellProjects\\yandex\\venv\\lib\\site-packages\\moviepy\\video\\io\\ffmpeg_reader.py:190: UserWarning: In file movie_dir\\-220020068_456239859\\-220020068_456239859.mp4, 6220800 bytes wanted but 0 bytes read at frame index 13224 (out of a total 90888 frames), at time 551.00/3787.04 sec. Using the last valid frame instead.\n",
      "  warnings.warn(\n",
      "C:\\Users\\user\\DataspellProjects\\yandex\\venv\\lib\\site-packages\\moviepy\\video\\io\\ffmpeg_reader.py:190: UserWarning: In file movie_dir\\-220020068_456239859\\-220020068_456239859.mp4, 6220800 bytes wanted but 0 bytes read at frame index 13248 (out of a total 90888 frames), at time 552.00/3787.04 sec. Using the last valid frame instead.\n",
      "  warnings.warn(\n",
      "C:\\Users\\user\\DataspellProjects\\yandex\\venv\\lib\\site-packages\\moviepy\\video\\io\\ffmpeg_reader.py:190: UserWarning: In file movie_dir\\-220020068_456239859\\-220020068_456239859.mp4, 6220800 bytes wanted but 0 bytes read at frame index 13272 (out of a total 90888 frames), at time 553.00/3787.04 sec. Using the last valid frame instead.\n",
      "  warnings.warn(\n",
      "C:\\Users\\user\\DataspellProjects\\yandex\\venv\\lib\\site-packages\\moviepy\\video\\io\\ffmpeg_reader.py:190: UserWarning: In file movie_dir\\-220020068_456239859\\-220020068_456239859.mp4, 6220800 bytes wanted but 0 bytes read at frame index 13296 (out of a total 90888 frames), at time 554.00/3787.04 sec. Using the last valid frame instead.\n",
      "  warnings.warn(\n",
      "C:\\Users\\user\\DataspellProjects\\yandex\\venv\\lib\\site-packages\\moviepy\\video\\io\\ffmpeg_reader.py:190: UserWarning: In file movie_dir\\-220020068_456239859\\-220020068_456239859.mp4, 6220800 bytes wanted but 0 bytes read at frame index 13320 (out of a total 90888 frames), at time 555.00/3787.04 sec. Using the last valid frame instead.\n",
      "  warnings.warn(\n",
      "C:\\Users\\user\\DataspellProjects\\yandex\\venv\\lib\\site-packages\\moviepy\\video\\io\\ffmpeg_reader.py:190: UserWarning: In file movie_dir\\-220020068_456239859\\-220020068_456239859.mp4, 6220800 bytes wanted but 0 bytes read at frame index 13344 (out of a total 90888 frames), at time 556.00/3787.04 sec. Using the last valid frame instead.\n",
      "  warnings.warn(\n",
      "C:\\Users\\user\\DataspellProjects\\yandex\\venv\\lib\\site-packages\\moviepy\\video\\io\\ffmpeg_reader.py:190: UserWarning: In file movie_dir\\-220020068_456239859\\-220020068_456239859.mp4, 6220800 bytes wanted but 0 bytes read at frame index 13368 (out of a total 90888 frames), at time 557.00/3787.04 sec. Using the last valid frame instead.\n",
      "  warnings.warn(\n",
      "C:\\Users\\user\\DataspellProjects\\yandex\\venv\\lib\\site-packages\\moviepy\\video\\io\\ffmpeg_reader.py:190: UserWarning: In file movie_dir\\-220020068_456239859\\-220020068_456239859.mp4, 6220800 bytes wanted but 0 bytes read at frame index 13392 (out of a total 90888 frames), at time 558.00/3787.04 sec. Using the last valid frame instead.\n",
      "  warnings.warn(\n",
      "C:\\Users\\user\\DataspellProjects\\yandex\\venv\\lib\\site-packages\\moviepy\\video\\io\\ffmpeg_reader.py:190: UserWarning: In file movie_dir\\-220020068_456239859\\-220020068_456239859.mp4, 6220800 bytes wanted but 0 bytes read at frame index 13416 (out of a total 90888 frames), at time 559.00/3787.04 sec. Using the last valid frame instead.\n",
      "  warnings.warn(\n",
      "C:\\Users\\user\\DataspellProjects\\yandex\\venv\\lib\\site-packages\\moviepy\\video\\io\\ffmpeg_reader.py:190: UserWarning: In file movie_dir\\-220020068_456239859\\-220020068_456239859.mp4, 6220800 bytes wanted but 0 bytes read at frame index 13440 (out of a total 90888 frames), at time 560.00/3787.04 sec. Using the last valid frame instead.\n",
      "  warnings.warn(\n",
      "C:\\Users\\user\\DataspellProjects\\yandex\\venv\\lib\\site-packages\\moviepy\\video\\io\\ffmpeg_reader.py:190: UserWarning: In file movie_dir\\-220020068_456239859\\-220020068_456239859.mp4, 6220800 bytes wanted but 0 bytes read at frame index 13464 (out of a total 90888 frames), at time 561.00/3787.04 sec. Using the last valid frame instead.\n",
      "  warnings.warn(\n",
      "C:\\Users\\user\\DataspellProjects\\yandex\\venv\\lib\\site-packages\\moviepy\\video\\io\\ffmpeg_reader.py:190: UserWarning: In file movie_dir\\-220020068_456239859\\-220020068_456239859.mp4, 6220800 bytes wanted but 0 bytes read at frame index 13488 (out of a total 90888 frames), at time 562.00/3787.04 sec. Using the last valid frame instead.\n",
      "  warnings.warn(\n",
      "C:\\Users\\user\\DataspellProjects\\yandex\\venv\\lib\\site-packages\\moviepy\\video\\io\\ffmpeg_reader.py:190: UserWarning: In file movie_dir\\-220020068_456239859\\-220020068_456239859.mp4, 6220800 bytes wanted but 0 bytes read at frame index 13512 (out of a total 90888 frames), at time 563.00/3787.04 sec. Using the last valid frame instead.\n",
      "  warnings.warn(\n",
      "C:\\Users\\user\\DataspellProjects\\yandex\\venv\\lib\\site-packages\\moviepy\\video\\io\\ffmpeg_reader.py:190: UserWarning: In file movie_dir\\-220020068_456239859\\-220020068_456239859.mp4, 6220800 bytes wanted but 0 bytes read at frame index 13536 (out of a total 90888 frames), at time 564.00/3787.04 sec. Using the last valid frame instead.\n",
      "  warnings.warn(\n",
      "C:\\Users\\user\\DataspellProjects\\yandex\\venv\\lib\\site-packages\\moviepy\\video\\io\\ffmpeg_reader.py:190: UserWarning: In file movie_dir\\-220020068_456239859\\-220020068_456239859.mp4, 6220800 bytes wanted but 0 bytes read at frame index 13560 (out of a total 90888 frames), at time 565.00/3787.04 sec. Using the last valid frame instead.\n",
      "  warnings.warn(\n",
      "C:\\Users\\user\\DataspellProjects\\yandex\\venv\\lib\\site-packages\\moviepy\\video\\io\\ffmpeg_reader.py:190: UserWarning: In file movie_dir\\-220020068_456239859\\-220020068_456239859.mp4, 6220800 bytes wanted but 0 bytes read at frame index 13584 (out of a total 90888 frames), at time 566.00/3787.04 sec. Using the last valid frame instead.\n",
      "  warnings.warn(\n",
      "C:\\Users\\user\\DataspellProjects\\yandex\\venv\\lib\\site-packages\\moviepy\\video\\io\\ffmpeg_reader.py:190: UserWarning: In file movie_dir\\-220020068_456239859\\-220020068_456239859.mp4, 6220800 bytes wanted but 0 bytes read at frame index 13608 (out of a total 90888 frames), at time 567.00/3787.04 sec. Using the last valid frame instead.\n",
      "  warnings.warn(\n",
      "C:\\Users\\user\\DataspellProjects\\yandex\\venv\\lib\\site-packages\\moviepy\\video\\io\\ffmpeg_reader.py:190: UserWarning: In file movie_dir\\-220020068_456239859\\-220020068_456239859.mp4, 6220800 bytes wanted but 0 bytes read at frame index 13632 (out of a total 90888 frames), at time 568.00/3787.04 sec. Using the last valid frame instead.\n",
      "  warnings.warn(\n",
      "C:\\Users\\user\\DataspellProjects\\yandex\\venv\\lib\\site-packages\\moviepy\\video\\io\\ffmpeg_reader.py:190: UserWarning: In file movie_dir\\-220020068_456239859\\-220020068_456239859.mp4, 6220800 bytes wanted but 0 bytes read at frame index 13656 (out of a total 90888 frames), at time 569.00/3787.04 sec. Using the last valid frame instead.\n",
      "  warnings.warn(\n",
      "C:\\Users\\user\\DataspellProjects\\yandex\\venv\\lib\\site-packages\\moviepy\\video\\io\\ffmpeg_reader.py:190: UserWarning: In file movie_dir\\-220020068_456239859\\-220020068_456239859.mp4, 6220800 bytes wanted but 0 bytes read at frame index 13680 (out of a total 90888 frames), at time 570.00/3787.04 sec. Using the last valid frame instead.\n",
      "  warnings.warn(\n",
      "C:\\Users\\user\\DataspellProjects\\yandex\\venv\\lib\\site-packages\\moviepy\\video\\io\\ffmpeg_reader.py:190: UserWarning: In file movie_dir\\-220020068_456239859\\-220020068_456239859.mp4, 6220800 bytes wanted but 0 bytes read at frame index 13704 (out of a total 90888 frames), at time 571.00/3787.04 sec. Using the last valid frame instead.\n",
      "  warnings.warn(\n",
      "C:\\Users\\user\\DataspellProjects\\yandex\\venv\\lib\\site-packages\\moviepy\\video\\io\\ffmpeg_reader.py:190: UserWarning: In file movie_dir\\-220020068_456239859\\-220020068_456239859.mp4, 6220800 bytes wanted but 0 bytes read at frame index 13728 (out of a total 90888 frames), at time 572.00/3787.04 sec. Using the last valid frame instead.\n",
      "  warnings.warn(\n",
      "C:\\Users\\user\\DataspellProjects\\yandex\\venv\\lib\\site-packages\\moviepy\\video\\io\\ffmpeg_reader.py:190: UserWarning: In file movie_dir\\-220020068_456239859\\-220020068_456239859.mp4, 6220800 bytes wanted but 0 bytes read at frame index 13752 (out of a total 90888 frames), at time 573.00/3787.04 sec. Using the last valid frame instead.\n",
      "  warnings.warn(\n",
      "C:\\Users\\user\\DataspellProjects\\yandex\\venv\\lib\\site-packages\\moviepy\\video\\io\\ffmpeg_reader.py:190: UserWarning: In file movie_dir\\-220020068_456239859\\-220020068_456239859.mp4, 6220800 bytes wanted but 0 bytes read at frame index 13776 (out of a total 90888 frames), at time 574.00/3787.04 sec. Using the last valid frame instead.\n",
      "  warnings.warn(\n",
      "C:\\Users\\user\\DataspellProjects\\yandex\\venv\\lib\\site-packages\\moviepy\\video\\io\\ffmpeg_reader.py:190: UserWarning: In file movie_dir\\-220020068_456239859\\-220020068_456239859.mp4, 6220800 bytes wanted but 0 bytes read at frame index 13800 (out of a total 90888 frames), at time 575.00/3787.04 sec. Using the last valid frame instead.\n",
      "  warnings.warn(\n",
      "C:\\Users\\user\\DataspellProjects\\yandex\\venv\\lib\\site-packages\\moviepy\\video\\io\\ffmpeg_reader.py:190: UserWarning: In file movie_dir\\-220020068_456239859\\-220020068_456239859.mp4, 6220800 bytes wanted but 0 bytes read at frame index 13824 (out of a total 90888 frames), at time 576.00/3787.04 sec. Using the last valid frame instead.\n",
      "  warnings.warn(\n",
      "C:\\Users\\user\\DataspellProjects\\yandex\\venv\\lib\\site-packages\\moviepy\\video\\io\\ffmpeg_reader.py:190: UserWarning: In file movie_dir\\-220020068_456239859\\-220020068_456239859.mp4, 6220800 bytes wanted but 0 bytes read at frame index 13848 (out of a total 90888 frames), at time 577.00/3787.04 sec. Using the last valid frame instead.\n",
      "  warnings.warn(\n",
      "C:\\Users\\user\\DataspellProjects\\yandex\\venv\\lib\\site-packages\\moviepy\\video\\io\\ffmpeg_reader.py:190: UserWarning: In file movie_dir\\-220020068_456239859\\-220020068_456239859.mp4, 6220800 bytes wanted but 0 bytes read at frame index 13872 (out of a total 90888 frames), at time 578.00/3787.04 sec. Using the last valid frame instead.\n",
      "  warnings.warn(\n",
      "C:\\Users\\user\\DataspellProjects\\yandex\\venv\\lib\\site-packages\\moviepy\\video\\io\\ffmpeg_reader.py:190: UserWarning: In file movie_dir\\-220020068_456239859\\-220020068_456239859.mp4, 6220800 bytes wanted but 0 bytes read at frame index 13896 (out of a total 90888 frames), at time 579.00/3787.04 sec. Using the last valid frame instead.\n",
      "  warnings.warn(\n",
      "C:\\Users\\user\\DataspellProjects\\yandex\\venv\\lib\\site-packages\\moviepy\\video\\io\\ffmpeg_reader.py:190: UserWarning: In file movie_dir\\-220020068_456239859\\-220020068_456239859.mp4, 6220800 bytes wanted but 0 bytes read at frame index 13920 (out of a total 90888 frames), at time 580.00/3787.04 sec. Using the last valid frame instead.\n",
      "  warnings.warn(\n",
      "C:\\Users\\user\\DataspellProjects\\yandex\\venv\\lib\\site-packages\\moviepy\\video\\io\\ffmpeg_reader.py:190: UserWarning: In file movie_dir\\-220020068_456239859\\-220020068_456239859.mp4, 6220800 bytes wanted but 0 bytes read at frame index 13944 (out of a total 90888 frames), at time 581.00/3787.04 sec. Using the last valid frame instead.\n",
      "  warnings.warn(\n",
      "C:\\Users\\user\\DataspellProjects\\yandex\\venv\\lib\\site-packages\\moviepy\\video\\io\\ffmpeg_reader.py:190: UserWarning: In file movie_dir\\-220020068_456239859\\-220020068_456239859.mp4, 6220800 bytes wanted but 0 bytes read at frame index 13968 (out of a total 90888 frames), at time 582.00/3787.04 sec. Using the last valid frame instead.\n",
      "  warnings.warn(\n",
      "C:\\Users\\user\\DataspellProjects\\yandex\\venv\\lib\\site-packages\\moviepy\\video\\io\\ffmpeg_reader.py:190: UserWarning: In file movie_dir\\-220020068_456239859\\-220020068_456239859.mp4, 6220800 bytes wanted but 0 bytes read at frame index 13992 (out of a total 90888 frames), at time 583.00/3787.04 sec. Using the last valid frame instead.\n",
      "  warnings.warn(\n",
      "C:\\Users\\user\\DataspellProjects\\yandex\\venv\\lib\\site-packages\\moviepy\\video\\io\\ffmpeg_reader.py:190: UserWarning: In file movie_dir\\-220020068_456239859\\-220020068_456239859.mp4, 6220800 bytes wanted but 0 bytes read at frame index 14016 (out of a total 90888 frames), at time 584.00/3787.04 sec. Using the last valid frame instead.\n",
      "  warnings.warn(\n",
      "C:\\Users\\user\\DataspellProjects\\yandex\\venv\\lib\\site-packages\\moviepy\\video\\io\\ffmpeg_reader.py:190: UserWarning: In file movie_dir\\-220020068_456239859\\-220020068_456239859.mp4, 6220800 bytes wanted but 0 bytes read at frame index 14040 (out of a total 90888 frames), at time 585.00/3787.04 sec. Using the last valid frame instead.\n",
      "  warnings.warn(\n",
      "C:\\Users\\user\\DataspellProjects\\yandex\\venv\\lib\\site-packages\\moviepy\\video\\io\\ffmpeg_reader.py:190: UserWarning: In file movie_dir\\-220020068_456239859\\-220020068_456239859.mp4, 6220800 bytes wanted but 0 bytes read at frame index 14064 (out of a total 90888 frames), at time 586.00/3787.04 sec. Using the last valid frame instead.\n",
      "  warnings.warn(\n",
      "C:\\Users\\user\\DataspellProjects\\yandex\\venv\\lib\\site-packages\\moviepy\\video\\io\\ffmpeg_reader.py:190: UserWarning: In file movie_dir\\-220020068_456239859\\-220020068_456239859.mp4, 6220800 bytes wanted but 0 bytes read at frame index 14088 (out of a total 90888 frames), at time 587.00/3787.04 sec. Using the last valid frame instead.\n",
      "  warnings.warn(\n",
      "C:\\Users\\user\\DataspellProjects\\yandex\\venv\\lib\\site-packages\\moviepy\\video\\io\\ffmpeg_reader.py:190: UserWarning: In file movie_dir\\-220020068_456239859\\-220020068_456239859.mp4, 6220800 bytes wanted but 0 bytes read at frame index 14112 (out of a total 90888 frames), at time 588.00/3787.04 sec. Using the last valid frame instead.\n",
      "  warnings.warn(\n",
      "C:\\Users\\user\\DataspellProjects\\yandex\\venv\\lib\\site-packages\\moviepy\\video\\io\\ffmpeg_reader.py:190: UserWarning: In file movie_dir\\-220020068_456239859\\-220020068_456239859.mp4, 6220800 bytes wanted but 0 bytes read at frame index 14136 (out of a total 90888 frames), at time 589.00/3787.04 sec. Using the last valid frame instead.\n",
      "  warnings.warn(\n",
      "C:\\Users\\user\\DataspellProjects\\yandex\\venv\\lib\\site-packages\\moviepy\\video\\io\\ffmpeg_reader.py:190: UserWarning: In file movie_dir\\-220020068_456239859\\-220020068_456239859.mp4, 6220800 bytes wanted but 0 bytes read at frame index 14160 (out of a total 90888 frames), at time 590.00/3787.04 sec. Using the last valid frame instead.\n",
      "  warnings.warn(\n",
      "C:\\Users\\user\\DataspellProjects\\yandex\\venv\\lib\\site-packages\\moviepy\\video\\io\\ffmpeg_reader.py:190: UserWarning: In file movie_dir\\-220020068_456239859\\-220020068_456239859.mp4, 6220800 bytes wanted but 0 bytes read at frame index 14184 (out of a total 90888 frames), at time 591.00/3787.04 sec. Using the last valid frame instead.\n",
      "  warnings.warn(\n",
      "C:\\Users\\user\\DataspellProjects\\yandex\\venv\\lib\\site-packages\\moviepy\\video\\io\\ffmpeg_reader.py:190: UserWarning: In file movie_dir\\-220020068_456239859\\-220020068_456239859.mp4, 6220800 bytes wanted but 0 bytes read at frame index 14208 (out of a total 90888 frames), at time 592.00/3787.04 sec. Using the last valid frame instead.\n",
      "  warnings.warn(\n",
      "C:\\Users\\user\\DataspellProjects\\yandex\\venv\\lib\\site-packages\\moviepy\\video\\io\\ffmpeg_reader.py:190: UserWarning: In file movie_dir\\-220020068_456239859\\-220020068_456239859.mp4, 6220800 bytes wanted but 0 bytes read at frame index 14232 (out of a total 90888 frames), at time 593.00/3787.04 sec. Using the last valid frame instead.\n",
      "  warnings.warn(\n",
      "C:\\Users\\user\\DataspellProjects\\yandex\\venv\\lib\\site-packages\\moviepy\\video\\io\\ffmpeg_reader.py:190: UserWarning: In file movie_dir\\-220020068_456239859\\-220020068_456239859.mp4, 6220800 bytes wanted but 0 bytes read at frame index 14256 (out of a total 90888 frames), at time 594.00/3787.04 sec. Using the last valid frame instead.\n",
      "  warnings.warn(\n",
      "C:\\Users\\user\\DataspellProjects\\yandex\\venv\\lib\\site-packages\\moviepy\\video\\io\\ffmpeg_reader.py:190: UserWarning: In file movie_dir\\-220020068_456239859\\-220020068_456239859.mp4, 6220800 bytes wanted but 0 bytes read at frame index 14280 (out of a total 90888 frames), at time 595.00/3787.04 sec. Using the last valid frame instead.\n",
      "  warnings.warn(\n",
      "C:\\Users\\user\\DataspellProjects\\yandex\\venv\\lib\\site-packages\\moviepy\\video\\io\\ffmpeg_reader.py:190: UserWarning: In file movie_dir\\-220020068_456239859\\-220020068_456239859.mp4, 6220800 bytes wanted but 0 bytes read at frame index 14304 (out of a total 90888 frames), at time 596.00/3787.04 sec. Using the last valid frame instead.\n",
      "  warnings.warn(\n",
      "C:\\Users\\user\\DataspellProjects\\yandex\\venv\\lib\\site-packages\\moviepy\\video\\io\\ffmpeg_reader.py:190: UserWarning: In file movie_dir\\-220020068_456239859\\-220020068_456239859.mp4, 6220800 bytes wanted but 0 bytes read at frame index 14328 (out of a total 90888 frames), at time 597.00/3787.04 sec. Using the last valid frame instead.\n",
      "  warnings.warn(\n",
      "C:\\Users\\user\\DataspellProjects\\yandex\\venv\\lib\\site-packages\\moviepy\\video\\io\\ffmpeg_reader.py:190: UserWarning: In file movie_dir\\-220020068_456239859\\-220020068_456239859.mp4, 6220800 bytes wanted but 0 bytes read at frame index 14352 (out of a total 90888 frames), at time 598.00/3787.04 sec. Using the last valid frame instead.\n",
      "  warnings.warn(\n",
      "C:\\Users\\user\\DataspellProjects\\yandex\\venv\\lib\\site-packages\\moviepy\\video\\io\\ffmpeg_reader.py:190: UserWarning: In file movie_dir\\-220020068_456239859\\-220020068_456239859.mp4, 6220800 bytes wanted but 0 bytes read at frame index 14376 (out of a total 90888 frames), at time 599.00/3787.04 sec. Using the last valid frame instead.\n",
      "  warnings.warn(\n",
      "C:\\Users\\user\\DataspellProjects\\yandex\\venv\\lib\\site-packages\\moviepy\\video\\io\\ffmpeg_reader.py:190: UserWarning: In file movie_dir\\-220020068_456239859\\-220020068_456239859.mp4, 6220800 bytes wanted but 0 bytes read at frame index 14400 (out of a total 90888 frames), at time 600.00/3787.04 sec. Using the last valid frame instead.\n",
      "  warnings.warn(\n",
      "C:\\Users\\user\\DataspellProjects\\yandex\\venv\\lib\\site-packages\\moviepy\\video\\io\\ffmpeg_reader.py:190: UserWarning: In file movie_dir\\-220020068_456239859\\-220020068_456239859.mp4, 6220800 bytes wanted but 0 bytes read at frame index 14424 (out of a total 90888 frames), at time 601.00/3787.04 sec. Using the last valid frame instead.\n",
      "  warnings.warn(\n",
      "C:\\Users\\user\\DataspellProjects\\yandex\\venv\\lib\\site-packages\\moviepy\\video\\io\\ffmpeg_reader.py:190: UserWarning: In file movie_dir\\-220020068_456239859\\-220020068_456239859.mp4, 6220800 bytes wanted but 0 bytes read at frame index 14448 (out of a total 90888 frames), at time 602.00/3787.04 sec. Using the last valid frame instead.\n",
      "  warnings.warn(\n",
      "C:\\Users\\user\\DataspellProjects\\yandex\\venv\\lib\\site-packages\\moviepy\\video\\io\\ffmpeg_reader.py:190: UserWarning: In file movie_dir\\-220020068_456239859\\-220020068_456239859.mp4, 6220800 bytes wanted but 0 bytes read at frame index 14472 (out of a total 90888 frames), at time 603.00/3787.04 sec. Using the last valid frame instead.\n",
      "  warnings.warn(\n",
      "C:\\Users\\user\\DataspellProjects\\yandex\\venv\\lib\\site-packages\\moviepy\\video\\io\\ffmpeg_reader.py:190: UserWarning: In file movie_dir\\-220020068_456239859\\-220020068_456239859.mp4, 6220800 bytes wanted but 0 bytes read at frame index 14496 (out of a total 90888 frames), at time 604.00/3787.04 sec. Using the last valid frame instead.\n",
      "  warnings.warn(\n",
      "C:\\Users\\user\\DataspellProjects\\yandex\\venv\\lib\\site-packages\\moviepy\\video\\io\\ffmpeg_reader.py:190: UserWarning: In file movie_dir\\-220020068_456239859\\-220020068_456239859.mp4, 6220800 bytes wanted but 0 bytes read at frame index 14520 (out of a total 90888 frames), at time 605.00/3787.04 sec. Using the last valid frame instead.\n",
      "  warnings.warn(\n",
      "C:\\Users\\user\\DataspellProjects\\yandex\\venv\\lib\\site-packages\\moviepy\\video\\io\\ffmpeg_reader.py:190: UserWarning: In file movie_dir\\-220020068_456239859\\-220020068_456239859.mp4, 6220800 bytes wanted but 0 bytes read at frame index 14544 (out of a total 90888 frames), at time 606.00/3787.04 sec. Using the last valid frame instead.\n",
      "  warnings.warn(\n",
      "C:\\Users\\user\\DataspellProjects\\yandex\\venv\\lib\\site-packages\\moviepy\\video\\io\\ffmpeg_reader.py:190: UserWarning: In file movie_dir\\-220020068_456239859\\-220020068_456239859.mp4, 6220800 bytes wanted but 0 bytes read at frame index 14568 (out of a total 90888 frames), at time 607.00/3787.04 sec. Using the last valid frame instead.\n",
      "  warnings.warn(\n",
      "C:\\Users\\user\\DataspellProjects\\yandex\\venv\\lib\\site-packages\\moviepy\\video\\io\\ffmpeg_reader.py:190: UserWarning: In file movie_dir\\-220020068_456239859\\-220020068_456239859.mp4, 6220800 bytes wanted but 0 bytes read at frame index 14592 (out of a total 90888 frames), at time 608.00/3787.04 sec. Using the last valid frame instead.\n",
      "  warnings.warn(\n",
      "C:\\Users\\user\\DataspellProjects\\yandex\\venv\\lib\\site-packages\\moviepy\\video\\io\\ffmpeg_reader.py:190: UserWarning: In file movie_dir\\-220020068_456239859\\-220020068_456239859.mp4, 6220800 bytes wanted but 0 bytes read at frame index 14616 (out of a total 90888 frames), at time 609.00/3787.04 sec. Using the last valid frame instead.\n",
      "  warnings.warn(\n",
      "C:\\Users\\user\\DataspellProjects\\yandex\\venv\\lib\\site-packages\\moviepy\\video\\io\\ffmpeg_reader.py:190: UserWarning: In file movie_dir\\-220020068_456239859\\-220020068_456239859.mp4, 6220800 bytes wanted but 0 bytes read at frame index 14640 (out of a total 90888 frames), at time 610.00/3787.04 sec. Using the last valid frame instead.\n",
      "  warnings.warn(\n",
      "C:\\Users\\user\\DataspellProjects\\yandex\\venv\\lib\\site-packages\\moviepy\\video\\io\\ffmpeg_reader.py:190: UserWarning: In file movie_dir\\-220020068_456239859\\-220020068_456239859.mp4, 6220800 bytes wanted but 0 bytes read at frame index 14664 (out of a total 90888 frames), at time 611.00/3787.04 sec. Using the last valid frame instead.\n",
      "  warnings.warn(\n",
      "C:\\Users\\user\\DataspellProjects\\yandex\\venv\\lib\\site-packages\\moviepy\\video\\io\\ffmpeg_reader.py:190: UserWarning: In file movie_dir\\-220020068_456239859\\-220020068_456239859.mp4, 6220800 bytes wanted but 0 bytes read at frame index 14688 (out of a total 90888 frames), at time 612.00/3787.04 sec. Using the last valid frame instead.\n",
      "  warnings.warn(\n",
      "C:\\Users\\user\\DataspellProjects\\yandex\\venv\\lib\\site-packages\\moviepy\\video\\io\\ffmpeg_reader.py:190: UserWarning: In file movie_dir\\-220020068_456239859\\-220020068_456239859.mp4, 6220800 bytes wanted but 0 bytes read at frame index 14712 (out of a total 90888 frames), at time 613.00/3787.04 sec. Using the last valid frame instead.\n",
      "  warnings.warn(\n",
      "C:\\Users\\user\\DataspellProjects\\yandex\\venv\\lib\\site-packages\\moviepy\\video\\io\\ffmpeg_reader.py:190: UserWarning: In file movie_dir\\-220020068_456239859\\-220020068_456239859.mp4, 6220800 bytes wanted but 0 bytes read at frame index 14736 (out of a total 90888 frames), at time 614.00/3787.04 sec. Using the last valid frame instead.\n",
      "  warnings.warn(\n",
      "C:\\Users\\user\\DataspellProjects\\yandex\\venv\\lib\\site-packages\\moviepy\\video\\io\\ffmpeg_reader.py:190: UserWarning: In file movie_dir\\-220020068_456239859\\-220020068_456239859.mp4, 6220800 bytes wanted but 0 bytes read at frame index 14760 (out of a total 90888 frames), at time 615.00/3787.04 sec. Using the last valid frame instead.\n",
      "  warnings.warn(\n",
      "C:\\Users\\user\\DataspellProjects\\yandex\\venv\\lib\\site-packages\\moviepy\\video\\io\\ffmpeg_reader.py:190: UserWarning: In file movie_dir\\-220020068_456239859\\-220020068_456239859.mp4, 6220800 bytes wanted but 0 bytes read at frame index 14784 (out of a total 90888 frames), at time 616.00/3787.04 sec. Using the last valid frame instead.\n",
      "  warnings.warn(\n",
      "C:\\Users\\user\\DataspellProjects\\yandex\\venv\\lib\\site-packages\\moviepy\\video\\io\\ffmpeg_reader.py:190: UserWarning: In file movie_dir\\-220020068_456239859\\-220020068_456239859.mp4, 6220800 bytes wanted but 0 bytes read at frame index 14808 (out of a total 90888 frames), at time 617.00/3787.04 sec. Using the last valid frame instead.\n",
      "  warnings.warn(\n",
      "C:\\Users\\user\\DataspellProjects\\yandex\\venv\\lib\\site-packages\\moviepy\\video\\io\\ffmpeg_reader.py:190: UserWarning: In file movie_dir\\-220020068_456239859\\-220020068_456239859.mp4, 6220800 bytes wanted but 0 bytes read at frame index 14832 (out of a total 90888 frames), at time 618.00/3787.04 sec. Using the last valid frame instead.\n",
      "  warnings.warn(\n",
      "C:\\Users\\user\\DataspellProjects\\yandex\\venv\\lib\\site-packages\\moviepy\\video\\io\\ffmpeg_reader.py:190: UserWarning: In file movie_dir\\-220020068_456239859\\-220020068_456239859.mp4, 6220800 bytes wanted but 0 bytes read at frame index 14856 (out of a total 90888 frames), at time 619.00/3787.04 sec. Using the last valid frame instead.\n",
      "  warnings.warn(\n",
      "C:\\Users\\user\\DataspellProjects\\yandex\\venv\\lib\\site-packages\\moviepy\\video\\io\\ffmpeg_reader.py:190: UserWarning: In file movie_dir\\-220020068_456239859\\-220020068_456239859.mp4, 6220800 bytes wanted but 0 bytes read at frame index 14880 (out of a total 90888 frames), at time 620.00/3787.04 sec. Using the last valid frame instead.\n",
      "  warnings.warn(\n",
      "C:\\Users\\user\\DataspellProjects\\yandex\\venv\\lib\\site-packages\\moviepy\\video\\io\\ffmpeg_reader.py:190: UserWarning: In file movie_dir\\-220020068_456239859\\-220020068_456239859.mp4, 6220800 bytes wanted but 0 bytes read at frame index 14904 (out of a total 90888 frames), at time 621.00/3787.04 sec. Using the last valid frame instead.\n",
      "  warnings.warn(\n",
      "C:\\Users\\user\\DataspellProjects\\yandex\\venv\\lib\\site-packages\\moviepy\\video\\io\\ffmpeg_reader.py:190: UserWarning: In file movie_dir\\-220020068_456239859\\-220020068_456239859.mp4, 6220800 bytes wanted but 0 bytes read at frame index 14928 (out of a total 90888 frames), at time 622.00/3787.04 sec. Using the last valid frame instead.\n",
      "  warnings.warn(\n",
      "C:\\Users\\user\\DataspellProjects\\yandex\\venv\\lib\\site-packages\\moviepy\\video\\io\\ffmpeg_reader.py:190: UserWarning: In file movie_dir\\-220020068_456239859\\-220020068_456239859.mp4, 6220800 bytes wanted but 0 bytes read at frame index 14952 (out of a total 90888 frames), at time 623.00/3787.04 sec. Using the last valid frame instead.\n",
      "  warnings.warn(\n",
      "C:\\Users\\user\\DataspellProjects\\yandex\\venv\\lib\\site-packages\\moviepy\\video\\io\\ffmpeg_reader.py:190: UserWarning: In file movie_dir\\-220020068_456239859\\-220020068_456239859.mp4, 6220800 bytes wanted but 0 bytes read at frame index 14976 (out of a total 90888 frames), at time 624.00/3787.04 sec. Using the last valid frame instead.\n",
      "  warnings.warn(\n",
      "C:\\Users\\user\\DataspellProjects\\yandex\\venv\\lib\\site-packages\\moviepy\\video\\io\\ffmpeg_reader.py:190: UserWarning: In file movie_dir\\-220020068_456239859\\-220020068_456239859.mp4, 6220800 bytes wanted but 0 bytes read at frame index 15000 (out of a total 90888 frames), at time 625.00/3787.04 sec. Using the last valid frame instead.\n",
      "  warnings.warn(\n",
      "C:\\Users\\user\\DataspellProjects\\yandex\\venv\\lib\\site-packages\\moviepy\\video\\io\\ffmpeg_reader.py:190: UserWarning: In file movie_dir\\-220020068_456239859\\-220020068_456239859.mp4, 6220800 bytes wanted but 0 bytes read at frame index 15024 (out of a total 90888 frames), at time 626.00/3787.04 sec. Using the last valid frame instead.\n",
      "  warnings.warn(\n",
      "C:\\Users\\user\\DataspellProjects\\yandex\\venv\\lib\\site-packages\\moviepy\\video\\io\\ffmpeg_reader.py:190: UserWarning: In file movie_dir\\-220020068_456239859\\-220020068_456239859.mp4, 6220800 bytes wanted but 0 bytes read at frame index 15048 (out of a total 90888 frames), at time 627.00/3787.04 sec. Using the last valid frame instead.\n",
      "  warnings.warn(\n",
      "C:\\Users\\user\\DataspellProjects\\yandex\\venv\\lib\\site-packages\\moviepy\\video\\io\\ffmpeg_reader.py:190: UserWarning: In file movie_dir\\-220020068_456239859\\-220020068_456239859.mp4, 6220800 bytes wanted but 0 bytes read at frame index 15072 (out of a total 90888 frames), at time 628.00/3787.04 sec. Using the last valid frame instead.\n",
      "  warnings.warn(\n",
      "C:\\Users\\user\\DataspellProjects\\yandex\\venv\\lib\\site-packages\\moviepy\\video\\io\\ffmpeg_reader.py:190: UserWarning: In file movie_dir\\-220020068_456239859\\-220020068_456239859.mp4, 6220800 bytes wanted but 0 bytes read at frame index 15096 (out of a total 90888 frames), at time 629.00/3787.04 sec. Using the last valid frame instead.\n",
      "  warnings.warn(\n",
      "C:\\Users\\user\\DataspellProjects\\yandex\\venv\\lib\\site-packages\\moviepy\\video\\io\\ffmpeg_reader.py:190: UserWarning: In file movie_dir\\-220020068_456239859\\-220020068_456239859.mp4, 6220800 bytes wanted but 0 bytes read at frame index 15120 (out of a total 90888 frames), at time 630.00/3787.04 sec. Using the last valid frame instead.\n",
      "  warnings.warn(\n",
      "C:\\Users\\user\\DataspellProjects\\yandex\\venv\\lib\\site-packages\\moviepy\\video\\io\\ffmpeg_reader.py:190: UserWarning: In file movie_dir\\-220020068_456239859\\-220020068_456239859.mp4, 6220800 bytes wanted but 0 bytes read at frame index 15144 (out of a total 90888 frames), at time 631.00/3787.04 sec. Using the last valid frame instead.\n",
      "  warnings.warn(\n",
      "C:\\Users\\user\\DataspellProjects\\yandex\\venv\\lib\\site-packages\\moviepy\\video\\io\\ffmpeg_reader.py:190: UserWarning: In file movie_dir\\-220020068_456239859\\-220020068_456239859.mp4, 6220800 bytes wanted but 0 bytes read at frame index 15168 (out of a total 90888 frames), at time 632.00/3787.04 sec. Using the last valid frame instead.\n",
      "  warnings.warn(\n",
      "C:\\Users\\user\\DataspellProjects\\yandex\\venv\\lib\\site-packages\\moviepy\\video\\io\\ffmpeg_reader.py:190: UserWarning: In file movie_dir\\-220020068_456239859\\-220020068_456239859.mp4, 6220800 bytes wanted but 0 bytes read at frame index 15192 (out of a total 90888 frames), at time 633.00/3787.04 sec. Using the last valid frame instead.\n",
      "  warnings.warn(\n",
      "C:\\Users\\user\\DataspellProjects\\yandex\\venv\\lib\\site-packages\\moviepy\\video\\io\\ffmpeg_reader.py:190: UserWarning: In file movie_dir\\-220020068_456239859\\-220020068_456239859.mp4, 6220800 bytes wanted but 0 bytes read at frame index 15216 (out of a total 90888 frames), at time 634.00/3787.04 sec. Using the last valid frame instead.\n",
      "  warnings.warn(\n",
      "C:\\Users\\user\\DataspellProjects\\yandex\\venv\\lib\\site-packages\\moviepy\\video\\io\\ffmpeg_reader.py:190: UserWarning: In file movie_dir\\-220020068_456239859\\-220020068_456239859.mp4, 6220800 bytes wanted but 0 bytes read at frame index 15240 (out of a total 90888 frames), at time 635.00/3787.04 sec. Using the last valid frame instead.\n",
      "  warnings.warn(\n",
      "C:\\Users\\user\\DataspellProjects\\yandex\\venv\\lib\\site-packages\\moviepy\\video\\io\\ffmpeg_reader.py:190: UserWarning: In file movie_dir\\-220020068_456239859\\-220020068_456239859.mp4, 6220800 bytes wanted but 0 bytes read at frame index 15264 (out of a total 90888 frames), at time 636.00/3787.04 sec. Using the last valid frame instead.\n",
      "  warnings.warn(\n",
      "C:\\Users\\user\\DataspellProjects\\yandex\\venv\\lib\\site-packages\\moviepy\\video\\io\\ffmpeg_reader.py:190: UserWarning: In file movie_dir\\-220020068_456239859\\-220020068_456239859.mp4, 6220800 bytes wanted but 0 bytes read at frame index 15288 (out of a total 90888 frames), at time 637.00/3787.04 sec. Using the last valid frame instead.\n",
      "  warnings.warn(\n",
      "C:\\Users\\user\\DataspellProjects\\yandex\\venv\\lib\\site-packages\\moviepy\\video\\io\\ffmpeg_reader.py:190: UserWarning: In file movie_dir\\-220020068_456239859\\-220020068_456239859.mp4, 6220800 bytes wanted but 0 bytes read at frame index 15312 (out of a total 90888 frames), at time 638.00/3787.04 sec. Using the last valid frame instead.\n",
      "  warnings.warn(\n",
      "C:\\Users\\user\\DataspellProjects\\yandex\\venv\\lib\\site-packages\\moviepy\\video\\io\\ffmpeg_reader.py:190: UserWarning: In file movie_dir\\-220020068_456239859\\-220020068_456239859.mp4, 6220800 bytes wanted but 0 bytes read at frame index 15336 (out of a total 90888 frames), at time 639.00/3787.04 sec. Using the last valid frame instead.\n",
      "  warnings.warn(\n",
      "C:\\Users\\user\\DataspellProjects\\yandex\\venv\\lib\\site-packages\\moviepy\\video\\io\\ffmpeg_reader.py:190: UserWarning: In file movie_dir\\-220020068_456239859\\-220020068_456239859.mp4, 6220800 bytes wanted but 0 bytes read at frame index 15360 (out of a total 90888 frames), at time 640.00/3787.04 sec. Using the last valid frame instead.\n",
      "  warnings.warn(\n",
      "C:\\Users\\user\\DataspellProjects\\yandex\\venv\\lib\\site-packages\\moviepy\\video\\io\\ffmpeg_reader.py:190: UserWarning: In file movie_dir\\-220020068_456239859\\-220020068_456239859.mp4, 6220800 bytes wanted but 0 bytes read at frame index 15384 (out of a total 90888 frames), at time 641.00/3787.04 sec. Using the last valid frame instead.\n",
      "  warnings.warn(\n",
      "C:\\Users\\user\\DataspellProjects\\yandex\\venv\\lib\\site-packages\\moviepy\\video\\io\\ffmpeg_reader.py:190: UserWarning: In file movie_dir\\-220020068_456239859\\-220020068_456239859.mp4, 6220800 bytes wanted but 0 bytes read at frame index 15408 (out of a total 90888 frames), at time 642.00/3787.04 sec. Using the last valid frame instead.\n",
      "  warnings.warn(\n",
      "C:\\Users\\user\\DataspellProjects\\yandex\\venv\\lib\\site-packages\\moviepy\\video\\io\\ffmpeg_reader.py:190: UserWarning: In file movie_dir\\-220020068_456239859\\-220020068_456239859.mp4, 6220800 bytes wanted but 0 bytes read at frame index 15432 (out of a total 90888 frames), at time 643.00/3787.04 sec. Using the last valid frame instead.\n",
      "  warnings.warn(\n",
      "C:\\Users\\user\\DataspellProjects\\yandex\\venv\\lib\\site-packages\\moviepy\\video\\io\\ffmpeg_reader.py:190: UserWarning: In file movie_dir\\-220020068_456239859\\-220020068_456239859.mp4, 6220800 bytes wanted but 0 bytes read at frame index 15456 (out of a total 90888 frames), at time 644.00/3787.04 sec. Using the last valid frame instead.\n",
      "  warnings.warn(\n",
      "C:\\Users\\user\\DataspellProjects\\yandex\\venv\\lib\\site-packages\\moviepy\\video\\io\\ffmpeg_reader.py:190: UserWarning: In file movie_dir\\-220020068_456239859\\-220020068_456239859.mp4, 6220800 bytes wanted but 0 bytes read at frame index 15480 (out of a total 90888 frames), at time 645.00/3787.04 sec. Using the last valid frame instead.\n",
      "  warnings.warn(\n",
      "C:\\Users\\user\\DataspellProjects\\yandex\\venv\\lib\\site-packages\\moviepy\\video\\io\\ffmpeg_reader.py:190: UserWarning: In file movie_dir\\-220020068_456239859\\-220020068_456239859.mp4, 6220800 bytes wanted but 0 bytes read at frame index 15504 (out of a total 90888 frames), at time 646.00/3787.04 sec. Using the last valid frame instead.\n",
      "  warnings.warn(\n",
      "C:\\Users\\user\\DataspellProjects\\yandex\\venv\\lib\\site-packages\\moviepy\\video\\io\\ffmpeg_reader.py:190: UserWarning: In file movie_dir\\-220020068_456239859\\-220020068_456239859.mp4, 6220800 bytes wanted but 0 bytes read at frame index 15528 (out of a total 90888 frames), at time 647.00/3787.04 sec. Using the last valid frame instead.\n",
      "  warnings.warn(\n",
      "C:\\Users\\user\\DataspellProjects\\yandex\\venv\\lib\\site-packages\\moviepy\\video\\io\\ffmpeg_reader.py:190: UserWarning: In file movie_dir\\-220020068_456239859\\-220020068_456239859.mp4, 6220800 bytes wanted but 0 bytes read at frame index 15552 (out of a total 90888 frames), at time 648.00/3787.04 sec. Using the last valid frame instead.\n",
      "  warnings.warn(\n",
      "C:\\Users\\user\\DataspellProjects\\yandex\\venv\\lib\\site-packages\\moviepy\\video\\io\\ffmpeg_reader.py:190: UserWarning: In file movie_dir\\-220020068_456239859\\-220020068_456239859.mp4, 6220800 bytes wanted but 0 bytes read at frame index 15576 (out of a total 90888 frames), at time 649.00/3787.04 sec. Using the last valid frame instead.\n",
      "  warnings.warn(\n",
      "C:\\Users\\user\\DataspellProjects\\yandex\\venv\\lib\\site-packages\\moviepy\\video\\io\\ffmpeg_reader.py:190: UserWarning: In file movie_dir\\-220020068_456239859\\-220020068_456239859.mp4, 6220800 bytes wanted but 0 bytes read at frame index 15600 (out of a total 90888 frames), at time 650.00/3787.04 sec. Using the last valid frame instead.\n",
      "  warnings.warn(\n",
      "C:\\Users\\user\\DataspellProjects\\yandex\\venv\\lib\\site-packages\\moviepy\\video\\io\\ffmpeg_reader.py:190: UserWarning: In file movie_dir\\-220020068_456239859\\-220020068_456239859.mp4, 6220800 bytes wanted but 0 bytes read at frame index 15624 (out of a total 90888 frames), at time 651.00/3787.04 sec. Using the last valid frame instead.\n",
      "  warnings.warn(\n",
      "C:\\Users\\user\\DataspellProjects\\yandex\\venv\\lib\\site-packages\\moviepy\\video\\io\\ffmpeg_reader.py:190: UserWarning: In file movie_dir\\-220020068_456239859\\-220020068_456239859.mp4, 6220800 bytes wanted but 0 bytes read at frame index 15648 (out of a total 90888 frames), at time 652.00/3787.04 sec. Using the last valid frame instead.\n",
      "  warnings.warn(\n",
      "C:\\Users\\user\\DataspellProjects\\yandex\\venv\\lib\\site-packages\\moviepy\\video\\io\\ffmpeg_reader.py:190: UserWarning: In file movie_dir\\-220020068_456239859\\-220020068_456239859.mp4, 6220800 bytes wanted but 0 bytes read at frame index 15672 (out of a total 90888 frames), at time 653.00/3787.04 sec. Using the last valid frame instead.\n",
      "  warnings.warn(\n",
      "C:\\Users\\user\\DataspellProjects\\yandex\\venv\\lib\\site-packages\\moviepy\\video\\io\\ffmpeg_reader.py:190: UserWarning: In file movie_dir\\-220020068_456239859\\-220020068_456239859.mp4, 6220800 bytes wanted but 0 bytes read at frame index 15696 (out of a total 90888 frames), at time 654.00/3787.04 sec. Using the last valid frame instead.\n",
      "  warnings.warn(\n",
      "C:\\Users\\user\\DataspellProjects\\yandex\\venv\\lib\\site-packages\\moviepy\\video\\io\\ffmpeg_reader.py:190: UserWarning: In file movie_dir\\-220020068_456239859\\-220020068_456239859.mp4, 6220800 bytes wanted but 0 bytes read at frame index 15720 (out of a total 90888 frames), at time 655.00/3787.04 sec. Using the last valid frame instead.\n",
      "  warnings.warn(\n",
      "C:\\Users\\user\\DataspellProjects\\yandex\\venv\\lib\\site-packages\\moviepy\\video\\io\\ffmpeg_reader.py:190: UserWarning: In file movie_dir\\-220020068_456239859\\-220020068_456239859.mp4, 6220800 bytes wanted but 0 bytes read at frame index 15744 (out of a total 90888 frames), at time 656.00/3787.04 sec. Using the last valid frame instead.\n",
      "  warnings.warn(\n",
      "C:\\Users\\user\\DataspellProjects\\yandex\\venv\\lib\\site-packages\\moviepy\\video\\io\\ffmpeg_reader.py:190: UserWarning: In file movie_dir\\-220020068_456239859\\-220020068_456239859.mp4, 6220800 bytes wanted but 0 bytes read at frame index 15768 (out of a total 90888 frames), at time 657.00/3787.04 sec. Using the last valid frame instead.\n",
      "  warnings.warn(\n",
      "C:\\Users\\user\\DataspellProjects\\yandex\\venv\\lib\\site-packages\\moviepy\\video\\io\\ffmpeg_reader.py:190: UserWarning: In file movie_dir\\-220020068_456239859\\-220020068_456239859.mp4, 6220800 bytes wanted but 0 bytes read at frame index 15792 (out of a total 90888 frames), at time 658.00/3787.04 sec. Using the last valid frame instead.\n",
      "  warnings.warn(\n",
      "C:\\Users\\user\\DataspellProjects\\yandex\\venv\\lib\\site-packages\\moviepy\\video\\io\\ffmpeg_reader.py:190: UserWarning: In file movie_dir\\-220020068_456239859\\-220020068_456239859.mp4, 6220800 bytes wanted but 0 bytes read at frame index 15816 (out of a total 90888 frames), at time 659.00/3787.04 sec. Using the last valid frame instead.\n",
      "  warnings.warn(\n",
      "C:\\Users\\user\\DataspellProjects\\yandex\\venv\\lib\\site-packages\\moviepy\\video\\io\\ffmpeg_reader.py:190: UserWarning: In file movie_dir\\-220020068_456239859\\-220020068_456239859.mp4, 6220800 bytes wanted but 0 bytes read at frame index 15840 (out of a total 90888 frames), at time 660.00/3787.04 sec. Using the last valid frame instead.\n",
      "  warnings.warn(\n",
      "C:\\Users\\user\\DataspellProjects\\yandex\\venv\\lib\\site-packages\\moviepy\\video\\io\\ffmpeg_reader.py:190: UserWarning: In file movie_dir\\-220020068_456239859\\-220020068_456239859.mp4, 6220800 bytes wanted but 0 bytes read at frame index 15864 (out of a total 90888 frames), at time 661.00/3787.04 sec. Using the last valid frame instead.\n",
      "  warnings.warn(\n",
      "C:\\Users\\user\\DataspellProjects\\yandex\\venv\\lib\\site-packages\\moviepy\\video\\io\\ffmpeg_reader.py:190: UserWarning: In file movie_dir\\-220020068_456239859\\-220020068_456239859.mp4, 6220800 bytes wanted but 0 bytes read at frame index 15888 (out of a total 90888 frames), at time 662.00/3787.04 sec. Using the last valid frame instead.\n",
      "  warnings.warn(\n",
      "C:\\Users\\user\\DataspellProjects\\yandex\\venv\\lib\\site-packages\\moviepy\\video\\io\\ffmpeg_reader.py:190: UserWarning: In file movie_dir\\-220020068_456239859\\-220020068_456239859.mp4, 6220800 bytes wanted but 0 bytes read at frame index 15912 (out of a total 90888 frames), at time 663.00/3787.04 sec. Using the last valid frame instead.\n",
      "  warnings.warn(\n",
      "C:\\Users\\user\\DataspellProjects\\yandex\\venv\\lib\\site-packages\\moviepy\\video\\io\\ffmpeg_reader.py:190: UserWarning: In file movie_dir\\-220020068_456239859\\-220020068_456239859.mp4, 6220800 bytes wanted but 0 bytes read at frame index 15936 (out of a total 90888 frames), at time 664.00/3787.04 sec. Using the last valid frame instead.\n",
      "  warnings.warn(\n",
      "C:\\Users\\user\\DataspellProjects\\yandex\\venv\\lib\\site-packages\\moviepy\\video\\io\\ffmpeg_reader.py:190: UserWarning: In file movie_dir\\-220020068_456239859\\-220020068_456239859.mp4, 6220800 bytes wanted but 0 bytes read at frame index 15960 (out of a total 90888 frames), at time 665.00/3787.04 sec. Using the last valid frame instead.\n",
      "  warnings.warn(\n",
      "C:\\Users\\user\\DataspellProjects\\yandex\\venv\\lib\\site-packages\\moviepy\\video\\io\\ffmpeg_reader.py:190: UserWarning: In file movie_dir\\-220020068_456239859\\-220020068_456239859.mp4, 6220800 bytes wanted but 0 bytes read at frame index 15984 (out of a total 90888 frames), at time 666.00/3787.04 sec. Using the last valid frame instead.\n",
      "  warnings.warn(\n",
      "C:\\Users\\user\\DataspellProjects\\yandex\\venv\\lib\\site-packages\\moviepy\\video\\io\\ffmpeg_reader.py:190: UserWarning: In file movie_dir\\-220020068_456239859\\-220020068_456239859.mp4, 6220800 bytes wanted but 0 bytes read at frame index 16008 (out of a total 90888 frames), at time 667.00/3787.04 sec. Using the last valid frame instead.\n",
      "  warnings.warn(\n",
      "C:\\Users\\user\\DataspellProjects\\yandex\\venv\\lib\\site-packages\\moviepy\\video\\io\\ffmpeg_reader.py:190: UserWarning: In file movie_dir\\-220020068_456239859\\-220020068_456239859.mp4, 6220800 bytes wanted but 0 bytes read at frame index 16032 (out of a total 90888 frames), at time 668.00/3787.04 sec. Using the last valid frame instead.\n",
      "  warnings.warn(\n",
      "C:\\Users\\user\\DataspellProjects\\yandex\\venv\\lib\\site-packages\\moviepy\\video\\io\\ffmpeg_reader.py:190: UserWarning: In file movie_dir\\-220020068_456239859\\-220020068_456239859.mp4, 6220800 bytes wanted but 0 bytes read at frame index 16056 (out of a total 90888 frames), at time 669.00/3787.04 sec. Using the last valid frame instead.\n",
      "  warnings.warn(\n",
      "C:\\Users\\user\\DataspellProjects\\yandex\\venv\\lib\\site-packages\\moviepy\\video\\io\\ffmpeg_reader.py:190: UserWarning: In file movie_dir\\-220020068_456239859\\-220020068_456239859.mp4, 6220800 bytes wanted but 0 bytes read at frame index 16080 (out of a total 90888 frames), at time 670.00/3787.04 sec. Using the last valid frame instead.\n",
      "  warnings.warn(\n",
      "C:\\Users\\user\\DataspellProjects\\yandex\\venv\\lib\\site-packages\\moviepy\\video\\io\\ffmpeg_reader.py:190: UserWarning: In file movie_dir\\-220020068_456239859\\-220020068_456239859.mp4, 6220800 bytes wanted but 0 bytes read at frame index 16104 (out of a total 90888 frames), at time 671.00/3787.04 sec. Using the last valid frame instead.\n",
      "  warnings.warn(\n",
      "C:\\Users\\user\\DataspellProjects\\yandex\\venv\\lib\\site-packages\\moviepy\\video\\io\\ffmpeg_reader.py:190: UserWarning: In file movie_dir\\-220020068_456239859\\-220020068_456239859.mp4, 6220800 bytes wanted but 0 bytes read at frame index 16128 (out of a total 90888 frames), at time 672.00/3787.04 sec. Using the last valid frame instead.\n",
      "  warnings.warn(\n",
      "C:\\Users\\user\\DataspellProjects\\yandex\\venv\\lib\\site-packages\\moviepy\\video\\io\\ffmpeg_reader.py:190: UserWarning: In file movie_dir\\-220020068_456239859\\-220020068_456239859.mp4, 6220800 bytes wanted but 0 bytes read at frame index 16152 (out of a total 90888 frames), at time 673.00/3787.04 sec. Using the last valid frame instead.\n",
      "  warnings.warn(\n",
      "C:\\Users\\user\\DataspellProjects\\yandex\\venv\\lib\\site-packages\\moviepy\\video\\io\\ffmpeg_reader.py:190: UserWarning: In file movie_dir\\-220020068_456239859\\-220020068_456239859.mp4, 6220800 bytes wanted but 0 bytes read at frame index 16176 (out of a total 90888 frames), at time 674.00/3787.04 sec. Using the last valid frame instead.\n",
      "  warnings.warn(\n",
      "C:\\Users\\user\\DataspellProjects\\yandex\\venv\\lib\\site-packages\\moviepy\\video\\io\\ffmpeg_reader.py:190: UserWarning: In file movie_dir\\-220020068_456239859\\-220020068_456239859.mp4, 6220800 bytes wanted but 0 bytes read at frame index 16200 (out of a total 90888 frames), at time 675.00/3787.04 sec. Using the last valid frame instead.\n",
      "  warnings.warn(\n",
      "C:\\Users\\user\\DataspellProjects\\yandex\\venv\\lib\\site-packages\\moviepy\\video\\io\\ffmpeg_reader.py:190: UserWarning: In file movie_dir\\-220020068_456239859\\-220020068_456239859.mp4, 6220800 bytes wanted but 0 bytes read at frame index 16224 (out of a total 90888 frames), at time 676.00/3787.04 sec. Using the last valid frame instead.\n",
      "  warnings.warn(\n",
      "C:\\Users\\user\\DataspellProjects\\yandex\\venv\\lib\\site-packages\\moviepy\\video\\io\\ffmpeg_reader.py:190: UserWarning: In file movie_dir\\-220020068_456239859\\-220020068_456239859.mp4, 6220800 bytes wanted but 0 bytes read at frame index 16248 (out of a total 90888 frames), at time 677.00/3787.04 sec. Using the last valid frame instead.\n",
      "  warnings.warn(\n",
      "C:\\Users\\user\\DataspellProjects\\yandex\\venv\\lib\\site-packages\\moviepy\\video\\io\\ffmpeg_reader.py:190: UserWarning: In file movie_dir\\-220020068_456239859\\-220020068_456239859.mp4, 6220800 bytes wanted but 0 bytes read at frame index 16272 (out of a total 90888 frames), at time 678.00/3787.04 sec. Using the last valid frame instead.\n",
      "  warnings.warn(\n",
      "C:\\Users\\user\\DataspellProjects\\yandex\\venv\\lib\\site-packages\\moviepy\\video\\io\\ffmpeg_reader.py:190: UserWarning: In file movie_dir\\-220020068_456239859\\-220020068_456239859.mp4, 6220800 bytes wanted but 0 bytes read at frame index 16296 (out of a total 90888 frames), at time 679.00/3787.04 sec. Using the last valid frame instead.\n",
      "  warnings.warn(\n",
      "C:\\Users\\user\\DataspellProjects\\yandex\\venv\\lib\\site-packages\\moviepy\\video\\io\\ffmpeg_reader.py:190: UserWarning: In file movie_dir\\-220020068_456239859\\-220020068_456239859.mp4, 6220800 bytes wanted but 0 bytes read at frame index 16320 (out of a total 90888 frames), at time 680.00/3787.04 sec. Using the last valid frame instead.\n",
      "  warnings.warn(\n",
      "C:\\Users\\user\\DataspellProjects\\yandex\\venv\\lib\\site-packages\\moviepy\\video\\io\\ffmpeg_reader.py:190: UserWarning: In file movie_dir\\-220020068_456239859\\-220020068_456239859.mp4, 6220800 bytes wanted but 0 bytes read at frame index 16344 (out of a total 90888 frames), at time 681.00/3787.04 sec. Using the last valid frame instead.\n",
      "  warnings.warn(\n",
      "C:\\Users\\user\\DataspellProjects\\yandex\\venv\\lib\\site-packages\\moviepy\\video\\io\\ffmpeg_reader.py:190: UserWarning: In file movie_dir\\-220020068_456239859\\-220020068_456239859.mp4, 6220800 bytes wanted but 0 bytes read at frame index 16368 (out of a total 90888 frames), at time 682.00/3787.04 sec. Using the last valid frame instead.\n",
      "  warnings.warn(\n",
      "C:\\Users\\user\\DataspellProjects\\yandex\\venv\\lib\\site-packages\\moviepy\\video\\io\\ffmpeg_reader.py:190: UserWarning: In file movie_dir\\-220020068_456239859\\-220020068_456239859.mp4, 6220800 bytes wanted but 0 bytes read at frame index 16392 (out of a total 90888 frames), at time 683.00/3787.04 sec. Using the last valid frame instead.\n",
      "  warnings.warn(\n",
      "C:\\Users\\user\\DataspellProjects\\yandex\\venv\\lib\\site-packages\\moviepy\\video\\io\\ffmpeg_reader.py:190: UserWarning: In file movie_dir\\-220020068_456239859\\-220020068_456239859.mp4, 6220800 bytes wanted but 0 bytes read at frame index 16416 (out of a total 90888 frames), at time 684.00/3787.04 sec. Using the last valid frame instead.\n",
      "  warnings.warn(\n",
      "C:\\Users\\user\\DataspellProjects\\yandex\\venv\\lib\\site-packages\\moviepy\\video\\io\\ffmpeg_reader.py:190: UserWarning: In file movie_dir\\-220020068_456239859\\-220020068_456239859.mp4, 6220800 bytes wanted but 0 bytes read at frame index 16440 (out of a total 90888 frames), at time 685.00/3787.04 sec. Using the last valid frame instead.\n",
      "  warnings.warn(\n",
      "C:\\Users\\user\\DataspellProjects\\yandex\\venv\\lib\\site-packages\\moviepy\\video\\io\\ffmpeg_reader.py:190: UserWarning: In file movie_dir\\-220020068_456239859\\-220020068_456239859.mp4, 6220800 bytes wanted but 0 bytes read at frame index 16464 (out of a total 90888 frames), at time 686.00/3787.04 sec. Using the last valid frame instead.\n",
      "  warnings.warn(\n",
      "C:\\Users\\user\\DataspellProjects\\yandex\\venv\\lib\\site-packages\\moviepy\\video\\io\\ffmpeg_reader.py:190: UserWarning: In file movie_dir\\-220020068_456239859\\-220020068_456239859.mp4, 6220800 bytes wanted but 0 bytes read at frame index 16488 (out of a total 90888 frames), at time 687.00/3787.04 sec. Using the last valid frame instead.\n",
      "  warnings.warn(\n",
      "C:\\Users\\user\\DataspellProjects\\yandex\\venv\\lib\\site-packages\\moviepy\\video\\io\\ffmpeg_reader.py:190: UserWarning: In file movie_dir\\-220020068_456239859\\-220020068_456239859.mp4, 6220800 bytes wanted but 0 bytes read at frame index 16512 (out of a total 90888 frames), at time 688.00/3787.04 sec. Using the last valid frame instead.\n",
      "  warnings.warn(\n",
      "C:\\Users\\user\\DataspellProjects\\yandex\\venv\\lib\\site-packages\\moviepy\\video\\io\\ffmpeg_reader.py:190: UserWarning: In file movie_dir\\-220020068_456239859\\-220020068_456239859.mp4, 6220800 bytes wanted but 0 bytes read at frame index 16536 (out of a total 90888 frames), at time 689.00/3787.04 sec. Using the last valid frame instead.\n",
      "  warnings.warn(\n",
      "C:\\Users\\user\\DataspellProjects\\yandex\\venv\\lib\\site-packages\\moviepy\\video\\io\\ffmpeg_reader.py:190: UserWarning: In file movie_dir\\-220020068_456239859\\-220020068_456239859.mp4, 6220800 bytes wanted but 0 bytes read at frame index 16560 (out of a total 90888 frames), at time 690.00/3787.04 sec. Using the last valid frame instead.\n",
      "  warnings.warn(\n",
      "C:\\Users\\user\\DataspellProjects\\yandex\\venv\\lib\\site-packages\\moviepy\\video\\io\\ffmpeg_reader.py:190: UserWarning: In file movie_dir\\-220020068_456239859\\-220020068_456239859.mp4, 6220800 bytes wanted but 0 bytes read at frame index 16584 (out of a total 90888 frames), at time 691.00/3787.04 sec. Using the last valid frame instead.\n",
      "  warnings.warn(\n",
      "C:\\Users\\user\\DataspellProjects\\yandex\\venv\\lib\\site-packages\\moviepy\\video\\io\\ffmpeg_reader.py:190: UserWarning: In file movie_dir\\-220020068_456239859\\-220020068_456239859.mp4, 6220800 bytes wanted but 0 bytes read at frame index 16608 (out of a total 90888 frames), at time 692.00/3787.04 sec. Using the last valid frame instead.\n",
      "  warnings.warn(\n",
      "C:\\Users\\user\\DataspellProjects\\yandex\\venv\\lib\\site-packages\\moviepy\\video\\io\\ffmpeg_reader.py:190: UserWarning: In file movie_dir\\-220020068_456239859\\-220020068_456239859.mp4, 6220800 bytes wanted but 0 bytes read at frame index 16632 (out of a total 90888 frames), at time 693.00/3787.04 sec. Using the last valid frame instead.\n",
      "  warnings.warn(\n",
      "C:\\Users\\user\\DataspellProjects\\yandex\\venv\\lib\\site-packages\\moviepy\\video\\io\\ffmpeg_reader.py:190: UserWarning: In file movie_dir\\-220020068_456239859\\-220020068_456239859.mp4, 6220800 bytes wanted but 0 bytes read at frame index 16656 (out of a total 90888 frames), at time 694.00/3787.04 sec. Using the last valid frame instead.\n",
      "  warnings.warn(\n",
      "C:\\Users\\user\\DataspellProjects\\yandex\\venv\\lib\\site-packages\\moviepy\\video\\io\\ffmpeg_reader.py:190: UserWarning: In file movie_dir\\-220020068_456239859\\-220020068_456239859.mp4, 6220800 bytes wanted but 0 bytes read at frame index 16680 (out of a total 90888 frames), at time 695.00/3787.04 sec. Using the last valid frame instead.\n",
      "  warnings.warn(\n",
      "C:\\Users\\user\\DataspellProjects\\yandex\\venv\\lib\\site-packages\\moviepy\\video\\io\\ffmpeg_reader.py:190: UserWarning: In file movie_dir\\-220020068_456239859\\-220020068_456239859.mp4, 6220800 bytes wanted but 0 bytes read at frame index 16704 (out of a total 90888 frames), at time 696.00/3787.04 sec. Using the last valid frame instead.\n",
      "  warnings.warn(\n",
      "C:\\Users\\user\\DataspellProjects\\yandex\\venv\\lib\\site-packages\\moviepy\\video\\io\\ffmpeg_reader.py:190: UserWarning: In file movie_dir\\-220020068_456239859\\-220020068_456239859.mp4, 6220800 bytes wanted but 0 bytes read at frame index 16728 (out of a total 90888 frames), at time 697.00/3787.04 sec. Using the last valid frame instead.\n",
      "  warnings.warn(\n",
      "C:\\Users\\user\\DataspellProjects\\yandex\\venv\\lib\\site-packages\\moviepy\\video\\io\\ffmpeg_reader.py:190: UserWarning: In file movie_dir\\-220020068_456239859\\-220020068_456239859.mp4, 6220800 bytes wanted but 0 bytes read at frame index 16752 (out of a total 90888 frames), at time 698.00/3787.04 sec. Using the last valid frame instead.\n",
      "  warnings.warn(\n",
      "C:\\Users\\user\\DataspellProjects\\yandex\\venv\\lib\\site-packages\\moviepy\\video\\io\\ffmpeg_reader.py:190: UserWarning: In file movie_dir\\-220020068_456239859\\-220020068_456239859.mp4, 6220800 bytes wanted but 0 bytes read at frame index 16776 (out of a total 90888 frames), at time 699.00/3787.04 sec. Using the last valid frame instead.\n",
      "  warnings.warn(\n",
      "C:\\Users\\user\\DataspellProjects\\yandex\\venv\\lib\\site-packages\\moviepy\\video\\io\\ffmpeg_reader.py:190: UserWarning: In file movie_dir\\-220020068_456239859\\-220020068_456239859.mp4, 6220800 bytes wanted but 0 bytes read at frame index 16800 (out of a total 90888 frames), at time 700.00/3787.04 sec. Using the last valid frame instead.\n",
      "  warnings.warn(\n",
      "C:\\Users\\user\\DataspellProjects\\yandex\\venv\\lib\\site-packages\\moviepy\\video\\io\\ffmpeg_reader.py:190: UserWarning: In file movie_dir\\-220020068_456239859\\-220020068_456239859.mp4, 6220800 bytes wanted but 0 bytes read at frame index 16824 (out of a total 90888 frames), at time 701.00/3787.04 sec. Using the last valid frame instead.\n",
      "  warnings.warn(\n",
      "C:\\Users\\user\\DataspellProjects\\yandex\\venv\\lib\\site-packages\\moviepy\\video\\io\\ffmpeg_reader.py:190: UserWarning: In file movie_dir\\-220020068_456239859\\-220020068_456239859.mp4, 6220800 bytes wanted but 0 bytes read at frame index 16848 (out of a total 90888 frames), at time 702.00/3787.04 sec. Using the last valid frame instead.\n",
      "  warnings.warn(\n",
      "C:\\Users\\user\\DataspellProjects\\yandex\\venv\\lib\\site-packages\\moviepy\\video\\io\\ffmpeg_reader.py:190: UserWarning: In file movie_dir\\-220020068_456239859\\-220020068_456239859.mp4, 6220800 bytes wanted but 0 bytes read at frame index 16872 (out of a total 90888 frames), at time 703.00/3787.04 sec. Using the last valid frame instead.\n",
      "  warnings.warn(\n",
      "C:\\Users\\user\\DataspellProjects\\yandex\\venv\\lib\\site-packages\\moviepy\\video\\io\\ffmpeg_reader.py:190: UserWarning: In file movie_dir\\-220020068_456239859\\-220020068_456239859.mp4, 6220800 bytes wanted but 0 bytes read at frame index 16896 (out of a total 90888 frames), at time 704.00/3787.04 sec. Using the last valid frame instead.\n",
      "  warnings.warn(\n",
      "C:\\Users\\user\\DataspellProjects\\yandex\\venv\\lib\\site-packages\\moviepy\\video\\io\\ffmpeg_reader.py:190: UserWarning: In file movie_dir\\-220020068_456239859\\-220020068_456239859.mp4, 6220800 bytes wanted but 0 bytes read at frame index 16920 (out of a total 90888 frames), at time 705.00/3787.04 sec. Using the last valid frame instead.\n",
      "  warnings.warn(\n",
      "C:\\Users\\user\\DataspellProjects\\yandex\\venv\\lib\\site-packages\\moviepy\\video\\io\\ffmpeg_reader.py:190: UserWarning: In file movie_dir\\-220020068_456239859\\-220020068_456239859.mp4, 6220800 bytes wanted but 0 bytes read at frame index 16944 (out of a total 90888 frames), at time 706.00/3787.04 sec. Using the last valid frame instead.\n",
      "  warnings.warn(\n",
      "C:\\Users\\user\\DataspellProjects\\yandex\\venv\\lib\\site-packages\\moviepy\\video\\io\\ffmpeg_reader.py:190: UserWarning: In file movie_dir\\-220020068_456239859\\-220020068_456239859.mp4, 6220800 bytes wanted but 0 bytes read at frame index 16968 (out of a total 90888 frames), at time 707.00/3787.04 sec. Using the last valid frame instead.\n",
      "  warnings.warn(\n",
      "C:\\Users\\user\\DataspellProjects\\yandex\\venv\\lib\\site-packages\\moviepy\\video\\io\\ffmpeg_reader.py:190: UserWarning: In file movie_dir\\-220020068_456239859\\-220020068_456239859.mp4, 6220800 bytes wanted but 0 bytes read at frame index 16992 (out of a total 90888 frames), at time 708.00/3787.04 sec. Using the last valid frame instead.\n",
      "  warnings.warn(\n",
      "C:\\Users\\user\\DataspellProjects\\yandex\\venv\\lib\\site-packages\\moviepy\\video\\io\\ffmpeg_reader.py:190: UserWarning: In file movie_dir\\-220020068_456239859\\-220020068_456239859.mp4, 6220800 bytes wanted but 0 bytes read at frame index 17016 (out of a total 90888 frames), at time 709.00/3787.04 sec. Using the last valid frame instead.\n",
      "  warnings.warn(\n",
      "C:\\Users\\user\\DataspellProjects\\yandex\\venv\\lib\\site-packages\\moviepy\\video\\io\\ffmpeg_reader.py:190: UserWarning: In file movie_dir\\-220020068_456239859\\-220020068_456239859.mp4, 6220800 bytes wanted but 0 bytes read at frame index 17040 (out of a total 90888 frames), at time 710.00/3787.04 sec. Using the last valid frame instead.\n",
      "  warnings.warn(\n",
      "C:\\Users\\user\\DataspellProjects\\yandex\\venv\\lib\\site-packages\\moviepy\\video\\io\\ffmpeg_reader.py:190: UserWarning: In file movie_dir\\-220020068_456239859\\-220020068_456239859.mp4, 6220800 bytes wanted but 0 bytes read at frame index 17064 (out of a total 90888 frames), at time 711.00/3787.04 sec. Using the last valid frame instead.\n",
      "  warnings.warn(\n",
      "C:\\Users\\user\\DataspellProjects\\yandex\\venv\\lib\\site-packages\\moviepy\\video\\io\\ffmpeg_reader.py:190: UserWarning: In file movie_dir\\-220020068_456239859\\-220020068_456239859.mp4, 6220800 bytes wanted but 0 bytes read at frame index 17088 (out of a total 90888 frames), at time 712.00/3787.04 sec. Using the last valid frame instead.\n",
      "  warnings.warn(\n",
      "C:\\Users\\user\\DataspellProjects\\yandex\\venv\\lib\\site-packages\\moviepy\\video\\io\\ffmpeg_reader.py:190: UserWarning: In file movie_dir\\-220020068_456239859\\-220020068_456239859.mp4, 6220800 bytes wanted but 0 bytes read at frame index 17112 (out of a total 90888 frames), at time 713.00/3787.04 sec. Using the last valid frame instead.\n",
      "  warnings.warn(\n",
      "C:\\Users\\user\\DataspellProjects\\yandex\\venv\\lib\\site-packages\\moviepy\\video\\io\\ffmpeg_reader.py:190: UserWarning: In file movie_dir\\-220020068_456239859\\-220020068_456239859.mp4, 6220800 bytes wanted but 0 bytes read at frame index 17136 (out of a total 90888 frames), at time 714.00/3787.04 sec. Using the last valid frame instead.\n",
      "  warnings.warn(\n",
      "C:\\Users\\user\\DataspellProjects\\yandex\\venv\\lib\\site-packages\\moviepy\\video\\io\\ffmpeg_reader.py:190: UserWarning: In file movie_dir\\-220020068_456239859\\-220020068_456239859.mp4, 6220800 bytes wanted but 0 bytes read at frame index 17160 (out of a total 90888 frames), at time 715.00/3787.04 sec. Using the last valid frame instead.\n",
      "  warnings.warn(\n",
      "C:\\Users\\user\\DataspellProjects\\yandex\\venv\\lib\\site-packages\\moviepy\\video\\io\\ffmpeg_reader.py:190: UserWarning: In file movie_dir\\-220020068_456239859\\-220020068_456239859.mp4, 6220800 bytes wanted but 0 bytes read at frame index 17184 (out of a total 90888 frames), at time 716.00/3787.04 sec. Using the last valid frame instead.\n",
      "  warnings.warn(\n",
      "C:\\Users\\user\\DataspellProjects\\yandex\\venv\\lib\\site-packages\\moviepy\\video\\io\\ffmpeg_reader.py:190: UserWarning: In file movie_dir\\-220020068_456239859\\-220020068_456239859.mp4, 6220800 bytes wanted but 0 bytes read at frame index 17208 (out of a total 90888 frames), at time 717.00/3787.04 sec. Using the last valid frame instead.\n",
      "  warnings.warn(\n",
      "C:\\Users\\user\\DataspellProjects\\yandex\\venv\\lib\\site-packages\\moviepy\\video\\io\\ffmpeg_reader.py:190: UserWarning: In file movie_dir\\-220020068_456239859\\-220020068_456239859.mp4, 6220800 bytes wanted but 0 bytes read at frame index 17232 (out of a total 90888 frames), at time 718.00/3787.04 sec. Using the last valid frame instead.\n",
      "  warnings.warn(\n",
      "C:\\Users\\user\\DataspellProjects\\yandex\\venv\\lib\\site-packages\\moviepy\\video\\io\\ffmpeg_reader.py:190: UserWarning: In file movie_dir\\-220020068_456239859\\-220020068_456239859.mp4, 6220800 bytes wanted but 0 bytes read at frame index 17256 (out of a total 90888 frames), at time 719.00/3787.04 sec. Using the last valid frame instead.\n",
      "  warnings.warn(\n",
      "C:\\Users\\user\\DataspellProjects\\yandex\\venv\\lib\\site-packages\\moviepy\\video\\io\\ffmpeg_reader.py:190: UserWarning: In file movie_dir\\-220020068_456239859\\-220020068_456239859.mp4, 6220800 bytes wanted but 0 bytes read at frame index 17280 (out of a total 90888 frames), at time 720.00/3787.04 sec. Using the last valid frame instead.\n",
      "  warnings.warn(\n",
      "C:\\Users\\user\\DataspellProjects\\yandex\\venv\\lib\\site-packages\\moviepy\\video\\io\\ffmpeg_reader.py:190: UserWarning: In file movie_dir\\-220020068_456239859\\-220020068_456239859.mp4, 6220800 bytes wanted but 0 bytes read at frame index 17304 (out of a total 90888 frames), at time 721.00/3787.04 sec. Using the last valid frame instead.\n",
      "  warnings.warn(\n",
      "C:\\Users\\user\\DataspellProjects\\yandex\\venv\\lib\\site-packages\\moviepy\\video\\io\\ffmpeg_reader.py:190: UserWarning: In file movie_dir\\-220020068_456239859\\-220020068_456239859.mp4, 6220800 bytes wanted but 0 bytes read at frame index 17328 (out of a total 90888 frames), at time 722.00/3787.04 sec. Using the last valid frame instead.\n",
      "  warnings.warn(\n",
      "C:\\Users\\user\\DataspellProjects\\yandex\\venv\\lib\\site-packages\\moviepy\\video\\io\\ffmpeg_reader.py:190: UserWarning: In file movie_dir\\-220020068_456239859\\-220020068_456239859.mp4, 6220800 bytes wanted but 0 bytes read at frame index 17352 (out of a total 90888 frames), at time 723.00/3787.04 sec. Using the last valid frame instead.\n",
      "  warnings.warn(\n",
      "C:\\Users\\user\\DataspellProjects\\yandex\\venv\\lib\\site-packages\\moviepy\\video\\io\\ffmpeg_reader.py:190: UserWarning: In file movie_dir\\-220020068_456239859\\-220020068_456239859.mp4, 6220800 bytes wanted but 0 bytes read at frame index 17376 (out of a total 90888 frames), at time 724.00/3787.04 sec. Using the last valid frame instead.\n",
      "  warnings.warn(\n",
      "C:\\Users\\user\\DataspellProjects\\yandex\\venv\\lib\\site-packages\\moviepy\\video\\io\\ffmpeg_reader.py:190: UserWarning: In file movie_dir\\-220020068_456239859\\-220020068_456239859.mp4, 6220800 bytes wanted but 0 bytes read at frame index 17400 (out of a total 90888 frames), at time 725.00/3787.04 sec. Using the last valid frame instead.\n",
      "  warnings.warn(\n",
      "C:\\Users\\user\\DataspellProjects\\yandex\\venv\\lib\\site-packages\\moviepy\\video\\io\\ffmpeg_reader.py:190: UserWarning: In file movie_dir\\-220020068_456239859\\-220020068_456239859.mp4, 6220800 bytes wanted but 0 bytes read at frame index 17424 (out of a total 90888 frames), at time 726.00/3787.04 sec. Using the last valid frame instead.\n",
      "  warnings.warn(\n",
      "C:\\Users\\user\\DataspellProjects\\yandex\\venv\\lib\\site-packages\\moviepy\\video\\io\\ffmpeg_reader.py:190: UserWarning: In file movie_dir\\-220020068_456239859\\-220020068_456239859.mp4, 6220800 bytes wanted but 0 bytes read at frame index 17448 (out of a total 90888 frames), at time 727.00/3787.04 sec. Using the last valid frame instead.\n",
      "  warnings.warn(\n",
      "C:\\Users\\user\\DataspellProjects\\yandex\\venv\\lib\\site-packages\\moviepy\\video\\io\\ffmpeg_reader.py:190: UserWarning: In file movie_dir\\-220020068_456239859\\-220020068_456239859.mp4, 6220800 bytes wanted but 0 bytes read at frame index 17472 (out of a total 90888 frames), at time 728.00/3787.04 sec. Using the last valid frame instead.\n",
      "  warnings.warn(\n",
      "C:\\Users\\user\\DataspellProjects\\yandex\\venv\\lib\\site-packages\\moviepy\\video\\io\\ffmpeg_reader.py:190: UserWarning: In file movie_dir\\-220020068_456239859\\-220020068_456239859.mp4, 6220800 bytes wanted but 0 bytes read at frame index 17496 (out of a total 90888 frames), at time 729.00/3787.04 sec. Using the last valid frame instead.\n",
      "  warnings.warn(\n",
      "C:\\Users\\user\\DataspellProjects\\yandex\\venv\\lib\\site-packages\\moviepy\\video\\io\\ffmpeg_reader.py:190: UserWarning: In file movie_dir\\-220020068_456239859\\-220020068_456239859.mp4, 6220800 bytes wanted but 0 bytes read at frame index 17520 (out of a total 90888 frames), at time 730.00/3787.04 sec. Using the last valid frame instead.\n",
      "  warnings.warn(\n",
      "C:\\Users\\user\\DataspellProjects\\yandex\\venv\\lib\\site-packages\\moviepy\\video\\io\\ffmpeg_reader.py:190: UserWarning: In file movie_dir\\-220020068_456239859\\-220020068_456239859.mp4, 6220800 bytes wanted but 0 bytes read at frame index 17544 (out of a total 90888 frames), at time 731.00/3787.04 sec. Using the last valid frame instead.\n",
      "  warnings.warn(\n",
      "C:\\Users\\user\\DataspellProjects\\yandex\\venv\\lib\\site-packages\\moviepy\\video\\io\\ffmpeg_reader.py:190: UserWarning: In file movie_dir\\-220020068_456239859\\-220020068_456239859.mp4, 6220800 bytes wanted but 0 bytes read at frame index 17568 (out of a total 90888 frames), at time 732.00/3787.04 sec. Using the last valid frame instead.\n",
      "  warnings.warn(\n",
      "C:\\Users\\user\\DataspellProjects\\yandex\\venv\\lib\\site-packages\\moviepy\\video\\io\\ffmpeg_reader.py:190: UserWarning: In file movie_dir\\-220020068_456239859\\-220020068_456239859.mp4, 6220800 bytes wanted but 0 bytes read at frame index 17592 (out of a total 90888 frames), at time 733.00/3787.04 sec. Using the last valid frame instead.\n",
      "  warnings.warn(\n",
      "C:\\Users\\user\\DataspellProjects\\yandex\\venv\\lib\\site-packages\\moviepy\\video\\io\\ffmpeg_reader.py:190: UserWarning: In file movie_dir\\-220020068_456239859\\-220020068_456239859.mp4, 6220800 bytes wanted but 0 bytes read at frame index 17616 (out of a total 90888 frames), at time 734.00/3787.04 sec. Using the last valid frame instead.\n",
      "  warnings.warn(\n",
      "C:\\Users\\user\\DataspellProjects\\yandex\\venv\\lib\\site-packages\\moviepy\\video\\io\\ffmpeg_reader.py:190: UserWarning: In file movie_dir\\-220020068_456239859\\-220020068_456239859.mp4, 6220800 bytes wanted but 0 bytes read at frame index 17640 (out of a total 90888 frames), at time 735.00/3787.04 sec. Using the last valid frame instead.\n",
      "  warnings.warn(\n",
      "C:\\Users\\user\\DataspellProjects\\yandex\\venv\\lib\\site-packages\\moviepy\\video\\io\\ffmpeg_reader.py:190: UserWarning: In file movie_dir\\-220020068_456239859\\-220020068_456239859.mp4, 6220800 bytes wanted but 0 bytes read at frame index 17664 (out of a total 90888 frames), at time 736.00/3787.04 sec. Using the last valid frame instead.\n",
      "  warnings.warn(\n",
      "C:\\Users\\user\\DataspellProjects\\yandex\\venv\\lib\\site-packages\\moviepy\\video\\io\\ffmpeg_reader.py:190: UserWarning: In file movie_dir\\-220020068_456239859\\-220020068_456239859.mp4, 6220800 bytes wanted but 0 bytes read at frame index 17688 (out of a total 90888 frames), at time 737.00/3787.04 sec. Using the last valid frame instead.\n",
      "  warnings.warn(\n",
      "C:\\Users\\user\\DataspellProjects\\yandex\\venv\\lib\\site-packages\\moviepy\\video\\io\\ffmpeg_reader.py:190: UserWarning: In file movie_dir\\-220020068_456239859\\-220020068_456239859.mp4, 6220800 bytes wanted but 0 bytes read at frame index 17712 (out of a total 90888 frames), at time 738.00/3787.04 sec. Using the last valid frame instead.\n",
      "  warnings.warn(\n",
      "C:\\Users\\user\\DataspellProjects\\yandex\\venv\\lib\\site-packages\\moviepy\\video\\io\\ffmpeg_reader.py:190: UserWarning: In file movie_dir\\-220020068_456239859\\-220020068_456239859.mp4, 6220800 bytes wanted but 0 bytes read at frame index 17736 (out of a total 90888 frames), at time 739.00/3787.04 sec. Using the last valid frame instead.\n",
      "  warnings.warn(\n",
      "C:\\Users\\user\\DataspellProjects\\yandex\\venv\\lib\\site-packages\\moviepy\\video\\io\\ffmpeg_reader.py:190: UserWarning: In file movie_dir\\-220020068_456239859\\-220020068_456239859.mp4, 6220800 bytes wanted but 0 bytes read at frame index 17760 (out of a total 90888 frames), at time 740.00/3787.04 sec. Using the last valid frame instead.\n",
      "  warnings.warn(\n",
      "C:\\Users\\user\\DataspellProjects\\yandex\\venv\\lib\\site-packages\\moviepy\\video\\io\\ffmpeg_reader.py:190: UserWarning: In file movie_dir\\-220020068_456239859\\-220020068_456239859.mp4, 6220800 bytes wanted but 0 bytes read at frame index 17784 (out of a total 90888 frames), at time 741.00/3787.04 sec. Using the last valid frame instead.\n",
      "  warnings.warn(\n",
      "C:\\Users\\user\\DataspellProjects\\yandex\\venv\\lib\\site-packages\\moviepy\\video\\io\\ffmpeg_reader.py:190: UserWarning: In file movie_dir\\-220020068_456239859\\-220020068_456239859.mp4, 6220800 bytes wanted but 0 bytes read at frame index 17808 (out of a total 90888 frames), at time 742.00/3787.04 sec. Using the last valid frame instead.\n",
      "  warnings.warn(\n",
      "C:\\Users\\user\\DataspellProjects\\yandex\\venv\\lib\\site-packages\\moviepy\\video\\io\\ffmpeg_reader.py:190: UserWarning: In file movie_dir\\-220020068_456239859\\-220020068_456239859.mp4, 6220800 bytes wanted but 0 bytes read at frame index 17832 (out of a total 90888 frames), at time 743.00/3787.04 sec. Using the last valid frame instead.\n",
      "  warnings.warn(\n",
      "C:\\Users\\user\\DataspellProjects\\yandex\\venv\\lib\\site-packages\\moviepy\\video\\io\\ffmpeg_reader.py:190: UserWarning: In file movie_dir\\-220020068_456239859\\-220020068_456239859.mp4, 6220800 bytes wanted but 0 bytes read at frame index 17856 (out of a total 90888 frames), at time 744.00/3787.04 sec. Using the last valid frame instead.\n",
      "  warnings.warn(\n",
      "C:\\Users\\user\\DataspellProjects\\yandex\\venv\\lib\\site-packages\\moviepy\\video\\io\\ffmpeg_reader.py:190: UserWarning: In file movie_dir\\-220020068_456239859\\-220020068_456239859.mp4, 6220800 bytes wanted but 0 bytes read at frame index 17880 (out of a total 90888 frames), at time 745.00/3787.04 sec. Using the last valid frame instead.\n",
      "  warnings.warn(\n",
      "C:\\Users\\user\\DataspellProjects\\yandex\\venv\\lib\\site-packages\\moviepy\\video\\io\\ffmpeg_reader.py:190: UserWarning: In file movie_dir\\-220020068_456239859\\-220020068_456239859.mp4, 6220800 bytes wanted but 0 bytes read at frame index 17904 (out of a total 90888 frames), at time 746.00/3787.04 sec. Using the last valid frame instead.\n",
      "  warnings.warn(\n",
      "C:\\Users\\user\\DataspellProjects\\yandex\\venv\\lib\\site-packages\\moviepy\\video\\io\\ffmpeg_reader.py:190: UserWarning: In file movie_dir\\-220020068_456239859\\-220020068_456239859.mp4, 6220800 bytes wanted but 0 bytes read at frame index 17928 (out of a total 90888 frames), at time 747.00/3787.04 sec. Using the last valid frame instead.\n",
      "  warnings.warn(\n",
      "C:\\Users\\user\\DataspellProjects\\yandex\\venv\\lib\\site-packages\\moviepy\\video\\io\\ffmpeg_reader.py:190: UserWarning: In file movie_dir\\-220020068_456239859\\-220020068_456239859.mp4, 6220800 bytes wanted but 0 bytes read at frame index 17952 (out of a total 90888 frames), at time 748.00/3787.04 sec. Using the last valid frame instead.\n",
      "  warnings.warn(\n",
      "C:\\Users\\user\\DataspellProjects\\yandex\\venv\\lib\\site-packages\\moviepy\\video\\io\\ffmpeg_reader.py:190: UserWarning: In file movie_dir\\-220020068_456239859\\-220020068_456239859.mp4, 6220800 bytes wanted but 0 bytes read at frame index 17976 (out of a total 90888 frames), at time 749.00/3787.04 sec. Using the last valid frame instead.\n",
      "  warnings.warn(\n",
      "C:\\Users\\user\\DataspellProjects\\yandex\\venv\\lib\\site-packages\\moviepy\\video\\io\\ffmpeg_reader.py:190: UserWarning: In file movie_dir\\-220020068_456239859\\-220020068_456239859.mp4, 6220800 bytes wanted but 0 bytes read at frame index 18000 (out of a total 90888 frames), at time 750.00/3787.04 sec. Using the last valid frame instead.\n",
      "  warnings.warn(\n",
      "C:\\Users\\user\\DataspellProjects\\yandex\\venv\\lib\\site-packages\\moviepy\\video\\io\\ffmpeg_reader.py:190: UserWarning: In file movie_dir\\-220020068_456239859\\-220020068_456239859.mp4, 6220800 bytes wanted but 0 bytes read at frame index 18024 (out of a total 90888 frames), at time 751.00/3787.04 sec. Using the last valid frame instead.\n",
      "  warnings.warn(\n",
      "C:\\Users\\user\\DataspellProjects\\yandex\\venv\\lib\\site-packages\\moviepy\\video\\io\\ffmpeg_reader.py:190: UserWarning: In file movie_dir\\-220020068_456239859\\-220020068_456239859.mp4, 6220800 bytes wanted but 0 bytes read at frame index 18048 (out of a total 90888 frames), at time 752.00/3787.04 sec. Using the last valid frame instead.\n",
      "  warnings.warn(\n",
      "C:\\Users\\user\\DataspellProjects\\yandex\\venv\\lib\\site-packages\\moviepy\\video\\io\\ffmpeg_reader.py:190: UserWarning: In file movie_dir\\-220020068_456239859\\-220020068_456239859.mp4, 6220800 bytes wanted but 0 bytes read at frame index 18072 (out of a total 90888 frames), at time 753.00/3787.04 sec. Using the last valid frame instead.\n",
      "  warnings.warn(\n",
      "C:\\Users\\user\\DataspellProjects\\yandex\\venv\\lib\\site-packages\\moviepy\\video\\io\\ffmpeg_reader.py:190: UserWarning: In file movie_dir\\-220020068_456239859\\-220020068_456239859.mp4, 6220800 bytes wanted but 0 bytes read at frame index 18096 (out of a total 90888 frames), at time 754.00/3787.04 sec. Using the last valid frame instead.\n",
      "  warnings.warn(\n",
      "C:\\Users\\user\\DataspellProjects\\yandex\\venv\\lib\\site-packages\\moviepy\\video\\io\\ffmpeg_reader.py:190: UserWarning: In file movie_dir\\-220020068_456239859\\-220020068_456239859.mp4, 6220800 bytes wanted but 0 bytes read at frame index 18120 (out of a total 90888 frames), at time 755.00/3787.04 sec. Using the last valid frame instead.\n",
      "  warnings.warn(\n",
      "C:\\Users\\user\\DataspellProjects\\yandex\\venv\\lib\\site-packages\\moviepy\\video\\io\\ffmpeg_reader.py:190: UserWarning: In file movie_dir\\-220020068_456239859\\-220020068_456239859.mp4, 6220800 bytes wanted but 0 bytes read at frame index 18144 (out of a total 90888 frames), at time 756.00/3787.04 sec. Using the last valid frame instead.\n",
      "  warnings.warn(\n",
      "C:\\Users\\user\\DataspellProjects\\yandex\\venv\\lib\\site-packages\\moviepy\\video\\io\\ffmpeg_reader.py:190: UserWarning: In file movie_dir\\-220020068_456239859\\-220020068_456239859.mp4, 6220800 bytes wanted but 0 bytes read at frame index 18168 (out of a total 90888 frames), at time 757.00/3787.04 sec. Using the last valid frame instead.\n",
      "  warnings.warn(\n",
      "C:\\Users\\user\\DataspellProjects\\yandex\\venv\\lib\\site-packages\\moviepy\\video\\io\\ffmpeg_reader.py:190: UserWarning: In file movie_dir\\-220020068_456239859\\-220020068_456239859.mp4, 6220800 bytes wanted but 0 bytes read at frame index 18192 (out of a total 90888 frames), at time 758.00/3787.04 sec. Using the last valid frame instead.\n",
      "  warnings.warn(\n",
      "C:\\Users\\user\\DataspellProjects\\yandex\\venv\\lib\\site-packages\\moviepy\\video\\io\\ffmpeg_reader.py:190: UserWarning: In file movie_dir\\-220020068_456239859\\-220020068_456239859.mp4, 6220800 bytes wanted but 0 bytes read at frame index 18216 (out of a total 90888 frames), at time 759.00/3787.04 sec. Using the last valid frame instead.\n",
      "  warnings.warn(\n",
      "C:\\Users\\user\\DataspellProjects\\yandex\\venv\\lib\\site-packages\\moviepy\\video\\io\\ffmpeg_reader.py:190: UserWarning: In file movie_dir\\-220020068_456239859\\-220020068_456239859.mp4, 6220800 bytes wanted but 0 bytes read at frame index 18240 (out of a total 90888 frames), at time 760.00/3787.04 sec. Using the last valid frame instead.\n",
      "  warnings.warn(\n",
      "C:\\Users\\user\\DataspellProjects\\yandex\\venv\\lib\\site-packages\\moviepy\\video\\io\\ffmpeg_reader.py:190: UserWarning: In file movie_dir\\-220020068_456239859\\-220020068_456239859.mp4, 6220800 bytes wanted but 0 bytes read at frame index 18264 (out of a total 90888 frames), at time 761.00/3787.04 sec. Using the last valid frame instead.\n",
      "  warnings.warn(\n",
      "C:\\Users\\user\\DataspellProjects\\yandex\\venv\\lib\\site-packages\\moviepy\\video\\io\\ffmpeg_reader.py:190: UserWarning: In file movie_dir\\-220020068_456239859\\-220020068_456239859.mp4, 6220800 bytes wanted but 0 bytes read at frame index 18288 (out of a total 90888 frames), at time 762.00/3787.04 sec. Using the last valid frame instead.\n",
      "  warnings.warn(\n",
      "C:\\Users\\user\\DataspellProjects\\yandex\\venv\\lib\\site-packages\\moviepy\\video\\io\\ffmpeg_reader.py:190: UserWarning: In file movie_dir\\-220020068_456239859\\-220020068_456239859.mp4, 6220800 bytes wanted but 0 bytes read at frame index 18312 (out of a total 90888 frames), at time 763.00/3787.04 sec. Using the last valid frame instead.\n",
      "  warnings.warn(\n",
      "C:\\Users\\user\\DataspellProjects\\yandex\\venv\\lib\\site-packages\\moviepy\\video\\io\\ffmpeg_reader.py:190: UserWarning: In file movie_dir\\-220020068_456239859\\-220020068_456239859.mp4, 6220800 bytes wanted but 0 bytes read at frame index 18336 (out of a total 90888 frames), at time 764.00/3787.04 sec. Using the last valid frame instead.\n",
      "  warnings.warn(\n",
      "C:\\Users\\user\\DataspellProjects\\yandex\\venv\\lib\\site-packages\\moviepy\\video\\io\\ffmpeg_reader.py:190: UserWarning: In file movie_dir\\-220020068_456239859\\-220020068_456239859.mp4, 6220800 bytes wanted but 0 bytes read at frame index 18360 (out of a total 90888 frames), at time 765.00/3787.04 sec. Using the last valid frame instead.\n",
      "  warnings.warn(\n",
      "C:\\Users\\user\\DataspellProjects\\yandex\\venv\\lib\\site-packages\\moviepy\\video\\io\\ffmpeg_reader.py:190: UserWarning: In file movie_dir\\-220020068_456239859\\-220020068_456239859.mp4, 6220800 bytes wanted but 0 bytes read at frame index 18384 (out of a total 90888 frames), at time 766.00/3787.04 sec. Using the last valid frame instead.\n",
      "  warnings.warn(\n",
      "C:\\Users\\user\\DataspellProjects\\yandex\\venv\\lib\\site-packages\\moviepy\\video\\io\\ffmpeg_reader.py:190: UserWarning: In file movie_dir\\-220020068_456239859\\-220020068_456239859.mp4, 6220800 bytes wanted but 0 bytes read at frame index 18408 (out of a total 90888 frames), at time 767.00/3787.04 sec. Using the last valid frame instead.\n",
      "  warnings.warn(\n",
      "C:\\Users\\user\\DataspellProjects\\yandex\\venv\\lib\\site-packages\\moviepy\\video\\io\\ffmpeg_reader.py:190: UserWarning: In file movie_dir\\-220020068_456239859\\-220020068_456239859.mp4, 6220800 bytes wanted but 0 bytes read at frame index 18432 (out of a total 90888 frames), at time 768.00/3787.04 sec. Using the last valid frame instead.\n",
      "  warnings.warn(\n",
      "C:\\Users\\user\\DataspellProjects\\yandex\\venv\\lib\\site-packages\\moviepy\\video\\io\\ffmpeg_reader.py:190: UserWarning: In file movie_dir\\-220020068_456239859\\-220020068_456239859.mp4, 6220800 bytes wanted but 0 bytes read at frame index 18456 (out of a total 90888 frames), at time 769.00/3787.04 sec. Using the last valid frame instead.\n",
      "  warnings.warn(\n",
      "C:\\Users\\user\\DataspellProjects\\yandex\\venv\\lib\\site-packages\\moviepy\\video\\io\\ffmpeg_reader.py:190: UserWarning: In file movie_dir\\-220020068_456239859\\-220020068_456239859.mp4, 6220800 bytes wanted but 0 bytes read at frame index 18480 (out of a total 90888 frames), at time 770.00/3787.04 sec. Using the last valid frame instead.\n",
      "  warnings.warn(\n",
      "C:\\Users\\user\\DataspellProjects\\yandex\\venv\\lib\\site-packages\\moviepy\\video\\io\\ffmpeg_reader.py:190: UserWarning: In file movie_dir\\-220020068_456239859\\-220020068_456239859.mp4, 6220800 bytes wanted but 0 bytes read at frame index 18504 (out of a total 90888 frames), at time 771.00/3787.04 sec. Using the last valid frame instead.\n",
      "  warnings.warn(\n",
      "C:\\Users\\user\\DataspellProjects\\yandex\\venv\\lib\\site-packages\\moviepy\\video\\io\\ffmpeg_reader.py:190: UserWarning: In file movie_dir\\-220020068_456239859\\-220020068_456239859.mp4, 6220800 bytes wanted but 0 bytes read at frame index 18528 (out of a total 90888 frames), at time 772.00/3787.04 sec. Using the last valid frame instead.\n",
      "  warnings.warn(\n",
      "C:\\Users\\user\\DataspellProjects\\yandex\\venv\\lib\\site-packages\\moviepy\\video\\io\\ffmpeg_reader.py:190: UserWarning: In file movie_dir\\-220020068_456239859\\-220020068_456239859.mp4, 6220800 bytes wanted but 0 bytes read at frame index 18552 (out of a total 90888 frames), at time 773.00/3787.04 sec. Using the last valid frame instead.\n",
      "  warnings.warn(\n",
      "C:\\Users\\user\\DataspellProjects\\yandex\\venv\\lib\\site-packages\\moviepy\\video\\io\\ffmpeg_reader.py:190: UserWarning: In file movie_dir\\-220020068_456239859\\-220020068_456239859.mp4, 6220800 bytes wanted but 0 bytes read at frame index 18576 (out of a total 90888 frames), at time 774.00/3787.04 sec. Using the last valid frame instead.\n",
      "  warnings.warn(\n",
      "C:\\Users\\user\\DataspellProjects\\yandex\\venv\\lib\\site-packages\\moviepy\\video\\io\\ffmpeg_reader.py:190: UserWarning: In file movie_dir\\-220020068_456239859\\-220020068_456239859.mp4, 6220800 bytes wanted but 0 bytes read at frame index 18600 (out of a total 90888 frames), at time 775.00/3787.04 sec. Using the last valid frame instead.\n",
      "  warnings.warn(\n",
      "C:\\Users\\user\\DataspellProjects\\yandex\\venv\\lib\\site-packages\\moviepy\\video\\io\\ffmpeg_reader.py:190: UserWarning: In file movie_dir\\-220020068_456239859\\-220020068_456239859.mp4, 6220800 bytes wanted but 0 bytes read at frame index 18624 (out of a total 90888 frames), at time 776.00/3787.04 sec. Using the last valid frame instead.\n",
      "  warnings.warn(\n",
      "C:\\Users\\user\\DataspellProjects\\yandex\\venv\\lib\\site-packages\\moviepy\\video\\io\\ffmpeg_reader.py:190: UserWarning: In file movie_dir\\-220020068_456239859\\-220020068_456239859.mp4, 6220800 bytes wanted but 0 bytes read at frame index 18648 (out of a total 90888 frames), at time 777.00/3787.04 sec. Using the last valid frame instead.\n",
      "  warnings.warn(\n",
      "C:\\Users\\user\\DataspellProjects\\yandex\\venv\\lib\\site-packages\\moviepy\\video\\io\\ffmpeg_reader.py:190: UserWarning: In file movie_dir\\-220020068_456239859\\-220020068_456239859.mp4, 6220800 bytes wanted but 0 bytes read at frame index 18672 (out of a total 90888 frames), at time 778.00/3787.04 sec. Using the last valid frame instead.\n",
      "  warnings.warn(\n",
      "C:\\Users\\user\\DataspellProjects\\yandex\\venv\\lib\\site-packages\\moviepy\\video\\io\\ffmpeg_reader.py:190: UserWarning: In file movie_dir\\-220020068_456239859\\-220020068_456239859.mp4, 6220800 bytes wanted but 0 bytes read at frame index 18696 (out of a total 90888 frames), at time 779.00/3787.04 sec. Using the last valid frame instead.\n",
      "  warnings.warn(\n",
      "C:\\Users\\user\\DataspellProjects\\yandex\\venv\\lib\\site-packages\\moviepy\\video\\io\\ffmpeg_reader.py:190: UserWarning: In file movie_dir\\-220020068_456239859\\-220020068_456239859.mp4, 6220800 bytes wanted but 0 bytes read at frame index 18720 (out of a total 90888 frames), at time 780.00/3787.04 sec. Using the last valid frame instead.\n",
      "  warnings.warn(\n",
      "C:\\Users\\user\\DataspellProjects\\yandex\\venv\\lib\\site-packages\\moviepy\\video\\io\\ffmpeg_reader.py:190: UserWarning: In file movie_dir\\-220020068_456239859\\-220020068_456239859.mp4, 6220800 bytes wanted but 0 bytes read at frame index 18744 (out of a total 90888 frames), at time 781.00/3787.04 sec. Using the last valid frame instead.\n",
      "  warnings.warn(\n",
      "C:\\Users\\user\\DataspellProjects\\yandex\\venv\\lib\\site-packages\\moviepy\\video\\io\\ffmpeg_reader.py:190: UserWarning: In file movie_dir\\-220020068_456239859\\-220020068_456239859.mp4, 6220800 bytes wanted but 0 bytes read at frame index 18768 (out of a total 90888 frames), at time 782.00/3787.04 sec. Using the last valid frame instead.\n",
      "  warnings.warn(\n",
      "C:\\Users\\user\\DataspellProjects\\yandex\\venv\\lib\\site-packages\\moviepy\\video\\io\\ffmpeg_reader.py:190: UserWarning: In file movie_dir\\-220020068_456239859\\-220020068_456239859.mp4, 6220800 bytes wanted but 0 bytes read at frame index 18792 (out of a total 90888 frames), at time 783.00/3787.04 sec. Using the last valid frame instead.\n",
      "  warnings.warn(\n",
      "C:\\Users\\user\\DataspellProjects\\yandex\\venv\\lib\\site-packages\\moviepy\\video\\io\\ffmpeg_reader.py:190: UserWarning: In file movie_dir\\-220020068_456239859\\-220020068_456239859.mp4, 6220800 bytes wanted but 0 bytes read at frame index 18816 (out of a total 90888 frames), at time 784.00/3787.04 sec. Using the last valid frame instead.\n",
      "  warnings.warn(\n",
      "C:\\Users\\user\\DataspellProjects\\yandex\\venv\\lib\\site-packages\\moviepy\\video\\io\\ffmpeg_reader.py:190: UserWarning: In file movie_dir\\-220020068_456239859\\-220020068_456239859.mp4, 6220800 bytes wanted but 0 bytes read at frame index 18840 (out of a total 90888 frames), at time 785.00/3787.04 sec. Using the last valid frame instead.\n",
      "  warnings.warn(\n",
      "C:\\Users\\user\\DataspellProjects\\yandex\\venv\\lib\\site-packages\\moviepy\\video\\io\\ffmpeg_reader.py:190: UserWarning: In file movie_dir\\-220020068_456239859\\-220020068_456239859.mp4, 6220800 bytes wanted but 0 bytes read at frame index 18864 (out of a total 90888 frames), at time 786.00/3787.04 sec. Using the last valid frame instead.\n",
      "  warnings.warn(\n",
      "C:\\Users\\user\\DataspellProjects\\yandex\\venv\\lib\\site-packages\\moviepy\\video\\io\\ffmpeg_reader.py:190: UserWarning: In file movie_dir\\-220020068_456239859\\-220020068_456239859.mp4, 6220800 bytes wanted but 0 bytes read at frame index 18888 (out of a total 90888 frames), at time 787.00/3787.04 sec. Using the last valid frame instead.\n",
      "  warnings.warn(\n",
      "C:\\Users\\user\\DataspellProjects\\yandex\\venv\\lib\\site-packages\\moviepy\\video\\io\\ffmpeg_reader.py:190: UserWarning: In file movie_dir\\-220020068_456239859\\-220020068_456239859.mp4, 6220800 bytes wanted but 0 bytes read at frame index 18912 (out of a total 90888 frames), at time 788.00/3787.04 sec. Using the last valid frame instead.\n",
      "  warnings.warn(\n",
      "C:\\Users\\user\\DataspellProjects\\yandex\\venv\\lib\\site-packages\\moviepy\\video\\io\\ffmpeg_reader.py:190: UserWarning: In file movie_dir\\-220020068_456239859\\-220020068_456239859.mp4, 6220800 bytes wanted but 0 bytes read at frame index 18936 (out of a total 90888 frames), at time 789.00/3787.04 sec. Using the last valid frame instead.\n",
      "  warnings.warn(\n",
      "C:\\Users\\user\\DataspellProjects\\yandex\\venv\\lib\\site-packages\\moviepy\\video\\io\\ffmpeg_reader.py:190: UserWarning: In file movie_dir\\-220020068_456239859\\-220020068_456239859.mp4, 6220800 bytes wanted but 0 bytes read at frame index 18960 (out of a total 90888 frames), at time 790.00/3787.04 sec. Using the last valid frame instead.\n",
      "  warnings.warn(\n",
      "C:\\Users\\user\\DataspellProjects\\yandex\\venv\\lib\\site-packages\\moviepy\\video\\io\\ffmpeg_reader.py:190: UserWarning: In file movie_dir\\-220020068_456239859\\-220020068_456239859.mp4, 6220800 bytes wanted but 0 bytes read at frame index 18984 (out of a total 90888 frames), at time 791.00/3787.04 sec. Using the last valid frame instead.\n",
      "  warnings.warn(\n",
      "C:\\Users\\user\\DataspellProjects\\yandex\\venv\\lib\\site-packages\\moviepy\\video\\io\\ffmpeg_reader.py:190: UserWarning: In file movie_dir\\-220020068_456239859\\-220020068_456239859.mp4, 6220800 bytes wanted but 0 bytes read at frame index 19008 (out of a total 90888 frames), at time 792.00/3787.04 sec. Using the last valid frame instead.\n",
      "  warnings.warn(\n",
      "C:\\Users\\user\\DataspellProjects\\yandex\\venv\\lib\\site-packages\\moviepy\\video\\io\\ffmpeg_reader.py:190: UserWarning: In file movie_dir\\-220020068_456239859\\-220020068_456239859.mp4, 6220800 bytes wanted but 0 bytes read at frame index 19032 (out of a total 90888 frames), at time 793.00/3787.04 sec. Using the last valid frame instead.\n",
      "  warnings.warn(\n",
      "C:\\Users\\user\\DataspellProjects\\yandex\\venv\\lib\\site-packages\\moviepy\\video\\io\\ffmpeg_reader.py:190: UserWarning: In file movie_dir\\-220020068_456239859\\-220020068_456239859.mp4, 6220800 bytes wanted but 0 bytes read at frame index 19056 (out of a total 90888 frames), at time 794.00/3787.04 sec. Using the last valid frame instead.\n",
      "  warnings.warn(\n",
      "C:\\Users\\user\\DataspellProjects\\yandex\\venv\\lib\\site-packages\\moviepy\\video\\io\\ffmpeg_reader.py:190: UserWarning: In file movie_dir\\-220020068_456239859\\-220020068_456239859.mp4, 6220800 bytes wanted but 0 bytes read at frame index 19080 (out of a total 90888 frames), at time 795.00/3787.04 sec. Using the last valid frame instead.\n",
      "  warnings.warn(\n",
      "C:\\Users\\user\\DataspellProjects\\yandex\\venv\\lib\\site-packages\\moviepy\\video\\io\\ffmpeg_reader.py:190: UserWarning: In file movie_dir\\-220020068_456239859\\-220020068_456239859.mp4, 6220800 bytes wanted but 0 bytes read at frame index 19104 (out of a total 90888 frames), at time 796.00/3787.04 sec. Using the last valid frame instead.\n",
      "  warnings.warn(\n",
      "C:\\Users\\user\\DataspellProjects\\yandex\\venv\\lib\\site-packages\\moviepy\\video\\io\\ffmpeg_reader.py:190: UserWarning: In file movie_dir\\-220020068_456239859\\-220020068_456239859.mp4, 6220800 bytes wanted but 0 bytes read at frame index 19128 (out of a total 90888 frames), at time 797.00/3787.04 sec. Using the last valid frame instead.\n",
      "  warnings.warn(\n",
      "C:\\Users\\user\\DataspellProjects\\yandex\\venv\\lib\\site-packages\\moviepy\\video\\io\\ffmpeg_reader.py:190: UserWarning: In file movie_dir\\-220020068_456239859\\-220020068_456239859.mp4, 6220800 bytes wanted but 0 bytes read at frame index 19152 (out of a total 90888 frames), at time 798.00/3787.04 sec. Using the last valid frame instead.\n",
      "  warnings.warn(\n",
      "C:\\Users\\user\\DataspellProjects\\yandex\\venv\\lib\\site-packages\\moviepy\\video\\io\\ffmpeg_reader.py:190: UserWarning: In file movie_dir\\-220020068_456239859\\-220020068_456239859.mp4, 6220800 bytes wanted but 0 bytes read at frame index 19176 (out of a total 90888 frames), at time 799.00/3787.04 sec. Using the last valid frame instead.\n",
      "  warnings.warn(\n",
      "C:\\Users\\user\\DataspellProjects\\yandex\\venv\\lib\\site-packages\\moviepy\\video\\io\\ffmpeg_reader.py:190: UserWarning: In file movie_dir\\-220020068_456239859\\-220020068_456239859.mp4, 6220800 bytes wanted but 0 bytes read at frame index 19200 (out of a total 90888 frames), at time 800.00/3787.04 sec. Using the last valid frame instead.\n",
      "  warnings.warn(\n",
      "C:\\Users\\user\\DataspellProjects\\yandex\\venv\\lib\\site-packages\\moviepy\\video\\io\\ffmpeg_reader.py:190: UserWarning: In file movie_dir\\-220020068_456239859\\-220020068_456239859.mp4, 6220800 bytes wanted but 0 bytes read at frame index 19224 (out of a total 90888 frames), at time 801.00/3787.04 sec. Using the last valid frame instead.\n",
      "  warnings.warn(\n",
      "C:\\Users\\user\\DataspellProjects\\yandex\\venv\\lib\\site-packages\\moviepy\\video\\io\\ffmpeg_reader.py:190: UserWarning: In file movie_dir\\-220020068_456239859\\-220020068_456239859.mp4, 6220800 bytes wanted but 0 bytes read at frame index 19248 (out of a total 90888 frames), at time 802.00/3787.04 sec. Using the last valid frame instead.\n",
      "  warnings.warn(\n",
      "C:\\Users\\user\\DataspellProjects\\yandex\\venv\\lib\\site-packages\\moviepy\\video\\io\\ffmpeg_reader.py:190: UserWarning: In file movie_dir\\-220020068_456239859\\-220020068_456239859.mp4, 6220800 bytes wanted but 0 bytes read at frame index 19272 (out of a total 90888 frames), at time 803.00/3787.04 sec. Using the last valid frame instead.\n",
      "  warnings.warn(\n",
      "C:\\Users\\user\\DataspellProjects\\yandex\\venv\\lib\\site-packages\\moviepy\\video\\io\\ffmpeg_reader.py:190: UserWarning: In file movie_dir\\-220020068_456239859\\-220020068_456239859.mp4, 6220800 bytes wanted but 0 bytes read at frame index 19296 (out of a total 90888 frames), at time 804.00/3787.04 sec. Using the last valid frame instead.\n",
      "  warnings.warn(\n",
      "C:\\Users\\user\\DataspellProjects\\yandex\\venv\\lib\\site-packages\\moviepy\\video\\io\\ffmpeg_reader.py:190: UserWarning: In file movie_dir\\-220020068_456239859\\-220020068_456239859.mp4, 6220800 bytes wanted but 0 bytes read at frame index 19320 (out of a total 90888 frames), at time 805.00/3787.04 sec. Using the last valid frame instead.\n",
      "  warnings.warn(\n",
      "C:\\Users\\user\\DataspellProjects\\yandex\\venv\\lib\\site-packages\\moviepy\\video\\io\\ffmpeg_reader.py:190: UserWarning: In file movie_dir\\-220020068_456239859\\-220020068_456239859.mp4, 6220800 bytes wanted but 0 bytes read at frame index 19344 (out of a total 90888 frames), at time 806.00/3787.04 sec. Using the last valid frame instead.\n",
      "  warnings.warn(\n",
      "C:\\Users\\user\\DataspellProjects\\yandex\\venv\\lib\\site-packages\\moviepy\\video\\io\\ffmpeg_reader.py:190: UserWarning: In file movie_dir\\-220020068_456239859\\-220020068_456239859.mp4, 6220800 bytes wanted but 0 bytes read at frame index 19368 (out of a total 90888 frames), at time 807.00/3787.04 sec. Using the last valid frame instead.\n",
      "  warnings.warn(\n",
      "C:\\Users\\user\\DataspellProjects\\yandex\\venv\\lib\\site-packages\\moviepy\\video\\io\\ffmpeg_reader.py:190: UserWarning: In file movie_dir\\-220020068_456239859\\-220020068_456239859.mp4, 6220800 bytes wanted but 0 bytes read at frame index 19392 (out of a total 90888 frames), at time 808.00/3787.04 sec. Using the last valid frame instead.\n",
      "  warnings.warn(\n",
      "C:\\Users\\user\\DataspellProjects\\yandex\\venv\\lib\\site-packages\\moviepy\\video\\io\\ffmpeg_reader.py:190: UserWarning: In file movie_dir\\-220020068_456239859\\-220020068_456239859.mp4, 6220800 bytes wanted but 0 bytes read at frame index 19416 (out of a total 90888 frames), at time 809.00/3787.04 sec. Using the last valid frame instead.\n",
      "  warnings.warn(\n",
      "C:\\Users\\user\\DataspellProjects\\yandex\\venv\\lib\\site-packages\\moviepy\\video\\io\\ffmpeg_reader.py:190: UserWarning: In file movie_dir\\-220020068_456239859\\-220020068_456239859.mp4, 6220800 bytes wanted but 0 bytes read at frame index 19440 (out of a total 90888 frames), at time 810.00/3787.04 sec. Using the last valid frame instead.\n",
      "  warnings.warn(\n",
      "C:\\Users\\user\\DataspellProjects\\yandex\\venv\\lib\\site-packages\\moviepy\\video\\io\\ffmpeg_reader.py:190: UserWarning: In file movie_dir\\-220020068_456239859\\-220020068_456239859.mp4, 6220800 bytes wanted but 0 bytes read at frame index 19464 (out of a total 90888 frames), at time 811.00/3787.04 sec. Using the last valid frame instead.\n",
      "  warnings.warn(\n",
      "C:\\Users\\user\\DataspellProjects\\yandex\\venv\\lib\\site-packages\\moviepy\\video\\io\\ffmpeg_reader.py:190: UserWarning: In file movie_dir\\-220020068_456239859\\-220020068_456239859.mp4, 6220800 bytes wanted but 0 bytes read at frame index 19488 (out of a total 90888 frames), at time 812.00/3787.04 sec. Using the last valid frame instead.\n",
      "  warnings.warn(\n",
      "C:\\Users\\user\\DataspellProjects\\yandex\\venv\\lib\\site-packages\\moviepy\\video\\io\\ffmpeg_reader.py:190: UserWarning: In file movie_dir\\-220020068_456239859\\-220020068_456239859.mp4, 6220800 bytes wanted but 0 bytes read at frame index 19512 (out of a total 90888 frames), at time 813.00/3787.04 sec. Using the last valid frame instead.\n",
      "  warnings.warn(\n",
      "C:\\Users\\user\\DataspellProjects\\yandex\\venv\\lib\\site-packages\\moviepy\\video\\io\\ffmpeg_reader.py:190: UserWarning: In file movie_dir\\-220020068_456239859\\-220020068_456239859.mp4, 6220800 bytes wanted but 0 bytes read at frame index 19536 (out of a total 90888 frames), at time 814.00/3787.04 sec. Using the last valid frame instead.\n",
      "  warnings.warn(\n",
      "C:\\Users\\user\\DataspellProjects\\yandex\\venv\\lib\\site-packages\\moviepy\\video\\io\\ffmpeg_reader.py:190: UserWarning: In file movie_dir\\-220020068_456239859\\-220020068_456239859.mp4, 6220800 bytes wanted but 0 bytes read at frame index 19560 (out of a total 90888 frames), at time 815.00/3787.04 sec. Using the last valid frame instead.\n",
      "  warnings.warn(\n",
      "C:\\Users\\user\\DataspellProjects\\yandex\\venv\\lib\\site-packages\\moviepy\\video\\io\\ffmpeg_reader.py:190: UserWarning: In file movie_dir\\-220020068_456239859\\-220020068_456239859.mp4, 6220800 bytes wanted but 0 bytes read at frame index 19584 (out of a total 90888 frames), at time 816.00/3787.04 sec. Using the last valid frame instead.\n",
      "  warnings.warn(\n",
      "C:\\Users\\user\\DataspellProjects\\yandex\\venv\\lib\\site-packages\\moviepy\\video\\io\\ffmpeg_reader.py:190: UserWarning: In file movie_dir\\-220020068_456239859\\-220020068_456239859.mp4, 6220800 bytes wanted but 0 bytes read at frame index 19608 (out of a total 90888 frames), at time 817.00/3787.04 sec. Using the last valid frame instead.\n",
      "  warnings.warn(\n",
      "C:\\Users\\user\\DataspellProjects\\yandex\\venv\\lib\\site-packages\\moviepy\\video\\io\\ffmpeg_reader.py:190: UserWarning: In file movie_dir\\-220020068_456239859\\-220020068_456239859.mp4, 6220800 bytes wanted but 0 bytes read at frame index 19632 (out of a total 90888 frames), at time 818.00/3787.04 sec. Using the last valid frame instead.\n",
      "  warnings.warn(\n",
      "C:\\Users\\user\\DataspellProjects\\yandex\\venv\\lib\\site-packages\\moviepy\\video\\io\\ffmpeg_reader.py:190: UserWarning: In file movie_dir\\-220020068_456239859\\-220020068_456239859.mp4, 6220800 bytes wanted but 0 bytes read at frame index 19656 (out of a total 90888 frames), at time 819.00/3787.04 sec. Using the last valid frame instead.\n",
      "  warnings.warn(\n",
      "C:\\Users\\user\\DataspellProjects\\yandex\\venv\\lib\\site-packages\\moviepy\\video\\io\\ffmpeg_reader.py:190: UserWarning: In file movie_dir\\-220020068_456239859\\-220020068_456239859.mp4, 6220800 bytes wanted but 0 bytes read at frame index 19680 (out of a total 90888 frames), at time 820.00/3787.04 sec. Using the last valid frame instead.\n",
      "  warnings.warn(\n",
      "C:\\Users\\user\\DataspellProjects\\yandex\\venv\\lib\\site-packages\\moviepy\\video\\io\\ffmpeg_reader.py:190: UserWarning: In file movie_dir\\-220020068_456239859\\-220020068_456239859.mp4, 6220800 bytes wanted but 0 bytes read at frame index 19704 (out of a total 90888 frames), at time 821.00/3787.04 sec. Using the last valid frame instead.\n",
      "  warnings.warn(\n",
      "C:\\Users\\user\\DataspellProjects\\yandex\\venv\\lib\\site-packages\\moviepy\\video\\io\\ffmpeg_reader.py:190: UserWarning: In file movie_dir\\-220020068_456239859\\-220020068_456239859.mp4, 6220800 bytes wanted but 0 bytes read at frame index 19728 (out of a total 90888 frames), at time 822.00/3787.04 sec. Using the last valid frame instead.\n",
      "  warnings.warn(\n",
      "C:\\Users\\user\\DataspellProjects\\yandex\\venv\\lib\\site-packages\\moviepy\\video\\io\\ffmpeg_reader.py:190: UserWarning: In file movie_dir\\-220020068_456239859\\-220020068_456239859.mp4, 6220800 bytes wanted but 0 bytes read at frame index 19752 (out of a total 90888 frames), at time 823.00/3787.04 sec. Using the last valid frame instead.\n",
      "  warnings.warn(\n",
      "C:\\Users\\user\\DataspellProjects\\yandex\\venv\\lib\\site-packages\\moviepy\\video\\io\\ffmpeg_reader.py:190: UserWarning: In file movie_dir\\-220020068_456239859\\-220020068_456239859.mp4, 6220800 bytes wanted but 0 bytes read at frame index 19776 (out of a total 90888 frames), at time 824.00/3787.04 sec. Using the last valid frame instead.\n",
      "  warnings.warn(\n",
      "C:\\Users\\user\\DataspellProjects\\yandex\\venv\\lib\\site-packages\\moviepy\\video\\io\\ffmpeg_reader.py:190: UserWarning: In file movie_dir\\-220020068_456239859\\-220020068_456239859.mp4, 6220800 bytes wanted but 0 bytes read at frame index 19800 (out of a total 90888 frames), at time 825.00/3787.04 sec. Using the last valid frame instead.\n",
      "  warnings.warn(\n",
      "C:\\Users\\user\\DataspellProjects\\yandex\\venv\\lib\\site-packages\\moviepy\\video\\io\\ffmpeg_reader.py:190: UserWarning: In file movie_dir\\-220020068_456239859\\-220020068_456239859.mp4, 6220800 bytes wanted but 0 bytes read at frame index 19824 (out of a total 90888 frames), at time 826.00/3787.04 sec. Using the last valid frame instead.\n",
      "  warnings.warn(\n",
      "C:\\Users\\user\\DataspellProjects\\yandex\\venv\\lib\\site-packages\\moviepy\\video\\io\\ffmpeg_reader.py:190: UserWarning: In file movie_dir\\-220020068_456239859\\-220020068_456239859.mp4, 6220800 bytes wanted but 0 bytes read at frame index 19848 (out of a total 90888 frames), at time 827.00/3787.04 sec. Using the last valid frame instead.\n",
      "  warnings.warn(\n",
      "C:\\Users\\user\\DataspellProjects\\yandex\\venv\\lib\\site-packages\\moviepy\\video\\io\\ffmpeg_reader.py:190: UserWarning: In file movie_dir\\-220020068_456239859\\-220020068_456239859.mp4, 6220800 bytes wanted but 0 bytes read at frame index 19872 (out of a total 90888 frames), at time 828.00/3787.04 sec. Using the last valid frame instead.\n",
      "  warnings.warn(\n",
      "C:\\Users\\user\\DataspellProjects\\yandex\\venv\\lib\\site-packages\\moviepy\\video\\io\\ffmpeg_reader.py:190: UserWarning: In file movie_dir\\-220020068_456239859\\-220020068_456239859.mp4, 6220800 bytes wanted but 0 bytes read at frame index 19896 (out of a total 90888 frames), at time 829.00/3787.04 sec. Using the last valid frame instead.\n",
      "  warnings.warn(\n",
      "C:\\Users\\user\\DataspellProjects\\yandex\\venv\\lib\\site-packages\\moviepy\\video\\io\\ffmpeg_reader.py:190: UserWarning: In file movie_dir\\-220020068_456239859\\-220020068_456239859.mp4, 6220800 bytes wanted but 0 bytes read at frame index 19920 (out of a total 90888 frames), at time 830.00/3787.04 sec. Using the last valid frame instead.\n",
      "  warnings.warn(\n",
      "C:\\Users\\user\\DataspellProjects\\yandex\\venv\\lib\\site-packages\\moviepy\\video\\io\\ffmpeg_reader.py:190: UserWarning: In file movie_dir\\-220020068_456239859\\-220020068_456239859.mp4, 6220800 bytes wanted but 0 bytes read at frame index 19944 (out of a total 90888 frames), at time 831.00/3787.04 sec. Using the last valid frame instead.\n",
      "  warnings.warn(\n",
      "C:\\Users\\user\\DataspellProjects\\yandex\\venv\\lib\\site-packages\\moviepy\\video\\io\\ffmpeg_reader.py:190: UserWarning: In file movie_dir\\-220020068_456239859\\-220020068_456239859.mp4, 6220800 bytes wanted but 0 bytes read at frame index 19968 (out of a total 90888 frames), at time 832.00/3787.04 sec. Using the last valid frame instead.\n",
      "  warnings.warn(\n",
      "C:\\Users\\user\\DataspellProjects\\yandex\\venv\\lib\\site-packages\\moviepy\\video\\io\\ffmpeg_reader.py:190: UserWarning: In file movie_dir\\-220020068_456239859\\-220020068_456239859.mp4, 6220800 bytes wanted but 0 bytes read at frame index 19992 (out of a total 90888 frames), at time 833.00/3787.04 sec. Using the last valid frame instead.\n",
      "  warnings.warn(\n",
      "C:\\Users\\user\\DataspellProjects\\yandex\\venv\\lib\\site-packages\\moviepy\\video\\io\\ffmpeg_reader.py:190: UserWarning: In file movie_dir\\-220020068_456239859\\-220020068_456239859.mp4, 6220800 bytes wanted but 0 bytes read at frame index 20016 (out of a total 90888 frames), at time 834.00/3787.04 sec. Using the last valid frame instead.\n",
      "  warnings.warn(\n",
      "C:\\Users\\user\\DataspellProjects\\yandex\\venv\\lib\\site-packages\\moviepy\\video\\io\\ffmpeg_reader.py:190: UserWarning: In file movie_dir\\-220020068_456239859\\-220020068_456239859.mp4, 6220800 bytes wanted but 0 bytes read at frame index 20040 (out of a total 90888 frames), at time 835.00/3787.04 sec. Using the last valid frame instead.\n",
      "  warnings.warn(\n",
      "C:\\Users\\user\\DataspellProjects\\yandex\\venv\\lib\\site-packages\\moviepy\\video\\io\\ffmpeg_reader.py:190: UserWarning: In file movie_dir\\-220020068_456239859\\-220020068_456239859.mp4, 6220800 bytes wanted but 0 bytes read at frame index 20064 (out of a total 90888 frames), at time 836.00/3787.04 sec. Using the last valid frame instead.\n",
      "  warnings.warn(\n",
      "C:\\Users\\user\\DataspellProjects\\yandex\\venv\\lib\\site-packages\\moviepy\\video\\io\\ffmpeg_reader.py:190: UserWarning: In file movie_dir\\-220020068_456239859\\-220020068_456239859.mp4, 6220800 bytes wanted but 0 bytes read at frame index 20088 (out of a total 90888 frames), at time 837.00/3787.04 sec. Using the last valid frame instead.\n",
      "  warnings.warn(\n",
      "C:\\Users\\user\\DataspellProjects\\yandex\\venv\\lib\\site-packages\\moviepy\\video\\io\\ffmpeg_reader.py:190: UserWarning: In file movie_dir\\-220020068_456239859\\-220020068_456239859.mp4, 6220800 bytes wanted but 0 bytes read at frame index 20112 (out of a total 90888 frames), at time 838.00/3787.04 sec. Using the last valid frame instead.\n",
      "  warnings.warn(\n",
      "C:\\Users\\user\\DataspellProjects\\yandex\\venv\\lib\\site-packages\\moviepy\\video\\io\\ffmpeg_reader.py:190: UserWarning: In file movie_dir\\-220020068_456239859\\-220020068_456239859.mp4, 6220800 bytes wanted but 0 bytes read at frame index 20136 (out of a total 90888 frames), at time 839.00/3787.04 sec. Using the last valid frame instead.\n",
      "  warnings.warn(\n",
      " 68%|██████▊   | 75/110 [2:17:11<1:01:09, 104.85s/it]"
     ]
    },
    {
     "name": "stdout",
     "output_type": "stream",
     "text": [
      "Сохранил признаки и метки для -220020068_456239859 в features_dataset\\-220020068_456239859.pt\n"
     ]
    },
    {
     "name": "stderr",
     "output_type": "stream",
     "text": [
      " 69%|██████▉   | 76/110 [2:18:32<55:18, 97.61s/it]   "
     ]
    },
    {
     "name": "stdout",
     "output_type": "stream",
     "text": [
      "Сохранил признаки и метки для -220020068_456255392 в features_dataset\\-220020068_456255392.pt\n"
     ]
    },
    {
     "name": "stderr",
     "output_type": "stream",
     "text": [
      " 70%|███████   | 77/110 [2:19:47<49:58, 90.86s/it]"
     ]
    },
    {
     "name": "stdout",
     "output_type": "stream",
     "text": [
      "Сохранил признаки и метки для -220020068_456241845 в features_dataset\\-220020068_456241845.pt\n"
     ]
    },
    {
     "name": "stderr",
     "output_type": "stream",
     "text": [
      " 71%|███████   | 78/110 [2:21:05<46:22, 86.97s/it]"
     ]
    },
    {
     "name": "stdout",
     "output_type": "stream",
     "text": [
      "Сохранил признаки и метки для -220020068_456255766 в features_dataset\\-220020068_456255766.pt\n"
     ]
    },
    {
     "name": "stderr",
     "output_type": "stream",
     "text": [
      " 72%|███████▏  | 79/110 [2:22:23<43:32, 84.29s/it]"
     ]
    },
    {
     "name": "stdout",
     "output_type": "stream",
     "text": [
      "Сохранил признаки и метки для -220020068_456256003 в features_dataset\\-220020068_456256003.pt\n"
     ]
    },
    {
     "name": "stderr",
     "output_type": "stream",
     "text": [
      " 73%|███████▎  | 80/110 [2:23:41<41:15, 82.52s/it]"
     ]
    },
    {
     "name": "stdout",
     "output_type": "stream",
     "text": [
      "Сохранил признаки и метки для -220020068_456257136 в features_dataset\\-220020068_456257136.pt\n"
     ]
    },
    {
     "name": "stderr",
     "output_type": "stream",
     "text": [
      " 74%|███████▎  | 81/110 [2:25:00<39:25, 81.58s/it]"
     ]
    },
    {
     "name": "stdout",
     "output_type": "stream",
     "text": [
      "Сохранил признаки и метки для -220020068_456241846 в features_dataset\\-220020068_456241846.pt\n"
     ]
    },
    {
     "name": "stderr",
     "output_type": "stream",
     "text": [
      " 75%|███████▍  | 82/110 [2:26:23<38:09, 81.75s/it]"
     ]
    },
    {
     "name": "stdout",
     "output_type": "stream",
     "text": [
      "Сохранил признаки и метки для -220020068_456255767 в features_dataset\\-220020068_456255767.pt\n"
     ]
    },
    {
     "name": "stderr",
     "output_type": "stream",
     "text": [
      " 75%|███████▌  | 83/110 [2:27:45<36:53, 82.00s/it]"
     ]
    },
    {
     "name": "stdout",
     "output_type": "stream",
     "text": [
      "Сохранил признаки и метки для -220020068_456254537 в features_dataset\\-220020068_456254537.pt\n"
     ]
    },
    {
     "name": "stderr",
     "output_type": "stream",
     "text": [
      " 76%|███████▋  | 84/110 [2:29:11<36:03, 83.22s/it]"
     ]
    },
    {
     "name": "stdout",
     "output_type": "stream",
     "text": [
      "Сохранил признаки и метки для -220020068_456255394 в features_dataset\\-220020068_456255394.pt\n"
     ]
    },
    {
     "name": "stderr",
     "output_type": "stream",
     "text": [
      " 77%|███████▋  | 85/110 [2:30:32<34:24, 82.57s/it]"
     ]
    },
    {
     "name": "stdout",
     "output_type": "stream",
     "text": [
      "Сохранил признаки и метки для -220020068_456255409 в features_dataset\\-220020068_456255409.pt\n"
     ]
    },
    {
     "name": "stderr",
     "output_type": "stream",
     "text": [
      " 78%|███████▊  | 86/110 [2:31:48<32:09, 80.38s/it]"
     ]
    },
    {
     "name": "stdout",
     "output_type": "stream",
     "text": [
      "Сохранил признаки и метки для -220020068_456241847 в features_dataset\\-220020068_456241847.pt\n"
     ]
    },
    {
     "name": "stderr",
     "output_type": "stream",
     "text": [
      " 79%|███████▉  | 87/110 [2:33:02<30:08, 78.64s/it]"
     ]
    },
    {
     "name": "stdout",
     "output_type": "stream",
     "text": [
      "Сохранил признаки и метки для -220020068_456255773 в features_dataset\\-220020068_456255773.pt\n"
     ]
    },
    {
     "name": "stderr",
     "output_type": "stream",
     "text": [
      " 80%|████████  | 88/110 [2:34:15<28:13, 76.97s/it]"
     ]
    },
    {
     "name": "stdout",
     "output_type": "stream",
     "text": [
      "Сохранил признаки и метки для -220020068_456256005 в features_dataset\\-220020068_456256005.pt\n"
     ]
    },
    {
     "name": "stderr",
     "output_type": "stream",
     "text": [
      " 81%|████████  | 89/110 [2:35:30<26:41, 76.25s/it]"
     ]
    },
    {
     "name": "stdout",
     "output_type": "stream",
     "text": [
      "Сохранил признаки и метки для -220020068_456256868 в features_dataset\\-220020068_456256868.pt\n"
     ]
    },
    {
     "name": "stderr",
     "output_type": "stream",
     "text": [
      " 82%|████████▏ | 90/110 [2:36:44<25:14, 75.72s/it]"
     ]
    },
    {
     "name": "stdout",
     "output_type": "stream",
     "text": [
      "Сохранил признаки и метки для -220020068_456255349 в features_dataset\\-220020068_456255349.pt\n"
     ]
    },
    {
     "name": "stderr",
     "output_type": "stream",
     "text": [
      " 83%|████████▎ | 91/110 [2:38:02<24:07, 76.21s/it]"
     ]
    },
    {
     "name": "stdout",
     "output_type": "stream",
     "text": [
      "Сохранил признаки и метки для -220020068_456255395 в features_dataset\\-220020068_456255395.pt\n"
     ]
    },
    {
     "name": "stderr",
     "output_type": "stream",
     "text": [
      " 84%|████████▎ | 92/110 [2:39:14<22:29, 74.97s/it]"
     ]
    },
    {
     "name": "stdout",
     "output_type": "stream",
     "text": [
      "Сохранил признаки и метки для -220020068_456255779 в features_dataset\\-220020068_456255779.pt\n"
     ]
    },
    {
     "name": "stderr",
     "output_type": "stream",
     "text": [
      " 85%|████████▍ | 93/110 [2:40:29<21:17, 75.13s/it]"
     ]
    },
    {
     "name": "stdout",
     "output_type": "stream",
     "text": [
      "Сохранил признаки и метки для -220020068_456256893 в features_dataset\\-220020068_456256893.pt\n"
     ]
    },
    {
     "name": "stderr",
     "output_type": "stream",
     "text": [
      " 85%|████████▌ | 94/110 [2:41:44<20:01, 75.07s/it]"
     ]
    },
    {
     "name": "stdout",
     "output_type": "stream",
     "text": [
      "Сохранил признаки и метки для -220020068_456241682 в features_dataset\\-220020068_456241682.pt\n"
     ]
    },
    {
     "name": "stderr",
     "output_type": "stream",
     "text": [
      " 86%|████████▋ | 95/110 [2:43:02<18:56, 75.75s/it]"
     ]
    },
    {
     "name": "stdout",
     "output_type": "stream",
     "text": [
      "Сохранил признаки и метки для -220020068_456255396 в features_dataset\\-220020068_456255396.pt\n"
     ]
    },
    {
     "name": "stderr",
     "output_type": "stream",
     "text": [
      " 87%|████████▋ | 96/110 [2:44:16<17:36, 75.46s/it]"
     ]
    },
    {
     "name": "stdout",
     "output_type": "stream",
     "text": [
      "Сохранил признаки и метки для -220020068_456254614 в features_dataset\\-220020068_456254614.pt\n"
     ]
    },
    {
     "name": "stderr",
     "output_type": "stream",
     "text": [
      " 88%|████████▊ | 97/110 [2:45:30<16:13, 74.86s/it]"
     ]
    },
    {
     "name": "stdout",
     "output_type": "stream",
     "text": [
      "Сохранил признаки и метки для -220020068_456241849 в features_dataset\\-220020068_456241849.pt\n"
     ]
    },
    {
     "name": "stderr",
     "output_type": "stream",
     "text": [
      " 89%|████████▉ | 98/110 [2:46:43<14:51, 74.27s/it]"
     ]
    },
    {
     "name": "stdout",
     "output_type": "stream",
     "text": [
      "Сохранил признаки и метки для -220020068_456255780 в features_dataset\\-220020068_456255780.pt\n"
     ]
    },
    {
     "name": "stderr",
     "output_type": "stream",
     "text": [
      " 90%|█████████ | 99/110 [2:47:57<13:37, 74.34s/it]"
     ]
    },
    {
     "name": "stdout",
     "output_type": "stream",
     "text": [
      "Сохранил признаки и метки для -220020068_456249667 в features_dataset\\-220020068_456249667.pt\n"
     ]
    },
    {
     "name": "stderr",
     "output_type": "stream",
     "text": [
      " 91%|█████████ | 100/110 [2:49:11<12:22, 74.21s/it]"
     ]
    },
    {
     "name": "stdout",
     "output_type": "stream",
     "text": [
      "Сохранил признаки и метки для -220020068_456253855 в features_dataset\\-220020068_456253855.pt\n"
     ]
    },
    {
     "name": "stderr",
     "output_type": "stream",
     "text": [
      " 92%|█████████▏| 101/110 [2:50:27<11:12, 74.69s/it]"
     ]
    },
    {
     "name": "stdout",
     "output_type": "stream",
     "text": [
      "Сохранил признаки и метки для -220020068_456255412 в features_dataset\\-220020068_456255412.pt\n"
     ]
    },
    {
     "name": "stderr",
     "output_type": "stream",
     "text": [
      " 93%|█████████▎| 102/110 [2:51:40<09:54, 74.28s/it]"
     ]
    },
    {
     "name": "stdout",
     "output_type": "stream",
     "text": [
      "Сохранил признаки и метки для -220020068_456241850 в features_dataset\\-220020068_456241850.pt\n"
     ]
    },
    {
     "name": "stderr",
     "output_type": "stream",
     "text": [
      " 94%|█████████▎| 103/110 [2:52:57<08:45, 75.04s/it]"
     ]
    },
    {
     "name": "stdout",
     "output_type": "stream",
     "text": [
      "Сохранил признаки и метки для -220020068_456253876 в features_dataset\\-220020068_456253876.pt\n"
     ]
    },
    {
     "name": "stderr",
     "output_type": "stream",
     "text": [
      " 95%|█████████▍| 104/110 [2:54:11<07:28, 74.78s/it]"
     ]
    },
    {
     "name": "stdout",
     "output_type": "stream",
     "text": [
      "Сохранил признаки и метки для -220020068_456256430 в features_dataset\\-220020068_456256430.pt\n"
     ]
    },
    {
     "name": "stderr",
     "output_type": "stream",
     "text": [
      " 95%|█████████▌| 105/110 [2:55:27<06:14, 74.98s/it]"
     ]
    },
    {
     "name": "stdout",
     "output_type": "stream",
     "text": [
      "Сохранил признаки и метки для -220020068_456255407 в features_dataset\\-220020068_456255407.pt\n"
     ]
    },
    {
     "name": "stderr",
     "output_type": "stream",
     "text": [
      " 96%|█████████▋| 106/110 [2:56:42<04:59, 74.96s/it]"
     ]
    },
    {
     "name": "stdout",
     "output_type": "stream",
     "text": [
      "Сохранил признаки и метки для -220020068_456249719 в features_dataset\\-220020068_456249719.pt\n"
     ]
    },
    {
     "name": "stderr",
     "output_type": "stream",
     "text": [
      " 97%|█████████▋| 107/110 [2:57:57<03:45, 75.16s/it]"
     ]
    },
    {
     "name": "stdout",
     "output_type": "stream",
     "text": [
      "Сохранил признаки и метки для -220020068_456255400 в features_dataset\\-220020068_456255400.pt\n"
     ]
    },
    {
     "name": "stderr",
     "output_type": "stream",
     "text": [
      " 98%|█████████▊| 108/110 [2:59:10<02:28, 74.47s/it]"
     ]
    },
    {
     "name": "stdout",
     "output_type": "stream",
     "text": [
      "Сохранил признаки и метки для -220020068_456256446 в features_dataset\\-220020068_456256446.pt\n"
     ]
    },
    {
     "name": "stderr",
     "output_type": "stream",
     "text": [
      " 99%|█████████▉| 109/110 [3:00:26<01:14, 74.92s/it]"
     ]
    },
    {
     "name": "stdout",
     "output_type": "stream",
     "text": [
      "Сохранил признаки и метки для -220020068_456255401 в features_dataset\\-220020068_456255401.pt\n"
     ]
    },
    {
     "name": "stderr",
     "output_type": "stream",
     "text": [
      "100%|██████████| 110/110 [3:01:42<00:00, 99.11s/it]"
     ]
    },
    {
     "name": "stdout",
     "output_type": "stream",
     "text": [
      "Сохранил признаки и метки для -220020068_456249733 в features_dataset\\-220020068_456249733.pt\n",
      "Обработка завершена.\n"
     ]
    },
    {
     "name": "stderr",
     "output_type": "stream",
     "text": [
      "\n"
     ]
    }
   ],
   "execution_count": 11
  },
  {
   "metadata": {
    "ExecuteTime": {
     "end_time": "2025-06-16T14:55:04.349709Z",
     "start_time": "2025-06-16T14:55:04.334087Z"
    }
   },
   "cell_type": "code",
   "source": [
    "import os\n",
    "import torch\n",
    "import torch.nn as nn\n",
    "from torch.utils.data import Dataset, DataLoader\n",
    "\n",
    "# модель классификатор - обычный MLP\n",
    "class FrameClassifier(nn.Module):\n",
    "    def __init__(self, input_dim=1000, hidden_dim=256):\n",
    "        super().__init__()\n",
    "        self.net = nn.Sequential(\n",
    "            nn.Linear(input_dim, hidden_dim),\n",
    "            nn.ReLU(),\n",
    "            nn.Dropout(0.3),\n",
    "            nn.Linear(hidden_dim, 1),\n",
    "            nn.Sigmoid()\n",
    "        )\n",
    "\n",
    "    def forward(self, x):\n",
    "        return self.net(x).squeeze(-1)\n"
   ],
   "id": "c011ac948a8dfecc",
   "outputs": [],
   "execution_count": 7
  },
  {
   "metadata": {
    "ExecuteTime": {
     "end_time": "2025-06-16T14:55:06.426493Z",
     "start_time": "2025-06-16T14:55:06.395801Z"
    }
   },
   "cell_type": "code",
   "source": [
    "# Датасет\n",
    "class FeaturesDataset(Dataset):\n",
    "    def __init__(self, data_dir):\n",
    "        self.data = []\n",
    "        for file in os.listdir(data_dir):\n",
    "            if file.endswith(\".pt\"):\n",
    "                self.data.append(torch.load(os.path.join(data_dir, file)))\n",
    "\n",
    "    def __len__(self):\n",
    "        return sum(len(d['labels']) for d in self.data)\n",
    "\n",
    "    def __getitem__(self, idx):\n",
    "        for d in self.data:\n",
    "            if idx < len(d['labels']):\n",
    "                return d['features'][idx], d['labels'][idx]\n",
    "            else:\n",
    "                idx -= len(d['labels'])\n",
    "        raise IndexError\n"
   ],
   "id": "c60c25c540b16b6",
   "outputs": [],
   "execution_count": 8
  },
  {
   "metadata": {
    "ExecuteTime": {
     "end_time": "2025-06-16T14:55:08.717252Z",
     "start_time": "2025-06-16T14:55:08.703529Z"
    }
   },
   "cell_type": "code",
   "source": [
    "# Метрика бля обучающего цикла (в конце запустим модель на всех метриках)\n",
    "def binary_accuracy(preds, targets, threshold=0.5):\n",
    "    pred_labels = (preds >= threshold).float()\n",
    "    return (pred_labels == targets).float().mean().item()"
   ],
   "id": "27aae3f415966c3f",
   "outputs": [],
   "execution_count": 9
  },
  {
   "metadata": {
    "ExecuteTime": {
     "end_time": "2025-06-16T14:55:13.806195Z",
     "start_time": "2025-06-16T14:55:11.365692Z"
    }
   },
   "cell_type": "code",
   "source": [
    "from torch.utils.data import random_split\n",
    "\n",
    "# Данные\n",
    "dataset = FeaturesDataset(\"features_dataset\")\n",
    "\n",
    "# Делим на train/val\n",
    "train_size = int(0.8 * len(dataset))\n",
    "val_size = len(dataset) - train_size\n",
    "train_ds, val_ds = random_split(dataset, [train_size, val_size])\n",
    "\n",
    "train_loader = DataLoader(train_ds, batch_size=64, shuffle=True)\n",
    "val_loader = DataLoader(val_ds, batch_size=64)\n",
    "\n",
    "# Инициализация\n",
    "device = torch.device(\"cuda\" if torch.cuda.is_available() else \"cpu\")\n",
    "model = FrameClassifier().to(device)\n",
    "optimizer = torch.optim.Adam(model.parameters(), lr=1e-3)\n",
    "loss_fn = nn.BCELoss()\n"
   ],
   "id": "36f9ae5e3c5f5f39",
   "outputs": [],
   "execution_count": 10
  },
  {
   "metadata": {
    "ExecuteTime": {
     "end_time": "2025-06-16T14:55:15.201374Z",
     "start_time": "2025-06-16T14:55:15.185750Z"
    }
   },
   "cell_type": "code",
   "source": [
    "num_epochs = 15\n",
    "best_val_loss = float(\"inf\")\n",
    "model_save_path = \"best_model.pth\""
   ],
   "id": "a9718eabd9a074d4",
   "outputs": [],
   "execution_count": 11
  },
  {
   "metadata": {
    "ExecuteTime": {
     "end_time": "2025-06-15T12:34:13.197349Z",
     "start_time": "2025-06-15T12:30:18.589580Z"
    }
   },
   "cell_type": "code",
   "source": [
    "for epoch in range(1, num_epochs + 1):\n",
    "    # Train \n",
    "    model.train()\n",
    "    total_loss = 0\n",
    "    total_acc = 0\n",
    "\n",
    "    for x, y in train_loader:\n",
    "        x, y = x.to(device), y.float().to(device)\n",
    "        optimizer.zero_grad()\n",
    "        preds = model(x)\n",
    "        loss = loss_fn(preds, y)\n",
    "        acc = binary_accuracy(preds, y)\n",
    "        loss.backward()\n",
    "        optimizer.step()\n",
    "        total_loss += loss.item()\n",
    "        total_acc += acc\n",
    "\n",
    "    avg_train_loss = total_loss / len(train_loader)\n",
    "    avg_train_acc = total_acc / len(train_loader)\n",
    "\n",
    "    # Validation \n",
    "    model.eval()\n",
    "    val_loss = 0\n",
    "    val_acc = 0\n",
    "\n",
    "    with torch.no_grad():\n",
    "        for x, y in val_loader:\n",
    "            x, y = x.to(device), y.float().to(device)\n",
    "            preds = model(x)\n",
    "            loss = loss_fn(preds, y)\n",
    "            acc = binary_accuracy(preds, y)\n",
    "            val_loss += loss.item()\n",
    "            val_acc += acc\n",
    "\n",
    "    avg_val_loss = val_loss / len(val_loader)\n",
    "    avg_val_acc = val_acc / len(val_loader)\n",
    "\n",
    "    print(f\"Epoch {epoch}/{num_epochs}\")\n",
    "    print(f\"  Train Loss: {avg_train_loss:.4f} | Train Acc: {avg_train_acc:.4f}\")\n",
    "    print(f\"  Val   Loss: {avg_val_loss:.4f} | Val   Acc: {avg_val_acc:.4f}\")\n",
    "\n",
    "    # Сохраняем модель если она лучше \n",
    "    if avg_val_loss < best_val_loss:\n",
    "        best_val_loss = avg_val_loss\n",
    "        torch.save(model.state_dict(), model_save_path)\n",
    "        print(f\"  ✅ Model improved — saved to {model_save_path}\")\n",
    "    print(\"-\" * 50)"
   ],
   "id": "d5f3ac6ccdf983ea",
   "outputs": [
    {
     "name": "stdout",
     "output_type": "stream",
     "text": [
      "Epoch 1/15\n",
      "  Train Loss: 0.0480 | Train Acc: 0.9864\n",
      "  Val   Loss: 0.0365 | Val   Acc: 0.9879\n",
      "  ✅ Model improved — saved to best_model.pth\n",
      "--------------------------------------------------\n",
      "Epoch 2/15\n",
      "  Train Loss: 0.0404 | Train Acc: 0.9885\n",
      "  Val   Loss: 0.0344 | Val   Acc: 0.9891\n",
      "  ✅ Model improved — saved to best_model.pth\n",
      "--------------------------------------------------\n",
      "Epoch 3/15\n",
      "  Train Loss: 0.0363 | Train Acc: 0.9895\n",
      "  Val   Loss: 0.0376 | Val   Acc: 0.9870\n",
      "--------------------------------------------------\n",
      "Epoch 4/15\n",
      "  Train Loss: 0.0331 | Train Acc: 0.9900\n",
      "  Val   Loss: 0.0307 | Val   Acc: 0.9901\n",
      "  ✅ Model improved — saved to best_model.pth\n",
      "--------------------------------------------------\n",
      "Epoch 5/15\n",
      "  Train Loss: 0.0309 | Train Acc: 0.9907\n",
      "  Val   Loss: 0.0299 | Val   Acc: 0.9910\n",
      "  ✅ Model improved — saved to best_model.pth\n",
      "--------------------------------------------------\n",
      "Epoch 6/15\n",
      "  Train Loss: 0.0304 | Train Acc: 0.9909\n",
      "  Val   Loss: 0.0299 | Val   Acc: 0.9908\n",
      "  ✅ Model improved — saved to best_model.pth\n",
      "--------------------------------------------------\n",
      "Epoch 7/15\n",
      "  Train Loss: 0.0269 | Train Acc: 0.9919\n",
      "  Val   Loss: 0.0306 | Val   Acc: 0.9905\n",
      "--------------------------------------------------\n",
      "Epoch 8/15\n",
      "  Train Loss: 0.0257 | Train Acc: 0.9923\n",
      "  Val   Loss: 0.0270 | Val   Acc: 0.9919\n",
      "  ✅ Model improved — saved to best_model.pth\n",
      "--------------------------------------------------\n",
      "Epoch 9/15\n",
      "  Train Loss: 0.0254 | Train Acc: 0.9926\n",
      "  Val   Loss: 0.0279 | Val   Acc: 0.9916\n",
      "--------------------------------------------------\n",
      "Epoch 10/15\n",
      "  Train Loss: 0.0245 | Train Acc: 0.9929\n",
      "  Val   Loss: 0.0268 | Val   Acc: 0.9921\n",
      "  ✅ Model improved — saved to best_model.pth\n",
      "--------------------------------------------------\n",
      "Epoch 11/15\n",
      "  Train Loss: 0.0232 | Train Acc: 0.9928\n",
      "  Val   Loss: 0.0264 | Val   Acc: 0.9924\n",
      "  ✅ Model improved — saved to best_model.pth\n",
      "--------------------------------------------------\n",
      "Epoch 12/15\n",
      "  Train Loss: 0.0240 | Train Acc: 0.9929\n",
      "  Val   Loss: 0.0245 | Val   Acc: 0.9930\n",
      "  ✅ Model improved — saved to best_model.pth\n",
      "--------------------------------------------------\n",
      "Epoch 13/15\n",
      "  Train Loss: 0.0213 | Train Acc: 0.9934\n",
      "  Val   Loss: 0.0270 | Val   Acc: 0.9921\n",
      "--------------------------------------------------\n",
      "Epoch 14/15\n",
      "  Train Loss: 0.0216 | Train Acc: 0.9936\n",
      "  Val   Loss: 0.0246 | Val   Acc: 0.9935\n",
      "--------------------------------------------------\n",
      "Epoch 15/15\n",
      "  Train Loss: 0.0202 | Train Acc: 0.9940\n",
      "  Val   Loss: 0.0296 | Val   Acc: 0.9921\n",
      "--------------------------------------------------\n"
     ]
    }
   ],
   "execution_count": 11
  },
  {
   "metadata": {},
   "cell_type": "markdown",
   "source": [
    "# 🎬 Главная функция для поиска короткой заставки в видео.\n",
    "### Обрабатывает кадры, делает предсказания и возвращает границы заставки (в секундах).\n"
   ],
   "id": "f870ff400818ca8d"
  },
  {
   "metadata": {
    "ExecuteTime": {
     "end_time": "2025-06-16T14:55:19.304060Z",
     "start_time": "2025-06-16T14:55:19.267185Z"
    }
   },
   "cell_type": "code",
   "source": [
    "import torch\n",
    "import torch.nn as nn\n",
    "from torchvision import models, transforms as T\n",
    "import os\n",
    "\n",
    "# Классификатор (должен совпадать с обученной архитектурой, потому что я сохранил только веса). \n",
    "# В целом мы его уже инициализировали раньше, просто вставил для наглядности\n",
    "class FrameClassifier(nn.Module):\n",
    "    def __init__(self, input_dim=1000, hidden_dim=256):\n",
    "        super().__init__()\n",
    "        self.net = nn.Sequential(\n",
    "            nn.Linear(input_dim, hidden_dim),\n",
    "            nn.ReLU(),\n",
    "            nn.Dropout(0.3),\n",
    "            nn.Linear(hidden_dim, 1),\n",
    "            nn.Sigmoid()\n",
    "        )\n",
    "\n",
    "    def forward(self, x):\n",
    "        return self.net(x).squeeze(-1)\n",
    "\n",
    "# Поиск самого длинного отрезка из 1\n",
    "def find_longest_segment(preds):\n",
    "    best_start = best_end = 0\n",
    "    current_start = None\n",
    "\n",
    "    for i, p in enumerate(preds):\n",
    "        if p == 1:\n",
    "            if current_start is None:\n",
    "                current_start = i\n",
    "        else:\n",
    "            if current_start is not None:\n",
    "                if i - current_start > best_end - best_start:\n",
    "                    best_start, best_end = current_start, i\n",
    "                current_start = None\n",
    "\n",
    "    if current_start is not None and len(preds) - current_start > best_end - best_start:\n",
    "        best_start, best_end = current_start, len(preds)\n",
    "\n",
    "    return best_start, best_end\n",
    "\n",
    "# Главная функция\n",
    "def predict_title_card_range(\n",
    "        video_path,\n",
    "        model_path=\"best_model.pth\",\n",
    "        max_duration=14 * 60,\n",
    "        threshold=0.5\n",
    "):\n",
    "    device = torch.device(\"cuda\" if torch.cuda.is_available() else \"cpu\")\n",
    "\n",
    "    # Загружаем модели\n",
    "    weights = models.ResNet18_Weights.DEFAULT\n",
    "    backbone = models.resnet18(weights=weights).to(device)\n",
    "    backbone.eval()\n",
    "\n",
    "    classifier = FrameClassifier().to(device)\n",
    "    classifier.load_state_dict(torch.load(model_path, map_location=device))\n",
    "    classifier.eval()\n",
    "\n",
    "    transform = T.Compose([\n",
    "        T.ToPILImage(),\n",
    "        T.Resize((224, 224)),\n",
    "        T.ToTensor(),\n",
    "        weights.transforms()\n",
    "    ])\n",
    "\n",
    "    preds = []\n",
    "    with VideoFileClip(video_path) as clip:\n",
    "        duration = min(int(clip.duration), max_duration)\n",
    "\n",
    "        for sec in range(duration):\n",
    "            frame = clip.get_frame(sec)\n",
    "            x = transform(frame).unsqueeze(0).to(device)\n",
    "\n",
    "            with torch.no_grad():\n",
    "                feats = backbone(x)\n",
    "                prob = classifier(feats).item()\n",
    "\n",
    "            preds.append(1 if prob >= threshold else 0)\n",
    "\n",
    "    start, end = find_longest_segment(preds)\n",
    "    return start, end\n"
   ],
   "id": "6d245ab60c0768bd",
   "outputs": [],
   "execution_count": 12
  },
  {
   "metadata": {},
   "cell_type": "markdown",
   "source": "### Вставляем путь к видео, получаем временной диапазон заставки",
   "id": "e9bd158d248fe315"
  },
  {
   "metadata": {
    "ExecuteTime": {
     "end_time": "2025-06-16T15:02:14.869099Z",
     "start_time": "2025-06-16T14:59:55.480161Z"
    }
   },
   "cell_type": "code",
   "source": [
    "video_path = \"movie_dir/-220020068_456239859/-220020068_456239859.mp4\" \n",
    "start_sec, end_sec = predict_title_card_range(video_path)\n",
    "\n",
    "print(f\"🎬 Заставка начинается на {start_sec} секунде и заканчивается на {end_sec} секунде.\")\n"
   ],
   "id": "e9c0a923ad1d2e31",
   "outputs": [
    {
     "name": "stdout",
     "output_type": "stream",
     "text": [
      "🎬 Заставка начинается на 21 секунде и заканчивается на 25 секунде.\n"
     ]
    }
   ],
   "execution_count": 14
  },
  {
   "metadata": {},
   "cell_type": "markdown",
   "source": [
    "# А теперь посмотрим, что скажут метрики\n",
    "### Я специально вынес в другую директорию небольшое количество разнообразных серий(а точнее их признаки - .pt)"
   ],
   "id": "efcaa02f2ff69d96"
  },
  {
   "metadata": {
    "ExecuteTime": {
     "end_time": "2025-06-15T19:26:42.237668Z",
     "start_time": "2025-06-15T19:26:42.206445Z"
    }
   },
   "cell_type": "code",
   "source": [
    "def evaluate_model_on_features(model_path=\"best_model.pth\", data_dir=\"val_dataset\", threshold=0.5):\n",
    "    import numpy as np\n",
    "    import matplotlib.pyplot as plt\n",
    "    from sklearn.metrics import (\n",
    "        accuracy_score, precision_score, recall_score, f1_score,\n",
    "        roc_auc_score, confusion_matrix, classification_report,\n",
    "        roc_curve, precision_recall_curve\n",
    "    )\n",
    "    import os\n",
    "    import torch\n",
    "    import torch.nn as nn\n",
    "\n",
    "    # Модель та же, что использовалась при обучении(опять вставил для удобства, что бы не было необходимости запускать предыдущие ячейки)\n",
    "    class FrameClassifier(nn.Module):\n",
    "        def __init__(self, input_dim=1000, hidden_dim=256):\n",
    "            super().__init__()\n",
    "            self.net = nn.Sequential(\n",
    "                nn.Linear(input_dim, hidden_dim),\n",
    "                nn.ReLU(),\n",
    "                nn.Dropout(0.3),\n",
    "                nn.Linear(hidden_dim, 1),\n",
    "                nn.Sigmoid()\n",
    "            )\n",
    "        def forward(self, x):\n",
    "            return self.net(x).squeeze(-1)\n",
    "\n",
    "    device = torch.device(\"cuda\" if torch.cuda.is_available() else \"cpu\")\n",
    "\n",
    "    # Загружаем модель\n",
    "    model = FrameClassifier().to(device)\n",
    "    model.load_state_dict(torch.load(model_path, map_location=device))\n",
    "    model.eval()\n",
    "\n",
    "    all_preds = []\n",
    "    all_targets = []\n",
    "\n",
    "    for file in os.listdir(data_dir):\n",
    "        if file.endswith(\".pt\"):\n",
    "            data = torch.load(os.path.join(data_dir, file))\n",
    "            features = data[\"features\"].to(device)\n",
    "            targets = data[\"labels\"].to(device).float()\n",
    "\n",
    "            with torch.no_grad():\n",
    "                probs = model(features).squeeze()\n",
    "\n",
    "            all_preds.append(probs.cpu().numpy())\n",
    "            all_targets.append(targets.cpu().numpy())\n",
    "\n",
    "    preds = np.concatenate(all_preds)\n",
    "    targets = np.concatenate(all_targets)\n",
    "    bin_preds = (preds >= threshold).astype(int)\n",
    "\n",
    "    # Метрики\n",
    "    acc = accuracy_score(targets, bin_preds)\n",
    "    prec = precision_score(targets, bin_preds, zero_division=0)\n",
    "    rec = recall_score(targets, bin_preds, zero_division=0)\n",
    "    f1 = f1_score(targets, bin_preds, zero_division=0)\n",
    "    roc_auc = roc_auc_score(targets, preds)\n",
    "\n",
    "    print(\"📊 Evaluation Metrics:\")\n",
    "    print(f\"Accuracy:  {acc:.4f}\")\n",
    "    print(f\"Precision: {prec:.4f}\")\n",
    "    print(f\"Recall:    {rec:.4f}\")\n",
    "    print(f\"F1-score:  {f1:.4f}\")\n",
    "    print(f\"ROC AUC:   {roc_auc:.4f}\\n\")\n",
    "\n",
    "    print(\"Confusion Matrix:\")\n",
    "    print(confusion_matrix(targets, bin_preds))\n",
    "    print(\"\\nClassification Report:\")\n",
    "    print(classification_report(targets, bin_preds, digits=4))\n",
    "\n",
    "    # Визуализация\n",
    "    fpr, tpr, _ = roc_curve(targets, preds)\n",
    "    precisions, recalls, _ = precision_recall_curve(targets, preds)\n",
    "\n",
    "    plt.figure(figsize=(12, 5))\n",
    "\n",
    "    plt.subplot(1, 2, 1)\n",
    "    plt.plot(fpr, tpr, label=f\"AUC = {roc_auc:.4f}\")\n",
    "    plt.plot([0, 1], [0, 1], \"k--\")\n",
    "    plt.xlabel(\"False Positive Rate\")\n",
    "    plt.ylabel(\"True Positive Rate\")\n",
    "    plt.title(\"ROC Curve\")\n",
    "    plt.legend()\n",
    "\n",
    "    plt.subplot(1, 2, 2)\n",
    "    plt.plot(recalls, precisions)\n",
    "    plt.xlabel(\"Recall\")\n",
    "    plt.ylabel(\"Precision\")\n",
    "    plt.title(\"Precision-Recall Curve\")\n",
    "\n",
    "    plt.tight_layout()\n",
    "    plt.show()\n"
   ],
   "id": "3361b83bf3bccf12",
   "outputs": [],
   "execution_count": 19
  },
  {
   "metadata": {
    "ExecuteTime": {
     "end_time": "2025-06-15T19:26:47.675271Z",
     "start_time": "2025-06-15T19:26:45.787237Z"
    }
   },
   "cell_type": "code",
   "source": "evaluate_model_on_features(model_path=\"best_model.pth\", data_dir=\"val_dataset\")\n",
   "id": "a07cfe858e876eac",
   "outputs": [
    {
     "name": "stdout",
     "output_type": "stream",
     "text": [
      "📊 Evaluation Metrics:\n",
      "Accuracy:  0.9951\n",
      "Precision: 0.9189\n",
      "Recall:    0.7235\n",
      "F1-score:  0.8096\n",
      "ROC AUC:   0.9918\n",
      "\n",
      "Confusion Matrix:\n",
      "[[90984    85]\n",
      " [  368   963]]\n",
      "\n",
      "Classification Report:\n",
      "              precision    recall  f1-score   support\n",
      "\n",
      "         0.0     0.9960    0.9991    0.9975     91069\n",
      "         1.0     0.9189    0.7235    0.8096      1331\n",
      "\n",
      "    accuracy                         0.9951     92400\n",
      "   macro avg     0.9574    0.8613    0.9036     92400\n",
      "weighted avg     0.9949    0.9951    0.9948     92400\n",
      "\n"
     ]
    },
    {
     "data": {
      "text/plain": [
       "<Figure size 1200x500 with 2 Axes>"
      ],
      "image/png": "[encoded data removed]"
     },
     "metadata": {},
     "output_type": "display_data"
    }
   ],
   "execution_count": 20
  }
 ],
 "metadata": {
  "kernelspec": {
   "display_name": "Python 3",
   "language": "python",
   "name": "python3"
  },
  "language_info": {
   "codemirror_mode": {
    "name": "ipython",
    "version": 2
   },
   "file_extension": ".py",
   "mimetype": "text/x-python",
   "name": "python",
   "nbconvert_exporter": "python",
   "pygments_lexer": "ipython2",
   "version": "2.7.6"
  }
 },
 "nbformat": 4,
 "nbformat_minor": 5
}
